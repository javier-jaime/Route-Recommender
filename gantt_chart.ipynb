{
  "cells": [
    {
      "cell_type": "markdown",
      "metadata": {
        "id": "view-in-github",
        "colab_type": "text"
      },
      "source": [
        "<a href=\"https://colab.research.google.com/github/javier-jaime/Route-Recommender/blob/main/gantt_chart.ipynb\" target=\"_parent\"><img src=\"https://colab.research.google.com/assets/colab-badge.svg\" alt=\"Open In Colab\"/></a>"
      ]
    },
    {
      "cell_type": "markdown",
      "source": [
        "### Install necessary libraries"
      ],
      "metadata": {
        "id": "dai1EbYpbpSy"
      }
    },
    {
      "cell_type": "code",
      "source": [
        "!pip install chart_studio"
      ],
      "metadata": {
        "colab": {
          "base_uri": "https://localhost:8080/"
        },
        "id": "9JiRaIFsYvzL",
        "outputId": "5650336c-a611-45e6-cf43-ebfeedf45a07"
      },
      "execution_count": null,
      "outputs": [
        {
          "output_type": "stream",
          "name": "stdout",
          "text": [
            "Looking in indexes: https://pypi.org/simple, https://us-python.pkg.dev/colab-wheels/public/simple/\n",
            "Requirement already satisfied: chart_studio in /usr/local/lib/python3.7/dist-packages (1.1.0)\n",
            "Requirement already satisfied: retrying>=1.3.3 in /usr/local/lib/python3.7/dist-packages (from chart_studio) (1.3.3)\n",
            "Requirement already satisfied: plotly in /usr/local/lib/python3.7/dist-packages (from chart_studio) (5.5.0)\n",
            "Requirement already satisfied: six in /usr/local/lib/python3.7/dist-packages (from chart_studio) (1.15.0)\n",
            "Requirement already satisfied: requests in /usr/local/lib/python3.7/dist-packages (from chart_studio) (2.23.0)\n",
            "Requirement already satisfied: tenacity>=6.2.0 in /usr/local/lib/python3.7/dist-packages (from plotly->chart_studio) (8.1.0)\n",
            "Requirement already satisfied: chardet<4,>=3.0.2 in /usr/local/lib/python3.7/dist-packages (from requests->chart_studio) (3.0.4)\n",
            "Requirement already satisfied: urllib3!=1.25.0,!=1.25.1,<1.26,>=1.21.1 in /usr/local/lib/python3.7/dist-packages (from requests->chart_studio) (1.24.3)\n",
            "Requirement already satisfied: idna<3,>=2.5 in /usr/local/lib/python3.7/dist-packages (from requests->chart_studio) (2.10)\n",
            "Requirement already satisfied: certifi>=2017.4.17 in /usr/local/lib/python3.7/dist-packages (from requests->chart_studio) (2022.9.24)\n"
          ]
        }
      ]
    },
    {
      "cell_type": "code",
      "source": [
        "import pandas as pd\n",
        "import plotly.express as px\n",
        "import plotly.figure_factory as ff\n",
        "import plotly.graph_objs as go\n",
        "import chart_studio\n",
        "import chart_studio.plotly as py \n",
        "import chart_studio.tools as tls\n",
        "from google.colab import drive\n",
        "from google.colab import files\n",
        "from google.colab import output\n",
        "output.enable_custom_widget_manager()"
      ],
      "metadata": {
        "id": "gj-TWxYAY2r2"
      },
      "execution_count": null,
      "outputs": []
    },
    {
      "cell_type": "markdown",
      "source": [
        "## Read the dataset"
      ],
      "metadata": {
        "id": "mOJm9nLmb18K"
      }
    },
    {
      "cell_type": "code",
      "source": [
        "# Mount Google Drive\n",
        "\n",
        "drive.mount('/content/drive')"
      ],
      "metadata": {
        "colab": {
          "base_uri": "https://localhost:8080/"
        },
        "id": "xd_6b7puZI1I",
        "outputId": "5855a347-cf0c-4e5a-ec86-4c777ceb78b6"
      },
      "execution_count": null,
      "outputs": [
        {
          "output_type": "stream",
          "name": "stdout",
          "text": [
            "Drive already mounted at /content/drive; to attempt to forcibly remount, call drive.mount(\"/content/drive\", force_remount=True).\n"
          ]
        }
      ]
    },
    {
      "cell_type": "code",
      "source": [
        "# Read dataset from CSV in Google Drive to Pandas Data Frame\n",
        "df = pd.read_csv('drive/MyDrive/Colab_Data/gantt_chart_new.csv',encoding='latin1')\n",
        "df['Start'] = df['Start'].astype('datetime64')\n",
        "df['Finish'] = df['Finish'].astype('datetime64')\n",
        "print(df.dtypes)\n",
        "print(df.head())"
      ],
      "metadata": {
        "colab": {
          "base_uri": "https://localhost:8080/"
        },
        "id": "isMUm-jRcDp_",
        "outputId": "88fa701f-de79-42d6-8018-9e145009d8fe"
      },
      "execution_count": null,
      "outputs": [
        {
          "output_type": "stream",
          "name": "stdout",
          "text": [
            "Task                 object\n",
            "Start        datetime64[ns]\n",
            "Finish       datetime64[ns]\n",
            "Dimension            object\n",
            "Resource             object\n",
            "dtype: object\n",
            "                                                Task      Start     Finish  \\\n",
            "0                                    Results of Task 2021-03-17 2021-03-31   \n",
            "1  Establish and agree upon Agile standards/frame... 2021-01-01 2021-01-15   \n",
            "2     Communicate Agile structure to business groups 2021-01-16 2021-01-30   \n",
            "3                              Select proper tooling 2021-01-31 2021-02-14   \n",
            "4                                    Results of Task 2021-03-17 2021-03-31   \n",
            "\n",
            "  Dimension                                   Resource  \n",
            "0    People                       Agile DevOps Culture  \n",
            "1    People                       Agile DevOps Culture  \n",
            "2    People                       Agile DevOps Culture  \n",
            "3    People                       Agile DevOps Culture  \n",
            "4    People  Organizational Design and Operating Model  \n"
          ]
        }
      ]
    },
    {
      "cell_type": "markdown",
      "source": [
        "## Create the Gantt Chart"
      ],
      "metadata": {
        "id": "7ko-mbGMcMxi"
      }
    },
    {
      "cell_type": "code",
      "execution_count": null,
      "metadata": {
        "colab": {
          "base_uri": "https://localhost:8080/",
          "height": 837
        },
        "id": "TFee6jTrXwp_",
        "outputId": "a7d6021e-37d6-41f3-84f2-fd036f5bd96e"
      },
      "outputs": [
        {
          "output_type": "display_data",
          "data": {
            "text/html": [
              "<html>\n",
              "<head><meta charset=\"utf-8\" /></head>\n",
              "<body>\n",
              "    <div>            <script src=\"https://cdnjs.cloudflare.com/ajax/libs/mathjax/2.7.5/MathJax.js?config=TeX-AMS-MML_SVG\"></script><script type=\"text/javascript\">if (window.MathJax) {MathJax.Hub.Config({SVG: {font: \"STIX-Web\"}});}</script>                <script type=\"text/javascript\">window.PlotlyConfig = {MathJaxConfig: 'local'};</script>\n",
              "        <script src=\"https://cdn.plot.ly/plotly-2.8.3.min.js\"></script>                <div id=\"531f85cb-6065-495f-bf60-52fa939d7d2f\" class=\"plotly-graph-div\" style=\"height:800px; width:1500px;\"></div>            <script type=\"text/javascript\">                                    window.PLOTLYENV=window.PLOTLYENV || {};                                    if (document.getElementById(\"531f85cb-6065-495f-bf60-52fa939d7d2f\")) {                    Plotly.newPlot(                        \"531f85cb-6065-495f-bf60-52fa939d7d2f\",                        [{\"alignmentgroup\":\"True\",\"base\":[\"2021-03-17T00:00:00\",\"2021-01-01T00:00:00\",\"2021-01-16T00:00:00\",\"2021-01-31T00:00:00\",\"2021-03-17T00:00:00\",\"2021-01-01T00:00:00\",\"2021-01-16T00:00:00\",\"2021-01-31T00:00:00\",\"2021-02-15T00:00:00\",\"2021-03-02T00:00:00\"],\"hovertemplate\":\"<b>%{hovertext}</b><br><br>Dimension=People<br>Start=%{base}<br>Finish=%{x}<br>Resource=%{y}<extra></extra>\",\"hovertext\":[\"Results of Task\",\"Establish and agree upon Agile standards/framework\",\"Communicate Agile structure to business groups\",\"Select proper tooling\",\"Results of Task\",\"Refine analytic data use operating model\",\"Define analytic persona\\u0092s and use cases\",\"Define operational data use operating model\",\"Define operational persona\\u0092s and use cases \",\"Define standard \"],\"legendgroup\":\"People\",\"marker\":{\"color\":\"rgb(95, 70, 144)\",\"opacity\":0.7,\"line\":{\"color\":\"rgb(8,48,107)\",\"width\":1.5}},\"name\":\"People\",\"offsetgroup\":\"People\",\"orientation\":\"h\",\"showlegend\":true,\"textposition\":\"auto\",\"x\":[1209600000.0,1209600000.0,1209600000.0,1209600000.0,1209600000.0,1209600000.0,1209600000.0,1209600000.0,1209600000.0,1209600000.0],\"xaxis\":\"x\",\"y\":[\"Agile DevOps Culture\",\"Agile DevOps Culture\",\"Agile DevOps Culture\",\"Agile DevOps Culture\",\"Organizational Design and Operating Model\",\"Organizational Design and Operating Model\",\"Organizational Design and Operating Model\",\"Organizational Design and Operating Model\",\"Organizational Design and Operating Model\",\"Organizational Design and Operating Model\"],\"yaxis\":\"y\",\"type\":\"bar\",\"opacity\":0.95},{\"alignmentgroup\":\"True\",\"base\":[\"2021-03-17T00:00:00\",\"2021-04-01T00:00:00\",\"2021-04-16T00:00:00\",\"2021-03-17T00:00:00\",\"2021-03-18T00:00:00\",\"2021-03-19T00:00:00\",\"2021-03-17T00:00:00\",\"2021-04-01T00:00:00\",\"2021-04-16T00:00:00\",\"2021-05-01T00:00:00\",\"2021-05-16T00:00:00\",\"2021-04-01T00:00:00\",\"2021-04-16T00:00:00\",\"2021-09-16T00:00:00\",\"2021-07-01T00:00:00\",\"2021-07-16T00:00:00\",\"2021-07-31T00:00:00\",\"2021-08-15T00:00:00\",\"2021-08-30T00:00:00\",\"2021-12-17T00:00:00\",\"2021-10-01T00:00:00\"],\"hovertemplate\":\"<b>%{hovertext}</b><br><br>Dimension=Process<br>Start=%{base}<br>Finish=%{x}<br>Resource=%{y}<extra></extra>\",\"hovertext\":[\"Results of Task\",\"ID appropriate use case requirements for applying \\nmethodology (i.e. what are expectations from the \\nbusiness, what are deliverable expectations etc.)\",\"Create template for data use stories (i.e. data sets, data presentation, data analysis, Data validation, advanced analytic stories)\",\"Results of Task\",\"Identify product advisory council attendees\",\"Create governance model/methodology\",\"Results of Task\",\"ID all candidate roles and process to keep bench as opposed to OJT\",\"ID incentive and disincentive components to manage contract\",\"ID candidate partners for various work components\",\"Create methodology to manage bid process and selection \\u0096 partner with procurement\",\"Results of task\",\"Define scope of project\",\"Results of task\",\"ID tools for self-service ties to tools/tech\",\"Determine extent of centrally managed policy engines\",\"What multi-tenancy restrictions should be established\",\"Access control \\u0096 Tie to IT IAM strategy\",\"Evaluate security, PHI, access restrictions\",\"Results of task\",\"Publish product and service catalog outlining initial build/implementation of the product or service as well as the ongoing costs\"],\"legendgroup\":\"Process\",\"marker\":{\"color\":\"rgb(29, 105, 150)\",\"opacity\":0.7,\"line\":{\"color\":\"rgb(8,48,107)\",\"width\":1.5}},\"name\":\"Process\",\"offsetgroup\":\"Process\",\"orientation\":\"h\",\"showlegend\":true,\"textposition\":\"auto\",\"x\":[1209600000.0,1209600000.0,1209600000.0,1209600000.0,1209600000.0,1209600000.0,1209600000.0,1209600000.0,1209600000.0,1209600000.0,1209600000.0,1209600000.0,6480000000.0,1209600000.0,1209600000.0,1209600000.0,1209600000.0,1209600000.0,1209600000.0,1209600000.0,7862400000.0],\"xaxis\":\"x\",\"y\":[\"Delivery Methodology-Agile, RAD, DevOps, Left Testing, TDD, Low-Code\",\"Delivery Methodology-Agile, RAD, DevOps, Left Testing, TDD, Low-Code\",\"Delivery Methodology-Agile, RAD, DevOps, Left Testing, TDD, Low-Code\",\"Product Mgmt Evolution-Product Advisory Council\",\"Product Mgmt Evolution-Product Advisory Council\",\"Product Mgmt Evolution-Product Advisory Council\",\"Expansion of Managed Service Arrangements\",\"Expansion of Managed Service Arrangements\",\"Expansion of Managed Service Arrangements\",\"Expansion of Managed Service Arrangements\",\"Expansion of Managed Service Arrangements\",\"DevOps, DataOps, MLOps\",\"DevOps, DataOps, MLOps\",\"Expansion of Self-Service Models\",\"Expansion of Self-Service Models\",\"Expansion of Self-Service Models\",\"Expansion of Self-Service Models\",\"Expansion of Self-Service Models\",\"Expansion of Self-Service Models\",\"Financial Transparency Process Dev\",\"Financial Transparency Process Dev\"],\"yaxis\":\"y\",\"type\":\"bar\",\"opacity\":0.95},{\"alignmentgroup\":\"True\",\"base\":[\"2021-12-17T00:00:00\",\"2021-01-01T00:00:00\",\"2021-01-27T00:00:00\",\"2021-02-22T00:00:00\",\"2021-03-20T00:00:00\",\"2021-04-15T00:00:00\",\"2021-05-11T00:00:00\",\"2021-06-06T00:00:00\",\"2021-07-02T00:00:00\",\"2021-07-28T00:00:00\",\"2021-08-23T00:00:00\",\"2021-09-18T00:00:00\",\"2021-10-14T00:00:00\",\"2021-11-09T00:00:00\",\"2021-12-17T00:00:00\",\"2021-04-01T00:00:00\",\"2021-04-16T00:00:00\",\"2021-06-01T00:00:00\",\"2021-07-02T00:00:00\",\"2021-08-02T00:00:00\",\"2021-09-02T00:00:00\",\"2021-09-16T00:00:00\",\"2021-07-01T00:00:00\",\"2021-07-16T00:00:00\",\"2021-07-31T00:00:00\",\"2021-08-15T00:00:00\",\"2021-08-30T00:00:00\",\"2021-09-14T00:00:00\",\"2021-09-29T00:00:00\",\"2021-10-01T00:00:00\",\"2021-09-16T00:00:00\",\"2021-07-01T00:00:00\",\"2021-07-12T00:00:00\",\"2021-07-23T00:00:00\",\"2021-08-03T00:00:00\",\"2021-08-14T00:00:00\",\"2021-08-25T00:00:00\",\"2021-09-05T00:00:00\",\"2021-09-16T00:00:00\",\"2021-09-27T00:00:00\",\"2021-12-17T00:00:00\",\"2021-10-01T00:00:00\",\"2021-10-12T00:00:00\",\"2021-10-23T00:00:00\",\"2021-11-03T00:00:00\",\"2021-11-14T00:00:00\",\"2021-11-25T00:00:00\",\"2021-12-06T00:00:00\",\"2021-12-17T00:00:00\",\"2021-12-24T00:00:00\",\"2021-12-28T00:00:00\",\"2021-12-17T00:00:00\",\"2021-01-01T00:00:00\",\"2021-02-16T00:00:00\",\"2021-03-19T00:00:00\",\"2021-04-19T00:00:00\",\"2021-05-20T00:00:00\",\"2021-06-20T00:00:00\",\"2021-07-21T00:00:00\",\"2021-08-21T00:00:00\",\"2021-09-21T00:00:00\",\"2021-12-17T00:00:00\",\"2021-10-01T00:00:00\",\"2021-10-16T00:00:00\",\"2021-10-25T00:00:00\",\"2021-11-03T00:00:00\",\"2021-11-12T00:00:00\",\"2021-11-21T00:00:00\",\"2021-11-30T00:00:00\",\"2021-12-09T00:00:00\",\"2021-12-18T00:00:00\",\"2021-12-27T00:00:00\"],\"hovertemplate\":\"<b>%{hovertext}</b><br><br>Dimension=Technology<br>Start=%{base}<br>Finish=%{x}<br>Resource=%{y}<extra></extra>\",\"hovertext\":[\"Results of task\",\"ID standard tools for self-service\",\"Create governance and methodology use cases\",\"Create training protocol for tool consumption\",\"Database/System design for persistent data to be stored on remote, network attached storage\",\"Identify systems requirements\",\"Technology/vendor selection\",\"Migration effort to be considered; layout strategy\",\"Downstream efforts - existing processes to migrate; how to enable a seamless transition; which approach to use - coexist or turn off/turn on\",\"Enable S3 as primary storage, move away from other storage solutions and determine config\",\"Establish rules/processes to ensure S3 is the primary storage solution\",\"Recompilation and redeployment of jobs is required\",\"Stand up non-prod two node cluster job/script execution\",\"Decommission version 5 by May 21 2021\",\"Results of task\",\"Identify self-service needs/requirements for each group \",\"Identify the right tool for the right purpose\",\"Learning and creating guidelines on how to use new tools\",\"Estimate adoption rate\",\"Gauge time to ramp-up\",\"Evaluate if migration from existing tools to new tools is required\",\"Results of task\",\"Identify compatible tooling\",\"Determine requirements specific for each business group\",\"Identify VDI-based security issues for additional R/Python libraries\",\"Document and communicate procedure to add new ML features/libraries to remote environments\",\"Estimate value of paid tools vs free libraries\",\"Determine if automated ML tools are necessary (Datarobot vs Azure ML)\",\"Gauge level of adoption\",\"Document FAQs and consider questions specific to each business group\",\"Results of task\",\"Determine scope \\u0096 DR, HA, Extent of insight and notification needs\",\"Establish continuous monitoring needs aligned with DevOps\",\"Resiliency testing approach\",\"Monitoring tools\",\"Incident response communication protocol (ties to governance and operating model)\",\"Identify compatible tooling/technology\",\"Consider location/region-based connection practices\",\"Consider multiple physical data center connection locations for resiliency to connectivity failures due to fiber cut, device failure or complete location failure\",\"Determine if dynamically routed and active connections vs. statically routed for load balancing and failover\",\"Results of task\",\"Identify compatible tooling\",\"Determine instance requirements specific for each business group\",\"Launch instances and document keys/passwords\",\"Communicate instance configurations and setup notes to each group\",\"Estimate level of adoption\",\"Predict and document FAQs\",\"Document how to use Microsoft Remote Desktop Apps for Mac users\",\"Install supporting software (R, Python, Firefox etc.)\",\"Identify an owner/manager of compute elasticity/infrastructure operations\",\"Identify rules of engagement and governance for when the process is live\",\"Results of task\",\"Prioritize data pipelines (tie to Data COE)\",\"Pilot analytics in data pipeline (tie to NextBlue AA COE)\",\"Define event streaming hub approach (i.e. people process tech)\",\"Determine appropriate/compatible event streaming tools (Apache Kafka, Hazelcast Jet etc.)\",\"Determine streaming rate requirements specific to each business group\",\"Map out the data flow/data architecture and associated patterns\",\"Identify who will do the publishing framework\",\"Deploy and document\",\"There are dependencies on infrastructure prior to putting this in place\",\"Results of task\",\"Define tools/tech and associated dependencies\",\"Align with cloud COE\",\"Establish development guidelines\",\"Pilot?\",\"Tie to governance and operating model \\u0096 when to use how to use etc.\",\"Determine which tasks will be microservices\",\"Determine tools to run/containerize microservices\",\"Select a microservice deployment strategy (Service Instance per Host, Multiple Service Instances per Host, Service Instance per Virtual Machine etc.)\",\"Determine if you need a cluster manager (Kubernetes, Marathon etc.)\",\"Identify enablement approach\"],\"legendgroup\":\"Technology\",\"marker\":{\"color\":\"rgb(56, 166, 165)\",\"opacity\":0.7,\"line\":{\"color\":\"rgb(8,48,107)\",\"width\":1.5}},\"name\":\"Technology\",\"offsetgroup\":\"Technology\",\"orientation\":\"h\",\"showlegend\":true,\"textposition\":\"auto\",\"x\":[1209600000.0,2160000000.0,2160000000.0,2160000000.0,2160000000.0,2160000000.0,2160000000.0,2160000000.0,2160000000.0,2160000000.0,2160000000.0,2160000000.0,2160000000.0,4492800000.0,1209600000.0,1209600000.0,3888000000.0,2592000000.0,2592000000.0,2592000000.0,10368000000.0,1209600000.0,1209600000.0,1209600000.0,1209600000.0,1209600000.0,1209600000.0,1209600000.0,86400000.0,1209600000.0,1209600000.0,864000000.0,864000000.0,864000000.0,864000000.0,864000000.0,864000000.0,864000000.0,864000000.0,864000000.0,1209600000.0,864000000.0,864000000.0,864000000.0,864000000.0,864000000.0,864000000.0,864000000.0,518400000.0,259200000.0,259200000.0,1209600000.0,3888000000.0,2592000000.0,2592000000.0,2592000000.0,2592000000.0,2592000000.0,2592000000.0,2592000000.0,8726400000.0,1209600000.0,1209600000.0,691200000.0,691200000.0,691200000.0,691200000.0,691200000.0,691200000.0,691200000.0,691200000.0,345600000.0],\"xaxis\":\"x\",\"y\":[\"Decouple compute/storage\",\"Decouple compute/storage\",\"Decouple compute/storage\",\"Decouple compute/storage\",\"Decouple compute/storage\",\"Decouple compute/storage\",\"Decouple compute/storage\",\"Decouple compute/storage\",\"Decouple compute/storage\",\"Decouple compute/storage\",\"Decouple compute/storage\",\"Decouple compute/storage\",\"Decouple compute/storage\",\"Decouple compute/storage\",\"Self-Service Tools\",\"Self-Service Tools\",\"Self-Service Tools\",\"Self-Service Tools\",\"Self-Service Tools\",\"Self-Service Tools\",\"Self-Service Tools\",\"AI/ML Infrastructure/tools\",\"AI/ML Infrastructure/tools\",\"AI/ML Infrastructure/tools\",\"AI/ML Infrastructure/tools\",\"AI/ML Infrastructure/tools\",\"AI/ML Infrastructure/tools\",\"AI/ML Infrastructure/tools\",\"AI/ML Infrastructure/tools\",\"AI/ML Infrastructure/tools\",\"Resilient/Durable\",\"Resilient/Durable\",\"Resilient/Durable\",\"Resilient/Durable\",\"Resilient/Durable\",\"Resilient/Durable\",\"Resilient/Durable\",\"Resilient/Durable\",\"Resilient/Durable\",\"Resilient/Durable\",\"Elastic Infrastructure/Dynamic Compute\",\"Elastic Infrastructure/Dynamic Compute\",\"Elastic Infrastructure/Dynamic Compute\",\"Elastic Infrastructure/Dynamic Compute\",\"Elastic Infrastructure/Dynamic Compute\",\"Elastic Infrastructure/Dynamic Compute\",\"Elastic Infrastructure/Dynamic Compute\",\"Elastic Infrastructure/Dynamic Compute\",\"Elastic Infrastructure/Dynamic Compute\",\"Elastic Infrastructure/Dynamic Compute\",\"Elastic Infrastructure/Dynamic Compute\",\"Event Streaming\",\"Event Streaming\",\"Event Streaming\",\"Event Streaming\",\"Event Streaming\",\"Event Streaming\",\"Event Streaming\",\"Event Streaming\",\"Event Streaming\",\"Event Streaming\",\"Microservices\",\"Microservices\",\"Microservices\",\"Microservices\",\"Microservices\",\"Microservices\",\"Microservices\",\"Microservices\",\"Microservices\",\"Microservices\",\"Microservices\"],\"yaxis\":\"y\",\"type\":\"bar\",\"opacity\":0.95},{\"alignmentgroup\":\"True\",\"base\":[\"2021-12-17T00:00:00\",\"2021-01-01T00:00:00\",\"2021-02-01T00:00:00\",\"2021-03-04T00:00:00\",\"2021-04-04T00:00:00\",\"2021-05-05T00:00:00\",\"2021-06-05T00:00:00\",\"2021-07-06T00:00:00\",\"2021-08-06T00:00:00\",\"2021-12-17T00:00:00\",\"2021-01-01T00:00:00\",\"2021-03-03T00:00:00\",\"2021-05-03T00:00:00\",\"2021-07-03T00:00:00\",\"2021-12-17T00:00:00\",\"2021-01-01T00:00:00\",\"2021-02-01T00:00:00\",\"2021-03-04T00:00:00\",\"2021-04-04T00:00:00\",\"2021-05-05T00:00:00\",\"2021-06-05T00:00:00\",\"2021-07-06T00:00:00\",\"2021-08-06T00:00:00\",\"2021-09-06T00:00:00\",\"2021-10-07T00:00:00\",\"2021-11-07T00:00:00\",\"2021-12-17T00:00:00\",\"2021-01-01T00:00:00\",\"2021-03-03T00:00:00\",\"2021-05-03T00:00:00\",\"2021-12-17T00:00:00\",\"2021-01-01T00:00:00\",\"2021-03-03T00:00:00\",\"2021-05-03T00:00:00\",\"2021-07-03T00:00:00\",\"2021-09-02T00:00:00\"],\"hovertemplate\":\"<b>%{hovertext}</b><br><br>Dimension=Technology - Date TBD<br>Start=%{base}<br>Finish=%{x}<br>Resource=%{y}<extra></extra>\",\"hovertext\":[\"Results of task\",\"Define tools/tech and associated dependencies\",\"Align with cloud COE\",\"Establish development guidelines\",\"Pilot?\",\"Tie to governance and operating model \\u0096 when to use how to use etc.\",\"Determine whether to containerize existing legacy application without refactoring into microservices\",\"Identify barriers between security and devops\",\"Determine drawbacks: such as container infrastructure is not as mature or secure as the infrastructure for VMs (containers share the kernel of the host OS with one another)\",\"Results of task\",\"Identify a back-end physical infrastructure to enable digital tools\",\"Evaluate a hybrid cloud strategy (with an eye for the worker UX)\",\"Evaluate existing support services for the workplace\",\"Implement technology for a real-time, 360 view of the UX\",\"Results of task\",\"Orchestration and management of services, applications and data flow\",\"Automation of business processes\",\"Establishment of federated security and Single Sign-On\",\"System logging and monitoring\",\"Data analysis, reporting and predictions\",\"Monitoring of mobile and IoT devices\",\"Implementation of Big Data solutions\",\"Centralized (mobile ready) web solutions for clients and employees\",\"Scalability and high-load support\",\"SaaS and multi-tenancy support\",\"Centralized control of infrastructure management etc.\",\"Results of task\",\"Determine compatible tools\",\"Identify downfalls of low code platforms\",\"Estimate adoption rate\",\"Results of task\",\"Determine the FHIR server architecture\",\"Determine compatibility of servers and FHIR versions to ensure interoperability\",\"Understand the APIs as well as the level of completion per API\",\"Identify where to put/install the FHIR server\",\"Estimate adoption rate\"],\"legendgroup\":\"Technology - Date TBD\",\"marker\":{\"color\":\"rgb(15, 133, 84)\",\"opacity\":0.7,\"line\":{\"color\":\"rgb(8,48,107)\",\"width\":1.5}},\"name\":\"Technology - Date TBD\",\"offsetgroup\":\"Technology - Date TBD\",\"orientation\":\"h\",\"showlegend\":true,\"textposition\":\"auto\",\"x\":[1209600000.0,2592000000.0,2592000000.0,2592000000.0,2592000000.0,2592000000.0,2592000000.0,2592000000.0,12700800000.0,1209600000.0,5184000000.0,5184000000.0,5184000000.0,15638400000.0,1209600000.0,2592000000.0,2592000000.0,2592000000.0,2592000000.0,2592000000.0,2592000000.0,2592000000.0,2592000000.0,2592000000.0,2592000000.0,4665600000.0,1209600000.0,5184000000.0,5184000000.0,20908800000.0,1209600000.0,5184000000.0,5184000000.0,5184000000.0,5184000000.0,10368000000.0],\"xaxis\":\"x\",\"y\":[\"Containerization \",\"Containerization \",\"Containerization \",\"Containerization \",\"Containerization \",\"Containerization \",\"Containerization \",\"Containerization \",\"Containerization \",\"Hybrid Cloud Governance, Security and UX, Data Arch, Data Quality Mgmt\",\"Hybrid Cloud Governance, Security and UX, Data Arch, Data Quality Mgmt\",\"Hybrid Cloud Governance, Security and UX, Data Arch, Data Quality Mgmt\",\"Hybrid Cloud Governance, Security and UX, Data Arch, Data Quality Mgmt\",\"Hybrid Cloud Governance, Security and UX, Data Arch, Data Quality Mgmt\",\"Enterprise Orchestration\",\"Enterprise Orchestration\",\"Enterprise Orchestration\",\"Enterprise Orchestration\",\"Enterprise Orchestration\",\"Enterprise Orchestration\",\"Enterprise Orchestration\",\"Enterprise Orchestration\",\"Enterprise Orchestration\",\"Enterprise Orchestration\",\"Enterprise Orchestration\",\"Enterprise Orchestration\",\"Low-Code Dev Tools\",\"Low-Code Dev Tools\",\"Low-Code Dev Tools\",\"Low-Code Dev Tools\",\"FHIR Data Architecture\",\"FHIR Data Architecture\",\"FHIR Data Architecture\",\"FHIR Data Architecture\",\"FHIR Data Architecture\",\"FHIR Data Architecture\"],\"yaxis\":\"y\",\"type\":\"bar\",\"opacity\":0.95},{\"alignmentgroup\":\"True\",\"base\":[\"2021-12-17T00:00:00\",\"2021-01-01T00:00:00\"],\"hovertemplate\":\"<b>%{hovertext}</b><br><br>Dimension=Process - Date TBD<br>Start=%{base}<br>Finish=%{x}<br>Resource=%{y}<extra></extra>\",\"hovertext\":[\"Results of task\",\"ID priority governance model evaluation needs \\u0096 self-service, machine learning model productionalization, operational area use and interaction\"],\"legendgroup\":\"Process - Date TBD\",\"marker\":{\"color\":\"rgb(115, 175, 72)\",\"opacity\":0.7,\"line\":{\"color\":\"rgb(8,48,107)\",\"width\":1.5}},\"name\":\"Process - Date TBD\",\"offsetgroup\":\"Process - Date TBD\",\"orientation\":\"h\",\"showlegend\":true,\"textposition\":\"auto\",\"x\":[1209600000.0,31449600000.0],\"xaxis\":\"x\",\"y\":[\"Governance Model Dev-Self-Service, Productionization, Lineage\",\"Governance Model Dev-Self-Service, Productionization, Lineage\"],\"yaxis\":\"y\",\"type\":\"bar\",\"opacity\":0.95}],                        {\"template\":{\"data\":{\"barpolar\":[{\"marker\":{\"line\":{\"color\":\"white\",\"width\":0.5},\"pattern\":{\"fillmode\":\"overlay\",\"size\":10,\"solidity\":0.2}},\"type\":\"barpolar\"}],\"bar\":[{\"error_x\":{\"color\":\"#2a3f5f\"},\"error_y\":{\"color\":\"#2a3f5f\"},\"marker\":{\"line\":{\"color\":\"white\",\"width\":0.5},\"pattern\":{\"fillmode\":\"overlay\",\"size\":10,\"solidity\":0.2}},\"type\":\"bar\"}],\"carpet\":[{\"aaxis\":{\"endlinecolor\":\"#2a3f5f\",\"gridcolor\":\"#C8D4E3\",\"linecolor\":\"#C8D4E3\",\"minorgridcolor\":\"#C8D4E3\",\"startlinecolor\":\"#2a3f5f\"},\"baxis\":{\"endlinecolor\":\"#2a3f5f\",\"gridcolor\":\"#C8D4E3\",\"linecolor\":\"#C8D4E3\",\"minorgridcolor\":\"#C8D4E3\",\"startlinecolor\":\"#2a3f5f\"},\"type\":\"carpet\"}],\"choropleth\":[{\"colorbar\":{\"outlinewidth\":0,\"ticks\":\"\"},\"type\":\"choropleth\"}],\"contourcarpet\":[{\"colorbar\":{\"outlinewidth\":0,\"ticks\":\"\"},\"type\":\"contourcarpet\"}],\"contour\":[{\"colorbar\":{\"outlinewidth\":0,\"ticks\":\"\"},\"colorscale\":[[0.0,\"#0d0887\"],[0.1111111111111111,\"#46039f\"],[0.2222222222222222,\"#7201a8\"],[0.3333333333333333,\"#9c179e\"],[0.4444444444444444,\"#bd3786\"],[0.5555555555555556,\"#d8576b\"],[0.6666666666666666,\"#ed7953\"],[0.7777777777777778,\"#fb9f3a\"],[0.8888888888888888,\"#fdca26\"],[1.0,\"#f0f921\"]],\"type\":\"contour\"}],\"heatmapgl\":[{\"colorbar\":{\"outlinewidth\":0,\"ticks\":\"\"},\"colorscale\":[[0.0,\"#0d0887\"],[0.1111111111111111,\"#46039f\"],[0.2222222222222222,\"#7201a8\"],[0.3333333333333333,\"#9c179e\"],[0.4444444444444444,\"#bd3786\"],[0.5555555555555556,\"#d8576b\"],[0.6666666666666666,\"#ed7953\"],[0.7777777777777778,\"#fb9f3a\"],[0.8888888888888888,\"#fdca26\"],[1.0,\"#f0f921\"]],\"type\":\"heatmapgl\"}],\"heatmap\":[{\"colorbar\":{\"outlinewidth\":0,\"ticks\":\"\"},\"colorscale\":[[0.0,\"#0d0887\"],[0.1111111111111111,\"#46039f\"],[0.2222222222222222,\"#7201a8\"],[0.3333333333333333,\"#9c179e\"],[0.4444444444444444,\"#bd3786\"],[0.5555555555555556,\"#d8576b\"],[0.6666666666666666,\"#ed7953\"],[0.7777777777777778,\"#fb9f3a\"],[0.8888888888888888,\"#fdca26\"],[1.0,\"#f0f921\"]],\"type\":\"heatmap\"}],\"histogram2dcontour\":[{\"colorbar\":{\"outlinewidth\":0,\"ticks\":\"\"},\"colorscale\":[[0.0,\"#0d0887\"],[0.1111111111111111,\"#46039f\"],[0.2222222222222222,\"#7201a8\"],[0.3333333333333333,\"#9c179e\"],[0.4444444444444444,\"#bd3786\"],[0.5555555555555556,\"#d8576b\"],[0.6666666666666666,\"#ed7953\"],[0.7777777777777778,\"#fb9f3a\"],[0.8888888888888888,\"#fdca26\"],[1.0,\"#f0f921\"]],\"type\":\"histogram2dcontour\"}],\"histogram2d\":[{\"colorbar\":{\"outlinewidth\":0,\"ticks\":\"\"},\"colorscale\":[[0.0,\"#0d0887\"],[0.1111111111111111,\"#46039f\"],[0.2222222222222222,\"#7201a8\"],[0.3333333333333333,\"#9c179e\"],[0.4444444444444444,\"#bd3786\"],[0.5555555555555556,\"#d8576b\"],[0.6666666666666666,\"#ed7953\"],[0.7777777777777778,\"#fb9f3a\"],[0.8888888888888888,\"#fdca26\"],[1.0,\"#f0f921\"]],\"type\":\"histogram2d\"}],\"histogram\":[{\"marker\":{\"pattern\":{\"fillmode\":\"overlay\",\"size\":10,\"solidity\":0.2}},\"type\":\"histogram\"}],\"mesh3d\":[{\"colorbar\":{\"outlinewidth\":0,\"ticks\":\"\"},\"type\":\"mesh3d\"}],\"parcoords\":[{\"line\":{\"colorbar\":{\"outlinewidth\":0,\"ticks\":\"\"}},\"type\":\"parcoords\"}],\"pie\":[{\"automargin\":true,\"type\":\"pie\"}],\"scatter3d\":[{\"line\":{\"colorbar\":{\"outlinewidth\":0,\"ticks\":\"\"}},\"marker\":{\"colorbar\":{\"outlinewidth\":0,\"ticks\":\"\"}},\"type\":\"scatter3d\"}],\"scattercarpet\":[{\"marker\":{\"colorbar\":{\"outlinewidth\":0,\"ticks\":\"\"}},\"type\":\"scattercarpet\"}],\"scattergeo\":[{\"marker\":{\"colorbar\":{\"outlinewidth\":0,\"ticks\":\"\"}},\"type\":\"scattergeo\"}],\"scattergl\":[{\"marker\":{\"colorbar\":{\"outlinewidth\":0,\"ticks\":\"\"}},\"type\":\"scattergl\"}],\"scattermapbox\":[{\"marker\":{\"colorbar\":{\"outlinewidth\":0,\"ticks\":\"\"}},\"type\":\"scattermapbox\"}],\"scatterpolargl\":[{\"marker\":{\"colorbar\":{\"outlinewidth\":0,\"ticks\":\"\"}},\"type\":\"scatterpolargl\"}],\"scatterpolar\":[{\"marker\":{\"colorbar\":{\"outlinewidth\":0,\"ticks\":\"\"}},\"type\":\"scatterpolar\"}],\"scatter\":[{\"marker\":{\"colorbar\":{\"outlinewidth\":0,\"ticks\":\"\"}},\"type\":\"scatter\"}],\"scatterternary\":[{\"marker\":{\"colorbar\":{\"outlinewidth\":0,\"ticks\":\"\"}},\"type\":\"scatterternary\"}],\"surface\":[{\"colorbar\":{\"outlinewidth\":0,\"ticks\":\"\"},\"colorscale\":[[0.0,\"#0d0887\"],[0.1111111111111111,\"#46039f\"],[0.2222222222222222,\"#7201a8\"],[0.3333333333333333,\"#9c179e\"],[0.4444444444444444,\"#bd3786\"],[0.5555555555555556,\"#d8576b\"],[0.6666666666666666,\"#ed7953\"],[0.7777777777777778,\"#fb9f3a\"],[0.8888888888888888,\"#fdca26\"],[1.0,\"#f0f921\"]],\"type\":\"surface\"}],\"table\":[{\"cells\":{\"fill\":{\"color\":\"#EBF0F8\"},\"line\":{\"color\":\"white\"}},\"header\":{\"fill\":{\"color\":\"#C8D4E3\"},\"line\":{\"color\":\"white\"}},\"type\":\"table\"}]},\"layout\":{\"annotationdefaults\":{\"arrowcolor\":\"#2a3f5f\",\"arrowhead\":0,\"arrowwidth\":1},\"autotypenumbers\":\"strict\",\"coloraxis\":{\"colorbar\":{\"outlinewidth\":0,\"ticks\":\"\"}},\"colorscale\":{\"diverging\":[[0,\"#8e0152\"],[0.1,\"#c51b7d\"],[0.2,\"#de77ae\"],[0.3,\"#f1b6da\"],[0.4,\"#fde0ef\"],[0.5,\"#f7f7f7\"],[0.6,\"#e6f5d0\"],[0.7,\"#b8e186\"],[0.8,\"#7fbc41\"],[0.9,\"#4d9221\"],[1,\"#276419\"]],\"sequential\":[[0.0,\"#0d0887\"],[0.1111111111111111,\"#46039f\"],[0.2222222222222222,\"#7201a8\"],[0.3333333333333333,\"#9c179e\"],[0.4444444444444444,\"#bd3786\"],[0.5555555555555556,\"#d8576b\"],[0.6666666666666666,\"#ed7953\"],[0.7777777777777778,\"#fb9f3a\"],[0.8888888888888888,\"#fdca26\"],[1.0,\"#f0f921\"]],\"sequentialminus\":[[0.0,\"#0d0887\"],[0.1111111111111111,\"#46039f\"],[0.2222222222222222,\"#7201a8\"],[0.3333333333333333,\"#9c179e\"],[0.4444444444444444,\"#bd3786\"],[0.5555555555555556,\"#d8576b\"],[0.6666666666666666,\"#ed7953\"],[0.7777777777777778,\"#fb9f3a\"],[0.8888888888888888,\"#fdca26\"],[1.0,\"#f0f921\"]]},\"colorway\":[\"#636efa\",\"#EF553B\",\"#00cc96\",\"#ab63fa\",\"#FFA15A\",\"#19d3f3\",\"#FF6692\",\"#B6E880\",\"#FF97FF\",\"#FECB52\"],\"font\":{\"color\":\"#2a3f5f\"},\"geo\":{\"bgcolor\":\"white\",\"lakecolor\":\"white\",\"landcolor\":\"white\",\"showlakes\":true,\"showland\":true,\"subunitcolor\":\"#C8D4E3\"},\"hoverlabel\":{\"align\":\"left\"},\"hovermode\":\"closest\",\"mapbox\":{\"style\":\"light\"},\"paper_bgcolor\":\"white\",\"plot_bgcolor\":\"white\",\"polar\":{\"angularaxis\":{\"gridcolor\":\"#EBF0F8\",\"linecolor\":\"#EBF0F8\",\"ticks\":\"\"},\"bgcolor\":\"white\",\"radialaxis\":{\"gridcolor\":\"#EBF0F8\",\"linecolor\":\"#EBF0F8\",\"ticks\":\"\"}},\"scene\":{\"xaxis\":{\"backgroundcolor\":\"white\",\"gridcolor\":\"#DFE8F3\",\"gridwidth\":2,\"linecolor\":\"#EBF0F8\",\"showbackground\":true,\"ticks\":\"\",\"zerolinecolor\":\"#EBF0F8\"},\"yaxis\":{\"backgroundcolor\":\"white\",\"gridcolor\":\"#DFE8F3\",\"gridwidth\":2,\"linecolor\":\"#EBF0F8\",\"showbackground\":true,\"ticks\":\"\",\"zerolinecolor\":\"#EBF0F8\"},\"zaxis\":{\"backgroundcolor\":\"white\",\"gridcolor\":\"#DFE8F3\",\"gridwidth\":2,\"linecolor\":\"#EBF0F8\",\"showbackground\":true,\"ticks\":\"\",\"zerolinecolor\":\"#EBF0F8\"}},\"shapedefaults\":{\"line\":{\"color\":\"#2a3f5f\"}},\"ternary\":{\"aaxis\":{\"gridcolor\":\"#DFE8F3\",\"linecolor\":\"#A2B1C6\",\"ticks\":\"\"},\"baxis\":{\"gridcolor\":\"#DFE8F3\",\"linecolor\":\"#A2B1C6\",\"ticks\":\"\"},\"bgcolor\":\"white\",\"caxis\":{\"gridcolor\":\"#DFE8F3\",\"linecolor\":\"#A2B1C6\",\"ticks\":\"\"}},\"title\":{\"x\":0.05},\"xaxis\":{\"automargin\":true,\"gridcolor\":\"#EBF0F8\",\"linecolor\":\"#EBF0F8\",\"ticks\":\"\",\"title\":{\"standoff\":15},\"zerolinecolor\":\"#EBF0F8\",\"zerolinewidth\":2},\"yaxis\":{\"automargin\":true,\"gridcolor\":\"#EBF0F8\",\"linecolor\":\"#EBF0F8\",\"ticks\":\"\",\"title\":{\"standoff\":15},\"zerolinecolor\":\"#EBF0F8\",\"zerolinewidth\":2}}},\"xaxis\":{\"anchor\":\"y\",\"domain\":[0.0,1.0],\"type\":\"date\",\"rangeslider\":{\"visible\":true},\"tickfont\":{\"family\":\"Old Standard TT, serif\",\"size\":24,\"color\":\"gray\"},\"rangeselector\":{\"font\":{\"family\":\"Arial\",\"size\":14,\"color\":\"darkgray\"},\"buttons\":[{\"count\":1,\"label\":\"1m\",\"step\":\"month\",\"stepmode\":\"backward\"},{\"count\":6,\"label\":\"6m\",\"step\":\"month\",\"stepmode\":\"backward\"},{\"count\":1,\"label\":\"YTD\",\"step\":\"year\",\"stepmode\":\"todate\"},{\"count\":1,\"label\":\"1y\",\"step\":\"year\",\"stepmode\":\"backward\"},{\"step\":\"all\"}],\"x\":0.37,\"y\":-0.05},\"range\":[\"2021-01-01T00:00:00\",\"2021-12-31T00:00:00\"],\"showgrid\":true,\"side\":\"top\",\"tickmode\":\"array\",\"dtick\":\"M1\",\"tickformat\":\"Q%q %Y \\n\",\"ticklabelmode\":\"period\",\"ticks\":\"outside\",\"tickson\":\"boundaries\",\"tickwidth\":0.1,\"layer\":\"below traces\",\"ticklen\":20,\"title\":{\"text\":\"\"}},\"yaxis\":{\"anchor\":\"x\",\"domain\":[0.0,1.0],\"title\":{\"text\":\"Initiatives\"},\"tickfont\":{\"family\":\"Old Standard TT, serif\",\"size\":16,\"color\":\"gray\"},\"autorange\":\"reversed\",\"automargin\":true,\"ticklen\":10,\"showgrid\":true,\"showticklabels\":true},\"legend\":{\"title\":{\"text\":\"\"},\"tracegroupgap\":0,\"font\":{\"family\":\"Arial\",\"size\":14,\"color\":\"darkgray\"},\"orientation\":\"h\",\"yanchor\":\"bottom\",\"y\":1.1,\"xanchor\":\"right\",\"x\":1},\"title\":{\"text\":\"<b>Gantt Chart 2021</b>\"},\"barmode\":\"overlay\",\"height\":800,\"width\":1500,\"bargap\":0.5,\"bargroupgap\":0.1,\"font\":{\"family\":\"Arial\",\"size\":24,\"color\":\"darkgray\"}},                        {\"responsive\": true}                    ).then(function(){\n",
              "                            \n",
              "var gd = document.getElementById('531f85cb-6065-495f-bf60-52fa939d7d2f');\n",
              "var x = new MutationObserver(function (mutations, observer) {{\n",
              "        var display = window.getComputedStyle(gd).display;\n",
              "        if (!display || display === 'none') {{\n",
              "            console.log([gd, 'removed!']);\n",
              "            Plotly.purge(gd);\n",
              "            observer.disconnect();\n",
              "        }}\n",
              "}});\n",
              "\n",
              "// Listen for the removal of the full notebook cells\n",
              "var notebookContainer = gd.closest('#notebook-container');\n",
              "if (notebookContainer) {{\n",
              "    x.observe(notebookContainer, {childList: true});\n",
              "}}\n",
              "\n",
              "// Listen for the clearing of the current output cell\n",
              "var outputEl = gd.closest('.output');\n",
              "if (outputEl) {{\n",
              "    x.observe(outputEl, {childList: true});\n",
              "}}\n",
              "\n",
              "                        })                };                            </script>        </div>\n",
              "</body>\n",
              "</html>"
            ]
          },
          "metadata": {}
        }
      ],
      "source": [
        "# Create the Plotly timeline figure\n",
        "\n",
        "colors = {'Technology' : 'rgb(30,144,255)'\n",
        "          , 'Technology - Date TBD' : 'rgb(211,211,211)'\n",
        "          , 'People' : 'rgb(95,158,160)'\n",
        "          , 'Process' : 'rgb(0,0,128)'\n",
        "          , 'Process - Date TBD' : 'rgb(211,211,210)'}\n",
        "    \n",
        "orders = list(df['Task'])\n",
        "\n",
        "fig = px.timeline(df\n",
        "                  , x_start=\"Start\"\n",
        "                  , x_end=\"Finish\"\n",
        "                  , y=\"Resource\"\n",
        "                  , hover_name=\"Task\"\n",
        "#                   , facet_col=\"Dimension\"\n",
        "#                   , facet_col_wrap=40\n",
        "#                   , facet_col_spacing=.99\n",
        "#                   , color_discrete_sequence=['green']*len(df)\n",
        "                  , color_discrete_sequence=px.colors.qualitative.Prism\n",
        "                  , category_orders={'Task':['Results of Task','Establish and agree upon Agile standards/framework','Communicate Agile structure to business groups','Select proper tooling','Results of Task','Refine analytic data use operating model','Define analytic persona\\x92s and use cases','Define operational data use operating model','Define operational persona\\x92s and use cases ','Define standard ','Results of Task','ID appropriate use case requirements for applying methodology (i.e. what are expectations from the business, what are deliverable expectations etc.)',\n",
        "                                     'Create template for data use stories (i.e. data sets, data presentation, data analysis, Data validation, advanced analytic stories)','Results of Task','Identify product advisory council attendees','Create governance model/methodology','Results of Task','ID all candidate roles and process to keep bench as opposed to OJT','ID incentive and disincentive components to manage contract','ID candidate partners for various work components','Create methodology to manage bid process and selection \\x96 partner with procurement','Results of task','Define scope of project','Results of task','ID tools for self-service ties to tools/tech','Determine extent of centrally managed policy engines','What multi-tenancy restrictions should be established','Access control \\x96 Tie to IT IAM strategy','Evaluate security, PHI, access restrictions','Results of task','Publish product and service catalog outlining initial build/implementation of the product or service as well as the ongoing costs','Results of task','ID standard tools for self-service','Create governance and methodology use cases','Create training protocol for tool consumption',\n",
        "                                     'Database/System design for persistent data to be stored on remote, network attached storage','Identify systems requirements','Technology/vendor selection','Migration effort to be considered; layout strategy','Downstream efforts - existing processes to migrate; how to enable a seamless transition; which approach to use - coexist or turn off/turn on','Enable S3 as primary storage, move away from other storage solutions and determine config','Establish rules/processes to ensure S3 is the primary storage solution','Recompilation and redeployment of jobs is required','Stand up non-prod two node cluster job/script execution','Decommission version 5 by May 21 2021','Results of task','Identify self-service needs/requirements for each group ','Identify the right tool for the right purpose','Learning and creating guidelines on how to use new tools','Estimate adoption rate','Gauge time to ramp-up','Evaluate if migration from existing tools to new tools is required',\n",
        "                                     'Results of task','Identify compatible tooling','Determine requirements specific for each business group','Identify VDI-based security issues for additional R/Python libraries','Document and communicate procedure to add new ML features/libraries to remote environments','Estimate value of paid tools vs free libraries','Determine if automated ML tools are necessary (Datarobot vs Azure ML)','Gauge level of adoption','Document FAQs and consider questions specific to each business group','Results of task','Determine scope \\x96 DR, HA, Extent of insight and notification needs','Establish continuous monitoring needs aligned with DevOps','Resiliency testing approach','Monitoring tools','Incident response communication protocol (ties to governance and operating model)','Identify compatible tooling/technology','Consider location/region-based connection practices',\n",
        "                                     'Consider multiple physical data center connection locations for resiliency to connectivity failures due to fiber cut, device failure or complete location failure','Determine if dynamically routed and active connections vs. statically routed for load balancing and failover','Results of task','Identify compatible tooling','Determine instance requirements specific for each business group','Launch instances and document keys/passwords','Communicate instance configurations and setup notes to each group','Estimate level of adoption','Predict and document FAQs','Document how to use Microsoft Remote Desktop Apps for Mac users','Install supporting software (R, Python, Firefox etc.)','Identify an owner/manager of compute elasticity/infrastructure operations',\n",
        "                                     'Identify rules of engagement and governance for when the process is live','Results of task','Prioritize data pipelines (tie to Data COE)','Pilot analytics in data pipeline (tie to NextBlue AA COE)','Define event streaming hub approach (i.e. people process tech)','Determine appropriate/compatible event streaming tools (Apache Kafka, Hazelcast Jet etc.)','Determine streaming rate requirements specific to each business group','Map out the data flow/data architecture and associated patterns','Identify who will do the publishing framework','Deploy and document','There are dependencies on infrastructure prior to putting this in place','Results of task','Define tools/tech and associated dependencies','Align with cloud COE','Establish development guidelines','Pilot?','Tie to governance and operating model \\x96 when to use how to use etc.','Determine which tasks will be microservices','Determine tools to run/containerize microservices',\n",
        "                                     'Select a microservice deployment strategy (Service Instance per Host, Multiple Service Instances per Host, Service Instance per Virtual Machine etc.)','Determine if you need a cluster manager (Kubernetes, Marathon etc.)','Identify enablement approach','Results of task','Define tools/tech and associated dependencies','Align with cloud COE','Establish development guidelines','Pilot?','Tie to governance and operating model \\x96 when to use how to use etc.','Determine whether to containerize existing legacy application without refactoring into microservices','Identify barriers between security and devops','Determine drawbacks: such as container infrastructure is not as mature or secure as the infrastructure for VMs (containers share the kernel of the host OS with one another)','Results of task','Identify a back-end physical infrastructure to enable digital tools','Evaluate a hybrid cloud strategy (with an eye for the worker UX)',\n",
        "                                     'Evaluate existing support services for the workplace','Implement technology for a real-time, 360 view of the UX','Results of task','Orchestration and management of services, applications and data flow','Automation of business processes','Establishment of federated security and Single Sign-On','System logging and monitoring','Data analysis, reporting and predictions','Monitoring of mobile and IoT devices','Implementation of Big Data solutions','Centralized (mobile ready) web solutions for clients and employees','Scalability and high-load support','SaaS and multi-tenancy support','Centralized control of infrastructure management etc.','Results of task','Determine compatible tools','Identify downfalls of low code platforms','Estimate adoption rate',\n",
        "                                     'Results of task','Determine the FHIR server architecture','Determine compatibility of servers and FHIR versions to ensure interoperability','Understand the APIs as well as the level of completion per API','Identify where to put/install the FHIR server','Estimate adoption rate','Results of task','ID priority governance model evaluation needs \\x96 self-service, machine learning model productionalization, operational area use and interaction']}\n",
        "                  , opacity=.7\n",
        "#                   , text=\"Task\"\n",
        "                  , range_x=None\n",
        "                  , range_y=None\n",
        "                  , template='plotly_white'\n",
        "                  , height=800\n",
        "                  , width=1500\n",
        "                  , color='Dimension'\n",
        "                  , title =\"<b>IE 3.0 Gantt Chart 2021</b>\"\n",
        "#                   , color=colors\n",
        "                 )\n",
        "\n",
        "fig.update_layout(\n",
        "    bargap=0.5\n",
        "    ,bargroupgap=0.1\n",
        "    ,xaxis_range=[df.Start.min(), df.Finish.max()]\n",
        "    ,xaxis = dict(\n",
        "        showgrid=True\n",
        "        ,rangeslider_visible=True\n",
        "        ,side =\"top\"\n",
        "        ,tickmode = 'array'\n",
        "        ,dtick=\"M1\"\n",
        "        ,tickformat=\"Q%q %Y \\n\"\n",
        "        ,ticklabelmode=\"period\"        \n",
        "        ,ticks=\"outside\"\n",
        "        ,tickson=\"boundaries\"\n",
        "        ,tickwidth=.1\n",
        "        ,layer='below traces'\n",
        "        ,ticklen=20\n",
        "        ,tickfont=dict(\n",
        "            family='Old Standard TT, serif',size=24,color='gray')\n",
        "        ,rangeselector=dict(\n",
        "            buttons=list([\n",
        "                dict(count=1, label=\"1m\", step=\"month\", stepmode=\"backward\"),\n",
        "                dict(count=6, label=\"6m\", step=\"month\", stepmode=\"backward\"),\n",
        "                dict(count=1, label=\"YTD\", step=\"year\", stepmode=\"todate\"),\n",
        "                dict(count=1, label=\"1y\", step=\"year\", stepmode=\"backward\"),\n",
        "                dict(step=\"all\")\n",
        "            ])\n",
        "            ,x=.37\n",
        "            ,y=-.05\n",
        "            ,font=dict(\n",
        "                family=\"Arial\",\n",
        "                size=14,\n",
        "                color=\"darkgray\"\n",
        "    )))\n",
        "    \n",
        "    ,yaxis = dict(\n",
        "        title= \"\"\n",
        "        ,autorange=\"reversed\"\n",
        "        ,automargin=True\n",
        "#         ,anchor=\"free\"\n",
        "        ,ticklen=10\n",
        "        ,showgrid=True\n",
        "        ,showticklabels=True\n",
        "        ,tickfont=dict(\n",
        "            family='Old Standard TT, serif', size=16, color='gray'))\n",
        "    \n",
        "    ,legend=dict(\n",
        "        orientation=\"h\"\n",
        "        ,yanchor=\"bottom\"\n",
        "        ,y=1.1\n",
        "        ,title=\"\"\n",
        "        ,xanchor=\"right\"\n",
        "        ,x=1\n",
        "        ,font=dict(\n",
        "            family=\"Arial\"\n",
        "            ,size=14\n",
        "            ,color=\"darkgray\"))\n",
        ")\n",
        "\n",
        "fig.update_traces( #marker_color='rgb(158,202,225)'\n",
        "                   marker_line_color='rgb(8,48,107)'\n",
        "                  , marker_line_width=1.5, opacity=0.95)\n",
        "\n",
        "fig.update_layout(\n",
        "    title=\"<b>Gantt Chart 2021</b>\",\n",
        "    xaxis_title=\"\",\n",
        "#     margin_l=400,\n",
        "    yaxis_title=\"Initiatives\",\n",
        "#     legend_title=\"Dimension: \",\n",
        "    font=dict(\n",
        "        family=\"Arial\",\n",
        "        size=24,\n",
        "        color=\"darkgray\"\n",
        "    )\n",
        ")\n"
      ]
    },
    {
      "cell_type": "code",
      "source": [
        "# Display the Chart and write it and copy it to Google Drive.\n",
        "# fig.show()\n",
        "fig.write_html('gantt_chart.html')\n",
        "!cp gantt_chart.html \"/content/drive/My Drive/Colab_Data/\"\n",
        "go.FigureWidget(fig)"
      ],
      "metadata": {
        "colab": {
          "base_uri": "https://localhost:8080/",
          "height": 837,
          "referenced_widgets": [
            "22e3b080c7db4d4282e507f657bace2e"
          ]
        },
        "id": "mUdX0Ns4cWk3",
        "outputId": "f006c048-eba2-48e4-9700-e409505fde76"
      },
      "execution_count": null,
      "outputs": [
        {
          "output_type": "display_data",
          "data": {
            "text/plain": [
              "FigureWidget({\n",
              "    'data': [{'alignmentgroup': 'True',\n",
              "              'base': array([datetime.datetime(2021, 3,…"
            ],
            "application/vnd.jupyter.widget-view+json": {
              "version_major": 2,
              "version_minor": 0,
              "model_id": "22e3b080c7db4d4282e507f657bace2e"
            }
          },
          "metadata": {
            "application/vnd.jupyter.widget-view+json": {
              "colab": {
                "custom_widget_manager": {
                  "url": "https://ssl.gstatic.com/colaboratory-static/widgets/colab-cdn-widget-manager/d2e234f7cc04bf79/manager.min.js"
                }
              }
            }
          }
        }
      ]
    }
  ],
  "metadata": {
    "kernelspec": {
      "display_name": "Python 3",
      "language": "python",
      "name": "python3"
    },
    "language_info": {
      "codemirror_mode": {
        "name": "ipython",
        "version": 3
      },
      "file_extension": ".py",
      "mimetype": "text/x-python",
      "name": "python",
      "nbconvert_exporter": "python",
      "pygments_lexer": "ipython3",
      "version": "3.8.3"
    },
    "colab": {
      "provenance": [],
      "collapsed_sections": [
        "dai1EbYpbpSy"
      ],
      "include_colab_link": true
    },
    "widgets": {
      "application/vnd.jupyter.widget-state+json": {
        "22e3b080c7db4d4282e507f657bace2e": {
          "model_module": "jupyterlab-plotly",
          "model_name": "FigureModel",
          "model_module_version": "^5.5.0",
          "state": {
            "_config": {
              "plotlyServerURL": "https://plotly.com"
            },
            "_data": [
              {
                "alignmentgroup": "True",
                "base": [
                  "2021-03-17T00:00:00.000000",
                  "2021-01-01T00:00:00.000000",
                  "2021-01-16T00:00:00.000000",
                  "2021-01-31T00:00:00.000000",
                  "2021-03-17T00:00:00.000000",
                  "2021-01-01T00:00:00.000000",
                  "2021-01-16T00:00:00.000000",
                  "2021-01-31T00:00:00.000000",
                  "2021-02-15T00:00:00.000000",
                  "2021-03-02T00:00:00.000000"
                ],
                "hovertemplate": "<b>%{hovertext}</b><br><br>Dimension=People<br>Start=%{base}<br>Finish=%{x}<br>Resource=%{y}<extra></extra>",
                "hovertext": [
                  "Results of Task",
                  "Establish and agree upon Agile standards/framework",
                  "Communicate Agile structure to business groups",
                  "Select proper tooling",
                  "Results of Task",
                  "Refine analytic data use operating model",
                  "Define analytic personas and use cases",
                  "Define operational data use operating model",
                  "Define operational personas and use cases ",
                  "Define standard "
                ],
                "legendgroup": "People",
                "marker": {
                  "color": "rgb(95, 70, 144)",
                  "line": {
                    "color": "rgb(8,48,107)",
                    "width": 1.5
                  },
                  "opacity": 0.7
                },
                "name": "People",
                "offsetgroup": "People",
                "opacity": 0.95,
                "orientation": "h",
                "showlegend": true,
                "textposition": "auto",
                "x": {
                  "dtype": "float64",
                  "shape": [
                    10
                  ]
                },
                "xaxis": "x",
                "y": [
                  "Agile DevOps Culture",
                  "Agile DevOps Culture",
                  "Agile DevOps Culture",
                  "Agile DevOps Culture",
                  "Organizational Design and Operating Model",
                  "Organizational Design and Operating Model",
                  "Organizational Design and Operating Model",
                  "Organizational Design and Operating Model",
                  "Organizational Design and Operating Model",
                  "Organizational Design and Operating Model"
                ],
                "yaxis": "y",
                "type": "bar",
                "uid": "0d768e4a-dcf8-4856-ab7f-6eef9c916445"
              },
              {
                "alignmentgroup": "True",
                "base": [
                  "2021-03-17T00:00:00.000000",
                  "2021-04-01T00:00:00.000000",
                  "2021-04-16T00:00:00.000000",
                  "2021-03-17T00:00:00.000000",
                  "2021-03-18T00:00:00.000000",
                  "2021-03-19T00:00:00.000000",
                  "2021-03-17T00:00:00.000000",
                  "2021-04-01T00:00:00.000000",
                  "2021-04-16T00:00:00.000000",
                  "2021-05-01T00:00:00.000000",
                  "2021-05-16T00:00:00.000000",
                  "2021-04-01T00:00:00.000000",
                  "2021-04-16T00:00:00.000000",
                  "2021-09-16T00:00:00.000000",
                  "2021-07-01T00:00:00.000000",
                  "2021-07-16T00:00:00.000000",
                  "2021-07-31T00:00:00.000000",
                  "2021-08-15T00:00:00.000000",
                  "2021-08-30T00:00:00.000000",
                  "2021-12-17T00:00:00.000000",
                  "2021-10-01T00:00:00.000000"
                ],
                "hovertemplate": "<b>%{hovertext}</b><br><br>Dimension=Process<br>Start=%{base}<br>Finish=%{x}<br>Resource=%{y}<extra></extra>",
                "hovertext": [
                  "Results of Task",
                  "ID appropriate use case requirements for applying \nmethodology (i.e. what are expectations from the \nbusiness, what are deliverable expectations etc.)",
                  "Create template for data use stories (i.e. data sets, data presentation, data analysis, Data validation, advanced analytic stories)",
                  "Results of Task",
                  "Identify product advisory council attendees",
                  "Create governance model/methodology",
                  "Results of Task",
                  "ID all candidate roles and process to keep bench as opposed to OJT",
                  "ID incentive and disincentive components to manage contract",
                  "ID candidate partners for various work components",
                  "Create methodology to manage bid process and selection  partner with procurement",
                  "Results of task",
                  "Define scope of project",
                  "Results of task",
                  "ID tools for self-service ties to tools/tech",
                  "Determine extent of centrally managed policy engines",
                  "What multi-tenancy restrictions should be established",
                  "Access control  Tie to IT IAM strategy",
                  "Evaluate security, PHI, access restrictions",
                  "Results of task",
                  "Publish product and service catalog outlining initial build/implementation of the product or service as well as the ongoing costs"
                ],
                "legendgroup": "Process",
                "marker": {
                  "color": "rgb(29, 105, 150)",
                  "line": {
                    "color": "rgb(8,48,107)",
                    "width": 1.5
                  },
                  "opacity": 0.7
                },
                "name": "Process",
                "offsetgroup": "Process",
                "opacity": 0.95,
                "orientation": "h",
                "showlegend": true,
                "textposition": "auto",
                "x": {
                  "dtype": "float64",
                  "shape": [
                    21
                  ]
                },
                "xaxis": "x",
                "y": [
                  "Delivery Methodology-Agile, RAD, DevOps, Left Testing, TDD, Low-Code",
                  "Delivery Methodology-Agile, RAD, DevOps, Left Testing, TDD, Low-Code",
                  "Delivery Methodology-Agile, RAD, DevOps, Left Testing, TDD, Low-Code",
                  "Product Mgmt Evolution-Product Advisory Council",
                  "Product Mgmt Evolution-Product Advisory Council",
                  "Product Mgmt Evolution-Product Advisory Council",
                  "Expansion of Managed Service Arrangements",
                  "Expansion of Managed Service Arrangements",
                  "Expansion of Managed Service Arrangements",
                  "Expansion of Managed Service Arrangements",
                  "Expansion of Managed Service Arrangements",
                  "DevOps, DataOps, MLOps",
                  "DevOps, DataOps, MLOps",
                  "Expansion of Self-Service Models",
                  "Expansion of Self-Service Models",
                  "Expansion of Self-Service Models",
                  "Expansion of Self-Service Models",
                  "Expansion of Self-Service Models",
                  "Expansion of Self-Service Models",
                  "Financial Transparency Process Dev",
                  "Financial Transparency Process Dev"
                ],
                "yaxis": "y",
                "type": "bar",
                "uid": "51e44322-b63a-47e3-979f-40b177cfd36d"
              },
              {
                "alignmentgroup": "True",
                "base": [
                  "2021-12-17T00:00:00.000000",
                  "2021-01-01T00:00:00.000000",
                  "2021-01-27T00:00:00.000000",
                  "2021-02-22T00:00:00.000000",
                  "2021-03-20T00:00:00.000000",
                  "2021-04-15T00:00:00.000000",
                  "2021-05-11T00:00:00.000000",
                  "2021-06-06T00:00:00.000000",
                  "2021-07-02T00:00:00.000000",
                  "2021-07-28T00:00:00.000000",
                  "2021-08-23T00:00:00.000000",
                  "2021-09-18T00:00:00.000000",
                  "2021-10-14T00:00:00.000000",
                  "2021-11-09T00:00:00.000000",
                  "2021-12-17T00:00:00.000000",
                  "2021-04-01T00:00:00.000000",
                  "2021-04-16T00:00:00.000000",
                  "2021-06-01T00:00:00.000000",
                  "2021-07-02T00:00:00.000000",
                  "2021-08-02T00:00:00.000000",
                  "2021-09-02T00:00:00.000000",
                  "2021-09-16T00:00:00.000000",
                  "2021-07-01T00:00:00.000000",
                  "2021-07-16T00:00:00.000000",
                  "2021-07-31T00:00:00.000000",
                  "2021-08-15T00:00:00.000000",
                  "2021-08-30T00:00:00.000000",
                  "2021-09-14T00:00:00.000000",
                  "2021-09-29T00:00:00.000000",
                  "2021-10-01T00:00:00.000000",
                  "2021-09-16T00:00:00.000000",
                  "2021-07-01T00:00:00.000000",
                  "2021-07-12T00:00:00.000000",
                  "2021-07-23T00:00:00.000000",
                  "2021-08-03T00:00:00.000000",
                  "2021-08-14T00:00:00.000000",
                  "2021-08-25T00:00:00.000000",
                  "2021-09-05T00:00:00.000000",
                  "2021-09-16T00:00:00.000000",
                  "2021-09-27T00:00:00.000000",
                  "2021-12-17T00:00:00.000000",
                  "2021-10-01T00:00:00.000000",
                  "2021-10-12T00:00:00.000000",
                  "2021-10-23T00:00:00.000000",
                  "2021-11-03T00:00:00.000000",
                  "2021-11-14T00:00:00.000000",
                  "2021-11-25T00:00:00.000000",
                  "2021-12-06T00:00:00.000000",
                  "2021-12-17T00:00:00.000000",
                  "2021-12-24T00:00:00.000000",
                  "2021-12-28T00:00:00.000000",
                  "2021-12-17T00:00:00.000000",
                  "2021-01-01T00:00:00.000000",
                  "2021-02-16T00:00:00.000000",
                  "2021-03-19T00:00:00.000000",
                  "2021-04-19T00:00:00.000000",
                  "2021-05-20T00:00:00.000000",
                  "2021-06-20T00:00:00.000000",
                  "2021-07-21T00:00:00.000000",
                  "2021-08-21T00:00:00.000000",
                  "2021-09-21T00:00:00.000000",
                  "2021-12-17T00:00:00.000000",
                  "2021-10-01T00:00:00.000000",
                  "2021-10-16T00:00:00.000000",
                  "2021-10-25T00:00:00.000000",
                  "2021-11-03T00:00:00.000000",
                  "2021-11-12T00:00:00.000000",
                  "2021-11-21T00:00:00.000000",
                  "2021-11-30T00:00:00.000000",
                  "2021-12-09T00:00:00.000000",
                  "2021-12-18T00:00:00.000000",
                  "2021-12-27T00:00:00.000000"
                ],
                "hovertemplate": "<b>%{hovertext}</b><br><br>Dimension=Technology<br>Start=%{base}<br>Finish=%{x}<br>Resource=%{y}<extra></extra>",
                "hovertext": [
                  "Results of task",
                  "ID standard tools for self-service",
                  "Create governance and methodology use cases",
                  "Create training protocol for tool consumption",
                  "Database/System design for persistent data to be stored on remote, network attached storage",
                  "Identify systems requirements",
                  "Technology/vendor selection",
                  "Migration effort to be considered; layout strategy",
                  "Downstream efforts - existing processes to migrate; how to enable a seamless transition; which approach to use - coexist or turn off/turn on",
                  "Enable S3 as primary storage, move away from other storage solutions and determine config",
                  "Establish rules/processes to ensure S3 is the primary storage solution",
                  "Recompilation and redeployment of jobs is required",
                  "Stand up non-prod two node cluster job/script execution",
                  "Decommission version 5 by May 21 2021",
                  "Results of task",
                  "Identify self-service needs/requirements for each group ",
                  "Identify the right tool for the right purpose",
                  "Learning and creating guidelines on how to use new tools",
                  "Estimate adoption rate",
                  "Gauge time to ramp-up",
                  "Evaluate if migration from existing tools to new tools is required",
                  "Results of task",
                  "Identify compatible tooling",
                  "Determine requirements specific for each business group",
                  "Identify VDI-based security issues for additional R/Python libraries",
                  "Document and communicate procedure to add new ML features/libraries to remote environments",
                  "Estimate value of paid tools vs free libraries",
                  "Determine if automated ML tools are necessary (Datarobot vs Azure ML)",
                  "Gauge level of adoption",
                  "Document FAQs and consider questions specific to each business group",
                  "Results of task",
                  "Determine scope  DR, HA, Extent of insight and notification needs",
                  "Establish continuous monitoring needs aligned with DevOps",
                  "Resiliency testing approach",
                  "Monitoring tools",
                  "Incident response communication protocol (ties to governance and operating model)",
                  "Identify compatible tooling/technology",
                  "Consider location/region-based connection practices",
                  "Consider multiple physical data center connection locations for resiliency to connectivity failures due to fiber cut, device failure or complete location failure",
                  "Determine if dynamically routed and active connections vs. statically routed for load balancing and failover",
                  "Results of task",
                  "Identify compatible tooling",
                  "Determine instance requirements specific for each business group",
                  "Launch instances and document keys/passwords",
                  "Communicate instance configurations and setup notes to each group",
                  "Estimate level of adoption",
                  "Predict and document FAQs",
                  "Document how to use Microsoft Remote Desktop Apps for Mac users",
                  "Install supporting software (R, Python, Firefox etc.)",
                  "Identify an owner/manager of compute elasticity/infrastructure operations",
                  "Identify rules of engagement and governance for when the process is live",
                  "Results of task",
                  "Prioritize data pipelines (tie to Data COE)",
                  "Pilot analytics in data pipeline (tie to NextBlue AA COE)",
                  "Define event streaming hub approach (i.e. people process tech)",
                  "Determine appropriate/compatible event streaming tools (Apache Kafka, Hazelcast Jet etc.)",
                  "Determine streaming rate requirements specific to each business group",
                  "Map out the data flow/data architecture and associated patterns",
                  "Identify who will do the publishing framework",
                  "Deploy and document",
                  "There are dependencies on infrastructure prior to putting this in place",
                  "Results of task",
                  "Define tools/tech and associated dependencies",
                  "Align with cloud COE",
                  "Establish development guidelines",
                  "Pilot?",
                  "Tie to governance and operating model  when to use how to use etc.",
                  "Determine which tasks will be microservices",
                  "Determine tools to run/containerize microservices",
                  "Select a microservice deployment strategy (Service Instance per Host, Multiple Service Instances per Host, Service Instance per Virtual Machine etc.)",
                  "Determine if you need a cluster manager (Kubernetes, Marathon etc.)",
                  "Identify enablement approach"
                ],
                "legendgroup": "Technology",
                "marker": {
                  "color": "rgb(56, 166, 165)",
                  "line": {
                    "color": "rgb(8,48,107)",
                    "width": 1.5
                  },
                  "opacity": 0.7
                },
                "name": "Technology",
                "offsetgroup": "Technology",
                "opacity": 0.95,
                "orientation": "h",
                "showlegend": true,
                "textposition": "auto",
                "x": {
                  "dtype": "float64",
                  "shape": [
                    72
                  ]
                },
                "xaxis": "x",
                "y": [
                  "Decouple compute/storage",
                  "Decouple compute/storage",
                  "Decouple compute/storage",
                  "Decouple compute/storage",
                  "Decouple compute/storage",
                  "Decouple compute/storage",
                  "Decouple compute/storage",
                  "Decouple compute/storage",
                  "Decouple compute/storage",
                  "Decouple compute/storage",
                  "Decouple compute/storage",
                  "Decouple compute/storage",
                  "Decouple compute/storage",
                  "Decouple compute/storage",
                  "Self-Service Tools",
                  "Self-Service Tools",
                  "Self-Service Tools",
                  "Self-Service Tools",
                  "Self-Service Tools",
                  "Self-Service Tools",
                  "Self-Service Tools",
                  "AI/ML Infrastructure/tools",
                  "AI/ML Infrastructure/tools",
                  "AI/ML Infrastructure/tools",
                  "AI/ML Infrastructure/tools",
                  "AI/ML Infrastructure/tools",
                  "AI/ML Infrastructure/tools",
                  "AI/ML Infrastructure/tools",
                  "AI/ML Infrastructure/tools",
                  "AI/ML Infrastructure/tools",
                  "Resilient/Durable",
                  "Resilient/Durable",
                  "Resilient/Durable",
                  "Resilient/Durable",
                  "Resilient/Durable",
                  "Resilient/Durable",
                  "Resilient/Durable",
                  "Resilient/Durable",
                  "Resilient/Durable",
                  "Resilient/Durable",
                  "Elastic Infrastructure/Dynamic Compute",
                  "Elastic Infrastructure/Dynamic Compute",
                  "Elastic Infrastructure/Dynamic Compute",
                  "Elastic Infrastructure/Dynamic Compute",
                  "Elastic Infrastructure/Dynamic Compute",
                  "Elastic Infrastructure/Dynamic Compute",
                  "Elastic Infrastructure/Dynamic Compute",
                  "Elastic Infrastructure/Dynamic Compute",
                  "Elastic Infrastructure/Dynamic Compute",
                  "Elastic Infrastructure/Dynamic Compute",
                  "Elastic Infrastructure/Dynamic Compute",
                  "Event Streaming",
                  "Event Streaming",
                  "Event Streaming",
                  "Event Streaming",
                  "Event Streaming",
                  "Event Streaming",
                  "Event Streaming",
                  "Event Streaming",
                  "Event Streaming",
                  "Event Streaming",
                  "Microservices",
                  "Microservices",
                  "Microservices",
                  "Microservices",
                  "Microservices",
                  "Microservices",
                  "Microservices",
                  "Microservices",
                  "Microservices",
                  "Microservices",
                  "Microservices"
                ],
                "yaxis": "y",
                "type": "bar",
                "uid": "8bee374e-1177-43ce-a192-f9143e15598d"
              },
              {
                "alignmentgroup": "True",
                "base": [
                  "2021-12-17T00:00:00.000000",
                  "2021-01-01T00:00:00.000000",
                  "2021-02-01T00:00:00.000000",
                  "2021-03-04T00:00:00.000000",
                  "2021-04-04T00:00:00.000000",
                  "2021-05-05T00:00:00.000000",
                  "2021-06-05T00:00:00.000000",
                  "2021-07-06T00:00:00.000000",
                  "2021-08-06T00:00:00.000000",
                  "2021-12-17T00:00:00.000000",
                  "2021-01-01T00:00:00.000000",
                  "2021-03-03T00:00:00.000000",
                  "2021-05-03T00:00:00.000000",
                  "2021-07-03T00:00:00.000000",
                  "2021-12-17T00:00:00.000000",
                  "2021-01-01T00:00:00.000000",
                  "2021-02-01T00:00:00.000000",
                  "2021-03-04T00:00:00.000000",
                  "2021-04-04T00:00:00.000000",
                  "2021-05-05T00:00:00.000000",
                  "2021-06-05T00:00:00.000000",
                  "2021-07-06T00:00:00.000000",
                  "2021-08-06T00:00:00.000000",
                  "2021-09-06T00:00:00.000000",
                  "2021-10-07T00:00:00.000000",
                  "2021-11-07T00:00:00.000000",
                  "2021-12-17T00:00:00.000000",
                  "2021-01-01T00:00:00.000000",
                  "2021-03-03T00:00:00.000000",
                  "2021-05-03T00:00:00.000000",
                  "2021-12-17T00:00:00.000000",
                  "2021-01-01T00:00:00.000000",
                  "2021-03-03T00:00:00.000000",
                  "2021-05-03T00:00:00.000000",
                  "2021-07-03T00:00:00.000000",
                  "2021-09-02T00:00:00.000000"
                ],
                "hovertemplate": "<b>%{hovertext}</b><br><br>Dimension=Technology - Date TBD<br>Start=%{base}<br>Finish=%{x}<br>Resource=%{y}<extra></extra>",
                "hovertext": [
                  "Results of task",
                  "Define tools/tech and associated dependencies",
                  "Align with cloud COE",
                  "Establish development guidelines",
                  "Pilot?",
                  "Tie to governance and operating model  when to use how to use etc.",
                  "Determine whether to containerize existing legacy application without refactoring into microservices",
                  "Identify barriers between security and devops",
                  "Determine drawbacks: such as container infrastructure is not as mature or secure as the infrastructure for VMs (containers share the kernel of the host OS with one another)",
                  "Results of task",
                  "Identify a back-end physical infrastructure to enable digital tools",
                  "Evaluate a hybrid cloud strategy (with an eye for the worker UX)",
                  "Evaluate existing support services for the workplace",
                  "Implement technology for a real-time, 360 view of the UX",
                  "Results of task",
                  "Orchestration and management of services, applications and data flow",
                  "Automation of business processes",
                  "Establishment of federated security and Single Sign-On",
                  "System logging and monitoring",
                  "Data analysis, reporting and predictions",
                  "Monitoring of mobile and IoT devices",
                  "Implementation of Big Data solutions",
                  "Centralized (mobile ready) web solutions for clients and employees",
                  "Scalability and high-load support",
                  "SaaS and multi-tenancy support",
                  "Centralized control of infrastructure management etc.",
                  "Results of task",
                  "Determine compatible tools",
                  "Identify downfalls of low code platforms",
                  "Estimate adoption rate",
                  "Results of task",
                  "Determine the FHIR server architecture",
                  "Determine compatibility of servers and FHIR versions to ensure interoperability",
                  "Understand the APIs as well as the level of completion per API",
                  "Identify where to put/install the FHIR server",
                  "Estimate adoption rate"
                ],
                "legendgroup": "Technology - Date TBD",
                "marker": {
                  "color": "rgb(15, 133, 84)",
                  "line": {
                    "color": "rgb(8,48,107)",
                    "width": 1.5
                  },
                  "opacity": 0.7
                },
                "name": "Technology - Date TBD",
                "offsetgroup": "Technology - Date TBD",
                "opacity": 0.95,
                "orientation": "h",
                "showlegend": true,
                "textposition": "auto",
                "x": {
                  "dtype": "float64",
                  "shape": [
                    36
                  ]
                },
                "xaxis": "x",
                "y": [
                  "Containerization ",
                  "Containerization ",
                  "Containerization ",
                  "Containerization ",
                  "Containerization ",
                  "Containerization ",
                  "Containerization ",
                  "Containerization ",
                  "Containerization ",
                  "Hybrid Cloud Governance, Security and UX, Data Arch, Data Quality Mgmt",
                  "Hybrid Cloud Governance, Security and UX, Data Arch, Data Quality Mgmt",
                  "Hybrid Cloud Governance, Security and UX, Data Arch, Data Quality Mgmt",
                  "Hybrid Cloud Governance, Security and UX, Data Arch, Data Quality Mgmt",
                  "Hybrid Cloud Governance, Security and UX, Data Arch, Data Quality Mgmt",
                  "Enterprise Orchestration",
                  "Enterprise Orchestration",
                  "Enterprise Orchestration",
                  "Enterprise Orchestration",
                  "Enterprise Orchestration",
                  "Enterprise Orchestration",
                  "Enterprise Orchestration",
                  "Enterprise Orchestration",
                  "Enterprise Orchestration",
                  "Enterprise Orchestration",
                  "Enterprise Orchestration",
                  "Enterprise Orchestration",
                  "Low-Code Dev Tools",
                  "Low-Code Dev Tools",
                  "Low-Code Dev Tools",
                  "Low-Code Dev Tools",
                  "FHIR Data Architecture",
                  "FHIR Data Architecture",
                  "FHIR Data Architecture",
                  "FHIR Data Architecture",
                  "FHIR Data Architecture",
                  "FHIR Data Architecture"
                ],
                "yaxis": "y",
                "type": "bar",
                "uid": "c8638e6f-aea4-4e0a-a3e2-36b5987504f4"
              },
              {
                "alignmentgroup": "True",
                "base": [
                  "2021-12-17T00:00:00.000000",
                  "2021-01-01T00:00:00.000000"
                ],
                "hovertemplate": "<b>%{hovertext}</b><br><br>Dimension=Process - Date TBD<br>Start=%{base}<br>Finish=%{x}<br>Resource=%{y}<extra></extra>",
                "hovertext": [
                  "Results of task",
                  "ID priority governance model evaluation needs  self-service, machine learning model productionalization, operational area use and interaction"
                ],
                "legendgroup": "Process - Date TBD",
                "marker": {
                  "color": "rgb(115, 175, 72)",
                  "line": {
                    "color": "rgb(8,48,107)",
                    "width": 1.5
                  },
                  "opacity": 0.7
                },
                "name": "Process - Date TBD",
                "offsetgroup": "Process - Date TBD",
                "opacity": 0.95,
                "orientation": "h",
                "showlegend": true,
                "textposition": "auto",
                "x": {
                  "dtype": "float64",
                  "shape": [
                    2
                  ]
                },
                "xaxis": "x",
                "y": [
                  "Governance Model Dev-Self-Service, Productionization, Lineage",
                  "Governance Model Dev-Self-Service, Productionization, Lineage"
                ],
                "yaxis": "y",
                "type": "bar",
                "uid": "33ddf98e-de4b-4fef-8903-25af65507aa6"
              }
            ],
            "_dom_classes": [],
            "_js2py_layoutDelta": null,
            "_js2py_pointsCallback": {},
            "_js2py_relayout": {},
            "_js2py_restyle": {},
            "_js2py_traceDeltas": null,
            "_js2py_update": {},
            "_last_layout_edit_id": 0,
            "_last_trace_edit_id": 0,
            "_layout": {
              "bargap": 0.5,
              "bargroupgap": 0.1,
              "barmode": "overlay",
              "font": {
                "color": "darkgray",
                "family": "Arial",
                "size": 24
              },
              "height": 800,
              "legend": {
                "font": {
                  "color": "darkgray",
                  "family": "Arial",
                  "size": 14
                },
                "orientation": "h",
                "title": {
                  "text": ""
                },
                "tracegroupgap": 0,
                "x": 1,
                "xanchor": "right",
                "y": 1.1,
                "yanchor": "bottom"
              },
              "template": {
                "data": {
                  "barpolar": [
                    {
                      "marker": {
                        "line": {
                          "color": "white",
                          "width": 0.5
                        },
                        "pattern": {
                          "fillmode": "overlay",
                          "size": 10,
                          "solidity": 0.2
                        }
                      },
                      "type": "barpolar"
                    }
                  ],
                  "bar": [
                    {
                      "error_x": {
                        "color": "#2a3f5f"
                      },
                      "error_y": {
                        "color": "#2a3f5f"
                      },
                      "marker": {
                        "line": {
                          "color": "white",
                          "width": 0.5
                        },
                        "pattern": {
                          "fillmode": "overlay",
                          "size": 10,
                          "solidity": 0.2
                        }
                      },
                      "type": "bar"
                    }
                  ],
                  "carpet": [
                    {
                      "aaxis": {
                        "endlinecolor": "#2a3f5f",
                        "gridcolor": "#C8D4E3",
                        "linecolor": "#C8D4E3",
                        "minorgridcolor": "#C8D4E3",
                        "startlinecolor": "#2a3f5f"
                      },
                      "baxis": {
                        "endlinecolor": "#2a3f5f",
                        "gridcolor": "#C8D4E3",
                        "linecolor": "#C8D4E3",
                        "minorgridcolor": "#C8D4E3",
                        "startlinecolor": "#2a3f5f"
                      },
                      "type": "carpet"
                    }
                  ],
                  "choropleth": [
                    {
                      "colorbar": {
                        "outlinewidth": 0,
                        "ticks": ""
                      },
                      "type": "choropleth"
                    }
                  ],
                  "contourcarpet": [
                    {
                      "colorbar": {
                        "outlinewidth": 0,
                        "ticks": ""
                      },
                      "type": "contourcarpet"
                    }
                  ],
                  "contour": [
                    {
                      "colorbar": {
                        "outlinewidth": 0,
                        "ticks": ""
                      },
                      "colorscale": [
                        [
                          0,
                          "#0d0887"
                        ],
                        [
                          0.1111111111111111,
                          "#46039f"
                        ],
                        [
                          0.2222222222222222,
                          "#7201a8"
                        ],
                        [
                          0.3333333333333333,
                          "#9c179e"
                        ],
                        [
                          0.4444444444444444,
                          "#bd3786"
                        ],
                        [
                          0.5555555555555556,
                          "#d8576b"
                        ],
                        [
                          0.6666666666666666,
                          "#ed7953"
                        ],
                        [
                          0.7777777777777778,
                          "#fb9f3a"
                        ],
                        [
                          0.8888888888888888,
                          "#fdca26"
                        ],
                        [
                          1,
                          "#f0f921"
                        ]
                      ],
                      "type": "contour"
                    }
                  ],
                  "heatmapgl": [
                    {
                      "colorbar": {
                        "outlinewidth": 0,
                        "ticks": ""
                      },
                      "colorscale": [
                        [
                          0,
                          "#0d0887"
                        ],
                        [
                          0.1111111111111111,
                          "#46039f"
                        ],
                        [
                          0.2222222222222222,
                          "#7201a8"
                        ],
                        [
                          0.3333333333333333,
                          "#9c179e"
                        ],
                        [
                          0.4444444444444444,
                          "#bd3786"
                        ],
                        [
                          0.5555555555555556,
                          "#d8576b"
                        ],
                        [
                          0.6666666666666666,
                          "#ed7953"
                        ],
                        [
                          0.7777777777777778,
                          "#fb9f3a"
                        ],
                        [
                          0.8888888888888888,
                          "#fdca26"
                        ],
                        [
                          1,
                          "#f0f921"
                        ]
                      ],
                      "type": "heatmapgl"
                    }
                  ],
                  "heatmap": [
                    {
                      "colorbar": {
                        "outlinewidth": 0,
                        "ticks": ""
                      },
                      "colorscale": [
                        [
                          0,
                          "#0d0887"
                        ],
                        [
                          0.1111111111111111,
                          "#46039f"
                        ],
                        [
                          0.2222222222222222,
                          "#7201a8"
                        ],
                        [
                          0.3333333333333333,
                          "#9c179e"
                        ],
                        [
                          0.4444444444444444,
                          "#bd3786"
                        ],
                        [
                          0.5555555555555556,
                          "#d8576b"
                        ],
                        [
                          0.6666666666666666,
                          "#ed7953"
                        ],
                        [
                          0.7777777777777778,
                          "#fb9f3a"
                        ],
                        [
                          0.8888888888888888,
                          "#fdca26"
                        ],
                        [
                          1,
                          "#f0f921"
                        ]
                      ],
                      "type": "heatmap"
                    }
                  ],
                  "histogram2dcontour": [
                    {
                      "colorbar": {
                        "outlinewidth": 0,
                        "ticks": ""
                      },
                      "colorscale": [
                        [
                          0,
                          "#0d0887"
                        ],
                        [
                          0.1111111111111111,
                          "#46039f"
                        ],
                        [
                          0.2222222222222222,
                          "#7201a8"
                        ],
                        [
                          0.3333333333333333,
                          "#9c179e"
                        ],
                        [
                          0.4444444444444444,
                          "#bd3786"
                        ],
                        [
                          0.5555555555555556,
                          "#d8576b"
                        ],
                        [
                          0.6666666666666666,
                          "#ed7953"
                        ],
                        [
                          0.7777777777777778,
                          "#fb9f3a"
                        ],
                        [
                          0.8888888888888888,
                          "#fdca26"
                        ],
                        [
                          1,
                          "#f0f921"
                        ]
                      ],
                      "type": "histogram2dcontour"
                    }
                  ],
                  "histogram2d": [
                    {
                      "colorbar": {
                        "outlinewidth": 0,
                        "ticks": ""
                      },
                      "colorscale": [
                        [
                          0,
                          "#0d0887"
                        ],
                        [
                          0.1111111111111111,
                          "#46039f"
                        ],
                        [
                          0.2222222222222222,
                          "#7201a8"
                        ],
                        [
                          0.3333333333333333,
                          "#9c179e"
                        ],
                        [
                          0.4444444444444444,
                          "#bd3786"
                        ],
                        [
                          0.5555555555555556,
                          "#d8576b"
                        ],
                        [
                          0.6666666666666666,
                          "#ed7953"
                        ],
                        [
                          0.7777777777777778,
                          "#fb9f3a"
                        ],
                        [
                          0.8888888888888888,
                          "#fdca26"
                        ],
                        [
                          1,
                          "#f0f921"
                        ]
                      ],
                      "type": "histogram2d"
                    }
                  ],
                  "histogram": [
                    {
                      "marker": {
                        "pattern": {
                          "fillmode": "overlay",
                          "size": 10,
                          "solidity": 0.2
                        }
                      },
                      "type": "histogram"
                    }
                  ],
                  "mesh3d": [
                    {
                      "colorbar": {
                        "outlinewidth": 0,
                        "ticks": ""
                      },
                      "type": "mesh3d"
                    }
                  ],
                  "parcoords": [
                    {
                      "line": {
                        "colorbar": {
                          "outlinewidth": 0,
                          "ticks": ""
                        }
                      },
                      "type": "parcoords"
                    }
                  ],
                  "pie": [
                    {
                      "automargin": true,
                      "type": "pie"
                    }
                  ],
                  "scatter3d": [
                    {
                      "line": {
                        "colorbar": {
                          "outlinewidth": 0,
                          "ticks": ""
                        }
                      },
                      "marker": {
                        "colorbar": {
                          "outlinewidth": 0,
                          "ticks": ""
                        }
                      },
                      "type": "scatter3d"
                    }
                  ],
                  "scattercarpet": [
                    {
                      "marker": {
                        "colorbar": {
                          "outlinewidth": 0,
                          "ticks": ""
                        }
                      },
                      "type": "scattercarpet"
                    }
                  ],
                  "scattergeo": [
                    {
                      "marker": {
                        "colorbar": {
                          "outlinewidth": 0,
                          "ticks": ""
                        }
                      },
                      "type": "scattergeo"
                    }
                  ],
                  "scattergl": [
                    {
                      "marker": {
                        "colorbar": {
                          "outlinewidth": 0,
                          "ticks": ""
                        }
                      },
                      "type": "scattergl"
                    }
                  ],
                  "scattermapbox": [
                    {
                      "marker": {
                        "colorbar": {
                          "outlinewidth": 0,
                          "ticks": ""
                        }
                      },
                      "type": "scattermapbox"
                    }
                  ],
                  "scatterpolargl": [
                    {
                      "marker": {
                        "colorbar": {
                          "outlinewidth": 0,
                          "ticks": ""
                        }
                      },
                      "type": "scatterpolargl"
                    }
                  ],
                  "scatterpolar": [
                    {
                      "marker": {
                        "colorbar": {
                          "outlinewidth": 0,
                          "ticks": ""
                        }
                      },
                      "type": "scatterpolar"
                    }
                  ],
                  "scatter": [
                    {
                      "marker": {
                        "colorbar": {
                          "outlinewidth": 0,
                          "ticks": ""
                        }
                      },
                      "type": "scatter"
                    }
                  ],
                  "scatterternary": [
                    {
                      "marker": {
                        "colorbar": {
                          "outlinewidth": 0,
                          "ticks": ""
                        }
                      },
                      "type": "scatterternary"
                    }
                  ],
                  "surface": [
                    {
                      "colorbar": {
                        "outlinewidth": 0,
                        "ticks": ""
                      },
                      "colorscale": [
                        [
                          0,
                          "#0d0887"
                        ],
                        [
                          0.1111111111111111,
                          "#46039f"
                        ],
                        [
                          0.2222222222222222,
                          "#7201a8"
                        ],
                        [
                          0.3333333333333333,
                          "#9c179e"
                        ],
                        [
                          0.4444444444444444,
                          "#bd3786"
                        ],
                        [
                          0.5555555555555556,
                          "#d8576b"
                        ],
                        [
                          0.6666666666666666,
                          "#ed7953"
                        ],
                        [
                          0.7777777777777778,
                          "#fb9f3a"
                        ],
                        [
                          0.8888888888888888,
                          "#fdca26"
                        ],
                        [
                          1,
                          "#f0f921"
                        ]
                      ],
                      "type": "surface"
                    }
                  ],
                  "table": [
                    {
                      "cells": {
                        "fill": {
                          "color": "#EBF0F8"
                        },
                        "line": {
                          "color": "white"
                        }
                      },
                      "header": {
                        "fill": {
                          "color": "#C8D4E3"
                        },
                        "line": {
                          "color": "white"
                        }
                      },
                      "type": "table"
                    }
                  ]
                },
                "layout": {
                  "annotationdefaults": {
                    "arrowcolor": "#2a3f5f",
                    "arrowhead": 0,
                    "arrowwidth": 1
                  },
                  "autotypenumbers": "strict",
                  "coloraxis": {
                    "colorbar": {
                      "outlinewidth": 0,
                      "ticks": ""
                    }
                  },
                  "colorscale": {
                    "diverging": [
                      [
                        0,
                        "#8e0152"
                      ],
                      [
                        0.1,
                        "#c51b7d"
                      ],
                      [
                        0.2,
                        "#de77ae"
                      ],
                      [
                        0.3,
                        "#f1b6da"
                      ],
                      [
                        0.4,
                        "#fde0ef"
                      ],
                      [
                        0.5,
                        "#f7f7f7"
                      ],
                      [
                        0.6,
                        "#e6f5d0"
                      ],
                      [
                        0.7,
                        "#b8e186"
                      ],
                      [
                        0.8,
                        "#7fbc41"
                      ],
                      [
                        0.9,
                        "#4d9221"
                      ],
                      [
                        1,
                        "#276419"
                      ]
                    ],
                    "sequential": [
                      [
                        0,
                        "#0d0887"
                      ],
                      [
                        0.1111111111111111,
                        "#46039f"
                      ],
                      [
                        0.2222222222222222,
                        "#7201a8"
                      ],
                      [
                        0.3333333333333333,
                        "#9c179e"
                      ],
                      [
                        0.4444444444444444,
                        "#bd3786"
                      ],
                      [
                        0.5555555555555556,
                        "#d8576b"
                      ],
                      [
                        0.6666666666666666,
                        "#ed7953"
                      ],
                      [
                        0.7777777777777778,
                        "#fb9f3a"
                      ],
                      [
                        0.8888888888888888,
                        "#fdca26"
                      ],
                      [
                        1,
                        "#f0f921"
                      ]
                    ],
                    "sequentialminus": [
                      [
                        0,
                        "#0d0887"
                      ],
                      [
                        0.1111111111111111,
                        "#46039f"
                      ],
                      [
                        0.2222222222222222,
                        "#7201a8"
                      ],
                      [
                        0.3333333333333333,
                        "#9c179e"
                      ],
                      [
                        0.4444444444444444,
                        "#bd3786"
                      ],
                      [
                        0.5555555555555556,
                        "#d8576b"
                      ],
                      [
                        0.6666666666666666,
                        "#ed7953"
                      ],
                      [
                        0.7777777777777778,
                        "#fb9f3a"
                      ],
                      [
                        0.8888888888888888,
                        "#fdca26"
                      ],
                      [
                        1,
                        "#f0f921"
                      ]
                    ]
                  },
                  "colorway": [
                    "#636efa",
                    "#EF553B",
                    "#00cc96",
                    "#ab63fa",
                    "#FFA15A",
                    "#19d3f3",
                    "#FF6692",
                    "#B6E880",
                    "#FF97FF",
                    "#FECB52"
                  ],
                  "font": {
                    "color": "#2a3f5f"
                  },
                  "geo": {
                    "bgcolor": "white",
                    "lakecolor": "white",
                    "landcolor": "white",
                    "showlakes": true,
                    "showland": true,
                    "subunitcolor": "#C8D4E3"
                  },
                  "hoverlabel": {
                    "align": "left"
                  },
                  "hovermode": "closest",
                  "mapbox": {
                    "style": "light"
                  },
                  "paper_bgcolor": "white",
                  "plot_bgcolor": "white",
                  "polar": {
                    "angularaxis": {
                      "gridcolor": "#EBF0F8",
                      "linecolor": "#EBF0F8",
                      "ticks": ""
                    },
                    "bgcolor": "white",
                    "radialaxis": {
                      "gridcolor": "#EBF0F8",
                      "linecolor": "#EBF0F8",
                      "ticks": ""
                    }
                  },
                  "scene": {
                    "xaxis": {
                      "backgroundcolor": "white",
                      "gridcolor": "#DFE8F3",
                      "gridwidth": 2,
                      "linecolor": "#EBF0F8",
                      "showbackground": true,
                      "ticks": "",
                      "zerolinecolor": "#EBF0F8"
                    },
                    "yaxis": {
                      "backgroundcolor": "white",
                      "gridcolor": "#DFE8F3",
                      "gridwidth": 2,
                      "linecolor": "#EBF0F8",
                      "showbackground": true,
                      "ticks": "",
                      "zerolinecolor": "#EBF0F8"
                    },
                    "zaxis": {
                      "backgroundcolor": "white",
                      "gridcolor": "#DFE8F3",
                      "gridwidth": 2,
                      "linecolor": "#EBF0F8",
                      "showbackground": true,
                      "ticks": "",
                      "zerolinecolor": "#EBF0F8"
                    }
                  },
                  "shapedefaults": {
                    "line": {
                      "color": "#2a3f5f"
                    }
                  },
                  "ternary": {
                    "aaxis": {
                      "gridcolor": "#DFE8F3",
                      "linecolor": "#A2B1C6",
                      "ticks": ""
                    },
                    "baxis": {
                      "gridcolor": "#DFE8F3",
                      "linecolor": "#A2B1C6",
                      "ticks": ""
                    },
                    "bgcolor": "white",
                    "caxis": {
                      "gridcolor": "#DFE8F3",
                      "linecolor": "#A2B1C6",
                      "ticks": ""
                    }
                  },
                  "title": {
                    "x": 0.05
                  },
                  "xaxis": {
                    "automargin": true,
                    "gridcolor": "#EBF0F8",
                    "linecolor": "#EBF0F8",
                    "ticks": "",
                    "title": {
                      "standoff": 15
                    },
                    "zerolinecolor": "#EBF0F8",
                    "zerolinewidth": 2
                  },
                  "yaxis": {
                    "automargin": true,
                    "gridcolor": "#EBF0F8",
                    "linecolor": "#EBF0F8",
                    "ticks": "",
                    "title": {
                      "standoff": 15
                    },
                    "zerolinecolor": "#EBF0F8",
                    "zerolinewidth": 2
                  }
                }
              },
              "title": {
                "text": "<b>Gantt Chart 2021</b>"
              },
              "width": 1500,
              "xaxis": {
                "anchor": "y",
                "domain": [
                  0,
                  1
                ],
                "dtick": "M1",
                "layer": "below traces",
                "range": [
                  "2021-01-01T00:00:00.000000",
                  "2021-12-31T00:00:00.000000"
                ],
                "rangeselector": {
                  "buttons": [
                    {
                      "count": 1,
                      "label": "1m",
                      "step": "month",
                      "stepmode": "backward"
                    },
                    {
                      "count": 6,
                      "label": "6m",
                      "step": "month",
                      "stepmode": "backward"
                    },
                    {
                      "count": 1,
                      "label": "YTD",
                      "step": "year",
                      "stepmode": "todate"
                    },
                    {
                      "count": 1,
                      "label": "1y",
                      "step": "year",
                      "stepmode": "backward"
                    },
                    {
                      "step": "all"
                    }
                  ],
                  "font": {
                    "color": "darkgray",
                    "family": "Arial",
                    "size": 14
                  },
                  "x": 0.37,
                  "y": -0.05
                },
                "rangeslider": {
                  "visible": true
                },
                "showgrid": true,
                "side": "top",
                "tickfont": {
                  "color": "gray",
                  "family": "Old Standard TT, serif",
                  "size": 24
                },
                "tickformat": "Q%q %Y \n",
                "ticklabelmode": "period",
                "ticklen": 20,
                "tickmode": "array",
                "ticks": "outside",
                "tickson": "boundaries",
                "tickwidth": 0.1,
                "title": {
                  "text": ""
                },
                "type": "date"
              },
              "yaxis": {
                "anchor": "x",
                "automargin": true,
                "autorange": "reversed",
                "domain": [
                  0,
                  1
                ],
                "showgrid": true,
                "showticklabels": true,
                "tickfont": {
                  "color": "gray",
                  "family": "Old Standard TT, serif",
                  "size": 16
                },
                "ticklen": 10,
                "title": {
                  "text": "Initiatives"
                }
              }
            },
            "_model_module": "jupyterlab-plotly",
            "_model_module_version": "^5.5.0",
            "_model_name": "FigureModel",
            "_py2js_addTraces": {},
            "_py2js_animate": {},
            "_py2js_deleteTraces": {},
            "_py2js_moveTraces": {},
            "_py2js_relayout": {},
            "_py2js_removeLayoutProps": null,
            "_py2js_removeTraceProps": {},
            "_py2js_restyle": {},
            "_py2js_update": {},
            "_view_count": 1,
            "_view_module": "jupyterlab-plotly",
            "_view_module_version": "^5.5.0",
            "_view_name": "FigureView"
          }
        }
      }
    }
  },
  "nbformat": 4,
  "nbformat_minor": 0
}