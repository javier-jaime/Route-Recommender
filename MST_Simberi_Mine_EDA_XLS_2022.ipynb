{
  "cells": [
    {
      "cell_type": "markdown",
      "metadata": {
        "id": "view-in-github",
        "colab_type": "text"
      },
      "source": [
        "<a href=\"https://colab.research.google.com/github/javier-jaime/Route-Recommender/blob/main/MST_Simberi_Mine_EDA_XLS_2022.ipynb\" target=\"_parent\"><img src=\"https://colab.research.google.com/assets/colab-badge.svg\" alt=\"Open In Colab\"/></a>"
      ]
    },
    {
      "cell_type": "markdown",
      "metadata": {
        "id": "a3_bfku9VsE5"
      },
      "source": [
        "# Exploratory Data Analysis (EDA)\n",
        "\n",
        "### MST Simberi Mine Load Summary"
      ]
    },
    {
      "cell_type": "markdown",
      "metadata": {
        "id": "W6S0ZHNaVsE9"
      },
      "source": [
        "## Data Preparation"
      ]
    },
    {
      "cell_type": "markdown",
      "metadata": {
        "id": "vFXTX4lfVsE9"
      },
      "source": [
        "Import necessary libraries"
      ]
    },
    {
      "cell_type": "code",
      "execution_count": 1,
      "metadata": {
        "id": "U4SiaRluVsE-"
      },
      "outputs": [],
      "source": [
        "import pandas as pd\n",
        "import numpy as np\n",
        "\n",
        "from google.colab import drive\n",
        "from google.colab import files\n",
        "\n",
        "import matplotlib.pyplot as plt\n",
        "# from sklearn.cluster import KMeans # Uncomment if required"
      ]
    },
    {
      "cell_type": "code",
      "execution_count": 2,
      "metadata": {
        "colab": {
          "base_uri": "https://localhost:8080/"
        },
        "id": "B8TLcbq7VsE8",
        "outputId": "69228ff6-ba7d-4ca3-d8c7-63896210f67e"
      },
      "outputs": [
        {
          "output_type": "stream",
          "name": "stdout",
          "text": [
            "Mounted at /content/drive\n"
          ]
        }
      ],
      "source": [
        "# Mount Google Drive\n",
        "\n",
        "drive.mount('/content/drive')"
      ]
    },
    {
      "cell_type": "code",
      "source": [
        "# Read dataset from excel in Google Drive to Pandas Data Frame\n",
        "data = pd.read_excel('drive/MyDrive/Colab_Data/Simberi Load Summary - 13th July 2022.xlsx', sheet_name='DMR')\n",
        "print(data.shape)\n",
        "# data['ID'] = data['ID'].astype(int)\n",
        "# data.set_index('ID', inplace=True)"
      ],
      "metadata": {
        "colab": {
          "base_uri": "https://localhost:8080/"
        },
        "id": "KkcREg8AWSUH",
        "outputId": "ddd02ace-f74a-47b6-ac68-e7779079fd53"
      },
      "execution_count": 58,
      "outputs": [
        {
          "output_type": "stream",
          "name": "stdout",
          "text": [
            "(628, 17)\n"
          ]
        }
      ]
    },
    {
      "cell_type": "code",
      "source": [
        "data.head()"
      ],
      "metadata": {
        "colab": {
          "base_uri": "https://localhost:8080/",
          "height": 493
        },
        "id": "w-EDsIxSdIeb",
        "outputId": "298f6a5f-b732-4833-8579-366373c3a215"
      },
      "execution_count": 59,
      "outputs": [
        {
          "output_type": "execute_result",
          "data": {
            "text/plain": [
              "  FleetNumber DepartureDate           AssetName2       DepartureTime  \\\n",
              "0       AT018    13/07/2022   Allen Yailus (HBS) 2022-07-13 08:10:53   \n",
              "1       AT018    13/07/2022  Francis Lucas (HBS) 2022-07-13 10:00:03   \n",
              "2       AT018    13/07/2022  Francis Lucas (HBS) 2022-07-13 10:16:18   \n",
              "3       AT018    13/07/2022  Francis Lucas (HBS) 2022-07-13 11:24:31   \n",
              "4       AT018    13/07/2022  Francis Lucas (HBS) 2022-07-13 13:17:16   \n",
              "\n",
              "                                  DepartFrom DrivingTime StandingTime  \\\n",
              "0                               HBS Workshop    00:08:10     01:34:46   \n",
              "1                               HBS Workshop    00:00:24     00:26:48   \n",
              "2                               HBS Workshop    00:47:47     00:14:26   \n",
              "3  Sorowar ROM Base (Hopper Area) (HG Oxide)    00:17:41     00:01:09   \n",
              "4                               HBS Workshop    00:16:42     00:04:42   \n",
              "\n",
              "   Duration  Distance  MaxSpeed  AvgSpeed         ArrivalTime ArrivalDate  \\\n",
              "0  01:42:56       1.7        29     12.49 2022-07-13 08:19:03  13/07/2022   \n",
              "1  00:27:12       0.1         9      9.00 2022-07-13 10:00:27  13/07/2022   \n",
              "2  01:02:13      10.1        40     12.68 2022-07-13 11:04:05  13/07/2022   \n",
              "3  00:18:50       6.5        44     22.05 2022-07-13 11:42:12  13/07/2022   \n",
              "4  00:21:24       5.1        39     18.32 2022-07-13 13:33:58  13/07/2022   \n",
              "\n",
              "                                    ArriveAt NextDepartureDateTime  \\\n",
              "0                               HBS Workshop   13/07/2022 10:00 AM   \n",
              "1                               HBS Workshop   13/07/2022 10:16 AM   \n",
              "2  Sorowar ROM Base (Hopper Area) (HG Oxide)   13/07/2022 11:24 AM   \n",
              "3                               HBS Workshop    13/07/2022 1:17 PM   \n",
              "4                               HBS Workshop    13/07/2022 2:27 PM   \n",
              "\n",
              "  TimeAtLocation  TotalFuelUsedMeasured  \n",
              "0       01:41:00                    NaN  \n",
              "1       00:15:51                    NaN  \n",
              "2       00:20:26                    NaN  \n",
              "3       01:35:04                    NaN  \n",
              "4       00:53:51                    NaN  "
            ],
            "text/html": [
              "\n",
              "  <div id=\"df-7718116d-7b49-4440-b164-5671d40ab1a8\">\n",
              "    <div class=\"colab-df-container\">\n",
              "      <div>\n",
              "<style scoped>\n",
              "    .dataframe tbody tr th:only-of-type {\n",
              "        vertical-align: middle;\n",
              "    }\n",
              "\n",
              "    .dataframe tbody tr th {\n",
              "        vertical-align: top;\n",
              "    }\n",
              "\n",
              "    .dataframe thead th {\n",
              "        text-align: right;\n",
              "    }\n",
              "</style>\n",
              "<table border=\"1\" class=\"dataframe\">\n",
              "  <thead>\n",
              "    <tr style=\"text-align: right;\">\n",
              "      <th></th>\n",
              "      <th>FleetNumber</th>\n",
              "      <th>DepartureDate</th>\n",
              "      <th>AssetName2</th>\n",
              "      <th>DepartureTime</th>\n",
              "      <th>DepartFrom</th>\n",
              "      <th>DrivingTime</th>\n",
              "      <th>StandingTime</th>\n",
              "      <th>Duration</th>\n",
              "      <th>Distance</th>\n",
              "      <th>MaxSpeed</th>\n",
              "      <th>AvgSpeed</th>\n",
              "      <th>ArrivalTime</th>\n",
              "      <th>ArrivalDate</th>\n",
              "      <th>ArriveAt</th>\n",
              "      <th>NextDepartureDateTime</th>\n",
              "      <th>TimeAtLocation</th>\n",
              "      <th>TotalFuelUsedMeasured</th>\n",
              "    </tr>\n",
              "  </thead>\n",
              "  <tbody>\n",
              "    <tr>\n",
              "      <th>0</th>\n",
              "      <td>AT018</td>\n",
              "      <td>13/07/2022</td>\n",
              "      <td>Allen Yailus (HBS)</td>\n",
              "      <td>2022-07-13 08:10:53</td>\n",
              "      <td>HBS Workshop</td>\n",
              "      <td>00:08:10</td>\n",
              "      <td>01:34:46</td>\n",
              "      <td>01:42:56</td>\n",
              "      <td>1.7</td>\n",
              "      <td>29</td>\n",
              "      <td>12.49</td>\n",
              "      <td>2022-07-13 08:19:03</td>\n",
              "      <td>13/07/2022</td>\n",
              "      <td>HBS Workshop</td>\n",
              "      <td>13/07/2022 10:00 AM</td>\n",
              "      <td>01:41:00</td>\n",
              "      <td>NaN</td>\n",
              "    </tr>\n",
              "    <tr>\n",
              "      <th>1</th>\n",
              "      <td>AT018</td>\n",
              "      <td>13/07/2022</td>\n",
              "      <td>Francis Lucas (HBS)</td>\n",
              "      <td>2022-07-13 10:00:03</td>\n",
              "      <td>HBS Workshop</td>\n",
              "      <td>00:00:24</td>\n",
              "      <td>00:26:48</td>\n",
              "      <td>00:27:12</td>\n",
              "      <td>0.1</td>\n",
              "      <td>9</td>\n",
              "      <td>9.00</td>\n",
              "      <td>2022-07-13 10:00:27</td>\n",
              "      <td>13/07/2022</td>\n",
              "      <td>HBS Workshop</td>\n",
              "      <td>13/07/2022 10:16 AM</td>\n",
              "      <td>00:15:51</td>\n",
              "      <td>NaN</td>\n",
              "    </tr>\n",
              "    <tr>\n",
              "      <th>2</th>\n",
              "      <td>AT018</td>\n",
              "      <td>13/07/2022</td>\n",
              "      <td>Francis Lucas (HBS)</td>\n",
              "      <td>2022-07-13 10:16:18</td>\n",
              "      <td>HBS Workshop</td>\n",
              "      <td>00:47:47</td>\n",
              "      <td>00:14:26</td>\n",
              "      <td>01:02:13</td>\n",
              "      <td>10.1</td>\n",
              "      <td>40</td>\n",
              "      <td>12.68</td>\n",
              "      <td>2022-07-13 11:04:05</td>\n",
              "      <td>13/07/2022</td>\n",
              "      <td>Sorowar ROM Base (Hopper Area) (HG Oxide)</td>\n",
              "      <td>13/07/2022 11:24 AM</td>\n",
              "      <td>00:20:26</td>\n",
              "      <td>NaN</td>\n",
              "    </tr>\n",
              "    <tr>\n",
              "      <th>3</th>\n",
              "      <td>AT018</td>\n",
              "      <td>13/07/2022</td>\n",
              "      <td>Francis Lucas (HBS)</td>\n",
              "      <td>2022-07-13 11:24:31</td>\n",
              "      <td>Sorowar ROM Base (Hopper Area) (HG Oxide)</td>\n",
              "      <td>00:17:41</td>\n",
              "      <td>00:01:09</td>\n",
              "      <td>00:18:50</td>\n",
              "      <td>6.5</td>\n",
              "      <td>44</td>\n",
              "      <td>22.05</td>\n",
              "      <td>2022-07-13 11:42:12</td>\n",
              "      <td>13/07/2022</td>\n",
              "      <td>HBS Workshop</td>\n",
              "      <td>13/07/2022 1:17 PM</td>\n",
              "      <td>01:35:04</td>\n",
              "      <td>NaN</td>\n",
              "    </tr>\n",
              "    <tr>\n",
              "      <th>4</th>\n",
              "      <td>AT018</td>\n",
              "      <td>13/07/2022</td>\n",
              "      <td>Francis Lucas (HBS)</td>\n",
              "      <td>2022-07-13 13:17:16</td>\n",
              "      <td>HBS Workshop</td>\n",
              "      <td>00:16:42</td>\n",
              "      <td>00:04:42</td>\n",
              "      <td>00:21:24</td>\n",
              "      <td>5.1</td>\n",
              "      <td>39</td>\n",
              "      <td>18.32</td>\n",
              "      <td>2022-07-13 13:33:58</td>\n",
              "      <td>13/07/2022</td>\n",
              "      <td>HBS Workshop</td>\n",
              "      <td>13/07/2022 2:27 PM</td>\n",
              "      <td>00:53:51</td>\n",
              "      <td>NaN</td>\n",
              "    </tr>\n",
              "  </tbody>\n",
              "</table>\n",
              "</div>\n",
              "      <button class=\"colab-df-convert\" onclick=\"convertToInteractive('df-7718116d-7b49-4440-b164-5671d40ab1a8')\"\n",
              "              title=\"Convert this dataframe to an interactive table.\"\n",
              "              style=\"display:none;\">\n",
              "        \n",
              "  <svg xmlns=\"http://www.w3.org/2000/svg\" height=\"24px\"viewBox=\"0 0 24 24\"\n",
              "       width=\"24px\">\n",
              "    <path d=\"M0 0h24v24H0V0z\" fill=\"none\"/>\n",
              "    <path d=\"M18.56 5.44l.94 2.06.94-2.06 2.06-.94-2.06-.94-.94-2.06-.94 2.06-2.06.94zm-11 1L8.5 8.5l.94-2.06 2.06-.94-2.06-.94L8.5 2.5l-.94 2.06-2.06.94zm10 10l.94 2.06.94-2.06 2.06-.94-2.06-.94-.94-2.06-.94 2.06-2.06.94z\"/><path d=\"M17.41 7.96l-1.37-1.37c-.4-.4-.92-.59-1.43-.59-.52 0-1.04.2-1.43.59L10.3 9.45l-7.72 7.72c-.78.78-.78 2.05 0 2.83L4 21.41c.39.39.9.59 1.41.59.51 0 1.02-.2 1.41-.59l7.78-7.78 2.81-2.81c.8-.78.8-2.07 0-2.86zM5.41 20L4 18.59l7.72-7.72 1.47 1.35L5.41 20z\"/>\n",
              "  </svg>\n",
              "      </button>\n",
              "      \n",
              "  <style>\n",
              "    .colab-df-container {\n",
              "      display:flex;\n",
              "      flex-wrap:wrap;\n",
              "      gap: 12px;\n",
              "    }\n",
              "\n",
              "    .colab-df-convert {\n",
              "      background-color: #E8F0FE;\n",
              "      border: none;\n",
              "      border-radius: 50%;\n",
              "      cursor: pointer;\n",
              "      display: none;\n",
              "      fill: #1967D2;\n",
              "      height: 32px;\n",
              "      padding: 0 0 0 0;\n",
              "      width: 32px;\n",
              "    }\n",
              "\n",
              "    .colab-df-convert:hover {\n",
              "      background-color: #E2EBFA;\n",
              "      box-shadow: 0px 1px 2px rgba(60, 64, 67, 0.3), 0px 1px 3px 1px rgba(60, 64, 67, 0.15);\n",
              "      fill: #174EA6;\n",
              "    }\n",
              "\n",
              "    [theme=dark] .colab-df-convert {\n",
              "      background-color: #3B4455;\n",
              "      fill: #D2E3FC;\n",
              "    }\n",
              "\n",
              "    [theme=dark] .colab-df-convert:hover {\n",
              "      background-color: #434B5C;\n",
              "      box-shadow: 0px 1px 3px 1px rgba(0, 0, 0, 0.15);\n",
              "      filter: drop-shadow(0px 1px 2px rgba(0, 0, 0, 0.3));\n",
              "      fill: #FFFFFF;\n",
              "    }\n",
              "  </style>\n",
              "\n",
              "      <script>\n",
              "        const buttonEl =\n",
              "          document.querySelector('#df-7718116d-7b49-4440-b164-5671d40ab1a8 button.colab-df-convert');\n",
              "        buttonEl.style.display =\n",
              "          google.colab.kernel.accessAllowed ? 'block' : 'none';\n",
              "\n",
              "        async function convertToInteractive(key) {\n",
              "          const element = document.querySelector('#df-7718116d-7b49-4440-b164-5671d40ab1a8');\n",
              "          const dataTable =\n",
              "            await google.colab.kernel.invokeFunction('convertToInteractive',\n",
              "                                                     [key], {});\n",
              "          if (!dataTable) return;\n",
              "\n",
              "          const docLinkHtml = 'Like what you see? Visit the ' +\n",
              "            '<a target=\"_blank\" href=https://colab.research.google.com/notebooks/data_table.ipynb>data table notebook</a>'\n",
              "            + ' to learn more about interactive tables.';\n",
              "          element.innerHTML = '';\n",
              "          dataTable['output_type'] = 'display_data';\n",
              "          await google.colab.output.renderOutput(dataTable, element);\n",
              "          const docLink = document.createElement('div');\n",
              "          docLink.innerHTML = docLinkHtml;\n",
              "          element.appendChild(docLink);\n",
              "        }\n",
              "      </script>\n",
              "    </div>\n",
              "  </div>\n",
              "  "
            ]
          },
          "metadata": {},
          "execution_count": 59
        }
      ]
    },
    {
      "cell_type": "code",
      "source": [
        "# Empty/NA cells\n",
        "data.isnull().any()"
      ],
      "metadata": {
        "colab": {
          "base_uri": "https://localhost:8080/"
        },
        "id": "YuUu46zjisj0",
        "outputId": "8a9bad6f-5236-4068-de2b-77979d8bbfff"
      },
      "execution_count": 60,
      "outputs": [
        {
          "output_type": "execute_result",
          "data": {
            "text/plain": [
              "FleetNumber              False\n",
              "DepartureDate            False\n",
              "AssetName2               False\n",
              "DepartureTime            False\n",
              "DepartFrom               False\n",
              "DrivingTime              False\n",
              "StandingTime             False\n",
              "Duration                 False\n",
              "Distance                 False\n",
              "MaxSpeed                 False\n",
              "AvgSpeed                 False\n",
              "ArrivalTime              False\n",
              "ArrivalDate              False\n",
              "ArriveAt                 False\n",
              "NextDepartureDateTime     True\n",
              "TimeAtLocation            True\n",
              "TotalFuelUsedMeasured     True\n",
              "dtype: bool"
            ]
          },
          "metadata": {},
          "execution_count": 60
        }
      ]
    },
    {
      "cell_type": "code",
      "source": [
        "# Drop no necessary columns\n",
        "data.drop(columns=['DepartureDate','ArrivalDate','NextDepartureDateTime','TimeAtLocation','TotalFuelUsedMeasured'], inplace=True)"
      ],
      "metadata": {
        "id": "XZsYnz2pDfMZ"
      },
      "execution_count": 61,
      "outputs": []
    },
    {
      "cell_type": "code",
      "source": [
        "# Drop rows with Empty/NA cells uncomment if required\n",
        "data = data.dropna(axis=0)\n",
        "print(data.shape)\n",
        "data.isnull().any()"
      ],
      "metadata": {
        "id": "GXBVHoSsCf_m",
        "colab": {
          "base_uri": "https://localhost:8080/"
        },
        "outputId": "c5f97996-7e2d-4e48-aadb-f23bc4753f00"
      },
      "execution_count": 62,
      "outputs": [
        {
          "output_type": "stream",
          "name": "stdout",
          "text": [
            "(628, 12)\n"
          ]
        },
        {
          "output_type": "execute_result",
          "data": {
            "text/plain": [
              "FleetNumber      False\n",
              "AssetName2       False\n",
              "DepartureTime    False\n",
              "DepartFrom       False\n",
              "DrivingTime      False\n",
              "StandingTime     False\n",
              "Duration         False\n",
              "Distance         False\n",
              "MaxSpeed         False\n",
              "AvgSpeed         False\n",
              "ArrivalTime      False\n",
              "ArriveAt         False\n",
              "dtype: bool"
            ]
          },
          "metadata": {},
          "execution_count": 62
        }
      ]
    },
    {
      "cell_type": "code",
      "source": [
        "data.dtypes"
      ],
      "metadata": {
        "colab": {
          "base_uri": "https://localhost:8080/"
        },
        "id": "OWF_I7PFqy2n",
        "outputId": "7c73c25f-b1d1-4727-b37f-7ab0027f4e1a"
      },
      "execution_count": 63,
      "outputs": [
        {
          "output_type": "execute_result",
          "data": {
            "text/plain": [
              "FleetNumber              object\n",
              "AssetName2               object\n",
              "DepartureTime    datetime64[ns]\n",
              "DepartFrom               object\n",
              "DrivingTime              object\n",
              "StandingTime             object\n",
              "Duration                 object\n",
              "Distance                float64\n",
              "MaxSpeed                  int64\n",
              "AvgSpeed                float64\n",
              "ArrivalTime      datetime64[ns]\n",
              "ArriveAt                 object\n",
              "dtype: object"
            ]
          },
          "metadata": {},
          "execution_count": 63
        }
      ]
    },
    {
      "cell_type": "code",
      "source": [
        "data.describe(include=[object]).transpose()"
      ],
      "metadata": {
        "colab": {
          "base_uri": "https://localhost:8080/",
          "height": 269
        },
        "id": "28Y8-sDnk5Te",
        "outputId": "99a3e1c7-cc46-49ee-c043-0f79681484a3"
      },
      "execution_count": 64,
      "outputs": [
        {
          "output_type": "execute_result",
          "data": {
            "text/plain": [
              "             count unique                     top freq\n",
              "FleetNumber    628     21                   AT475   79\n",
              "AssetName2     628     63        Lava Igavu (HBS)   41\n",
              "DepartFrom     628     28  Sorowar South Pit/95RL  180\n",
              "DrivingTime    628    507                00:00:00    8\n",
              "StandingTime   628    306                00:02:27   10\n",
              "Duration       628    540                00:11:04    3\n",
              "ArriveAt       628     25  Sorowar South Pit/95RL  182"
            ],
            "text/html": [
              "\n",
              "  <div id=\"df-6809ce80-74f3-4b6d-bbea-3ee61c412668\">\n",
              "    <div class=\"colab-df-container\">\n",
              "      <div>\n",
              "<style scoped>\n",
              "    .dataframe tbody tr th:only-of-type {\n",
              "        vertical-align: middle;\n",
              "    }\n",
              "\n",
              "    .dataframe tbody tr th {\n",
              "        vertical-align: top;\n",
              "    }\n",
              "\n",
              "    .dataframe thead th {\n",
              "        text-align: right;\n",
              "    }\n",
              "</style>\n",
              "<table border=\"1\" class=\"dataframe\">\n",
              "  <thead>\n",
              "    <tr style=\"text-align: right;\">\n",
              "      <th></th>\n",
              "      <th>count</th>\n",
              "      <th>unique</th>\n",
              "      <th>top</th>\n",
              "      <th>freq</th>\n",
              "    </tr>\n",
              "  </thead>\n",
              "  <tbody>\n",
              "    <tr>\n",
              "      <th>FleetNumber</th>\n",
              "      <td>628</td>\n",
              "      <td>21</td>\n",
              "      <td>AT475</td>\n",
              "      <td>79</td>\n",
              "    </tr>\n",
              "    <tr>\n",
              "      <th>AssetName2</th>\n",
              "      <td>628</td>\n",
              "      <td>63</td>\n",
              "      <td>Lava Igavu (HBS)</td>\n",
              "      <td>41</td>\n",
              "    </tr>\n",
              "    <tr>\n",
              "      <th>DepartFrom</th>\n",
              "      <td>628</td>\n",
              "      <td>28</td>\n",
              "      <td>Sorowar South Pit/95RL</td>\n",
              "      <td>180</td>\n",
              "    </tr>\n",
              "    <tr>\n",
              "      <th>DrivingTime</th>\n",
              "      <td>628</td>\n",
              "      <td>507</td>\n",
              "      <td>00:00:00</td>\n",
              "      <td>8</td>\n",
              "    </tr>\n",
              "    <tr>\n",
              "      <th>StandingTime</th>\n",
              "      <td>628</td>\n",
              "      <td>306</td>\n",
              "      <td>00:02:27</td>\n",
              "      <td>10</td>\n",
              "    </tr>\n",
              "    <tr>\n",
              "      <th>Duration</th>\n",
              "      <td>628</td>\n",
              "      <td>540</td>\n",
              "      <td>00:11:04</td>\n",
              "      <td>3</td>\n",
              "    </tr>\n",
              "    <tr>\n",
              "      <th>ArriveAt</th>\n",
              "      <td>628</td>\n",
              "      <td>25</td>\n",
              "      <td>Sorowar South Pit/95RL</td>\n",
              "      <td>182</td>\n",
              "    </tr>\n",
              "  </tbody>\n",
              "</table>\n",
              "</div>\n",
              "      <button class=\"colab-df-convert\" onclick=\"convertToInteractive('df-6809ce80-74f3-4b6d-bbea-3ee61c412668')\"\n",
              "              title=\"Convert this dataframe to an interactive table.\"\n",
              "              style=\"display:none;\">\n",
              "        \n",
              "  <svg xmlns=\"http://www.w3.org/2000/svg\" height=\"24px\"viewBox=\"0 0 24 24\"\n",
              "       width=\"24px\">\n",
              "    <path d=\"M0 0h24v24H0V0z\" fill=\"none\"/>\n",
              "    <path d=\"M18.56 5.44l.94 2.06.94-2.06 2.06-.94-2.06-.94-.94-2.06-.94 2.06-2.06.94zm-11 1L8.5 8.5l.94-2.06 2.06-.94-2.06-.94L8.5 2.5l-.94 2.06-2.06.94zm10 10l.94 2.06.94-2.06 2.06-.94-2.06-.94-.94-2.06-.94 2.06-2.06.94z\"/><path d=\"M17.41 7.96l-1.37-1.37c-.4-.4-.92-.59-1.43-.59-.52 0-1.04.2-1.43.59L10.3 9.45l-7.72 7.72c-.78.78-.78 2.05 0 2.83L4 21.41c.39.39.9.59 1.41.59.51 0 1.02-.2 1.41-.59l7.78-7.78 2.81-2.81c.8-.78.8-2.07 0-2.86zM5.41 20L4 18.59l7.72-7.72 1.47 1.35L5.41 20z\"/>\n",
              "  </svg>\n",
              "      </button>\n",
              "      \n",
              "  <style>\n",
              "    .colab-df-container {\n",
              "      display:flex;\n",
              "      flex-wrap:wrap;\n",
              "      gap: 12px;\n",
              "    }\n",
              "\n",
              "    .colab-df-convert {\n",
              "      background-color: #E8F0FE;\n",
              "      border: none;\n",
              "      border-radius: 50%;\n",
              "      cursor: pointer;\n",
              "      display: none;\n",
              "      fill: #1967D2;\n",
              "      height: 32px;\n",
              "      padding: 0 0 0 0;\n",
              "      width: 32px;\n",
              "    }\n",
              "\n",
              "    .colab-df-convert:hover {\n",
              "      background-color: #E2EBFA;\n",
              "      box-shadow: 0px 1px 2px rgba(60, 64, 67, 0.3), 0px 1px 3px 1px rgba(60, 64, 67, 0.15);\n",
              "      fill: #174EA6;\n",
              "    }\n",
              "\n",
              "    [theme=dark] .colab-df-convert {\n",
              "      background-color: #3B4455;\n",
              "      fill: #D2E3FC;\n",
              "    }\n",
              "\n",
              "    [theme=dark] .colab-df-convert:hover {\n",
              "      background-color: #434B5C;\n",
              "      box-shadow: 0px 1px 3px 1px rgba(0, 0, 0, 0.15);\n",
              "      filter: drop-shadow(0px 1px 2px rgba(0, 0, 0, 0.3));\n",
              "      fill: #FFFFFF;\n",
              "    }\n",
              "  </style>\n",
              "\n",
              "      <script>\n",
              "        const buttonEl =\n",
              "          document.querySelector('#df-6809ce80-74f3-4b6d-bbea-3ee61c412668 button.colab-df-convert');\n",
              "        buttonEl.style.display =\n",
              "          google.colab.kernel.accessAllowed ? 'block' : 'none';\n",
              "\n",
              "        async function convertToInteractive(key) {\n",
              "          const element = document.querySelector('#df-6809ce80-74f3-4b6d-bbea-3ee61c412668');\n",
              "          const dataTable =\n",
              "            await google.colab.kernel.invokeFunction('convertToInteractive',\n",
              "                                                     [key], {});\n",
              "          if (!dataTable) return;\n",
              "\n",
              "          const docLinkHtml = 'Like what you see? Visit the ' +\n",
              "            '<a target=\"_blank\" href=https://colab.research.google.com/notebooks/data_table.ipynb>data table notebook</a>'\n",
              "            + ' to learn more about interactive tables.';\n",
              "          element.innerHTML = '';\n",
              "          dataTable['output_type'] = 'display_data';\n",
              "          await google.colab.output.renderOutput(dataTable, element);\n",
              "          const docLink = document.createElement('div');\n",
              "          docLink.innerHTML = docLinkHtml;\n",
              "          element.appendChild(docLink);\n",
              "        }\n",
              "      </script>\n",
              "    </div>\n",
              "  </div>\n",
              "  "
            ]
          },
          "metadata": {},
          "execution_count": 64
        }
      ]
    },
    {
      "cell_type": "code",
      "source": [
        "data.describe().transpose().round(2)"
      ],
      "metadata": {
        "colab": {
          "base_uri": "https://localhost:8080/",
          "height": 143
        },
        "id": "_dqZxJOkmb3H",
        "outputId": "e02e5298-5506-455d-bac0-76f3cd8a9cf2"
      },
      "execution_count": 65,
      "outputs": [
        {
          "output_type": "execute_result",
          "data": {
            "text/plain": [
              "          count   mean    std  min   25%    50%    75%    max\n",
              "Distance  628.0   3.61   5.97  0.0   0.7   1.70   3.90  45.40\n",
              "MaxSpeed  628.0  27.13  12.77  5.0  18.0  28.00  38.00  62.00\n",
              "AvgSpeed  628.0   9.59   5.57  0.0   7.1   9.93  12.01  35.64"
            ],
            "text/html": [
              "\n",
              "  <div id=\"df-3fcda163-eb6e-4f06-ae32-42d717ac1b56\">\n",
              "    <div class=\"colab-df-container\">\n",
              "      <div>\n",
              "<style scoped>\n",
              "    .dataframe tbody tr th:only-of-type {\n",
              "        vertical-align: middle;\n",
              "    }\n",
              "\n",
              "    .dataframe tbody tr th {\n",
              "        vertical-align: top;\n",
              "    }\n",
              "\n",
              "    .dataframe thead th {\n",
              "        text-align: right;\n",
              "    }\n",
              "</style>\n",
              "<table border=\"1\" class=\"dataframe\">\n",
              "  <thead>\n",
              "    <tr style=\"text-align: right;\">\n",
              "      <th></th>\n",
              "      <th>count</th>\n",
              "      <th>mean</th>\n",
              "      <th>std</th>\n",
              "      <th>min</th>\n",
              "      <th>25%</th>\n",
              "      <th>50%</th>\n",
              "      <th>75%</th>\n",
              "      <th>max</th>\n",
              "    </tr>\n",
              "  </thead>\n",
              "  <tbody>\n",
              "    <tr>\n",
              "      <th>Distance</th>\n",
              "      <td>628.0</td>\n",
              "      <td>3.61</td>\n",
              "      <td>5.97</td>\n",
              "      <td>0.0</td>\n",
              "      <td>0.7</td>\n",
              "      <td>1.70</td>\n",
              "      <td>3.90</td>\n",
              "      <td>45.40</td>\n",
              "    </tr>\n",
              "    <tr>\n",
              "      <th>MaxSpeed</th>\n",
              "      <td>628.0</td>\n",
              "      <td>27.13</td>\n",
              "      <td>12.77</td>\n",
              "      <td>5.0</td>\n",
              "      <td>18.0</td>\n",
              "      <td>28.00</td>\n",
              "      <td>38.00</td>\n",
              "      <td>62.00</td>\n",
              "    </tr>\n",
              "    <tr>\n",
              "      <th>AvgSpeed</th>\n",
              "      <td>628.0</td>\n",
              "      <td>9.59</td>\n",
              "      <td>5.57</td>\n",
              "      <td>0.0</td>\n",
              "      <td>7.1</td>\n",
              "      <td>9.93</td>\n",
              "      <td>12.01</td>\n",
              "      <td>35.64</td>\n",
              "    </tr>\n",
              "  </tbody>\n",
              "</table>\n",
              "</div>\n",
              "      <button class=\"colab-df-convert\" onclick=\"convertToInteractive('df-3fcda163-eb6e-4f06-ae32-42d717ac1b56')\"\n",
              "              title=\"Convert this dataframe to an interactive table.\"\n",
              "              style=\"display:none;\">\n",
              "        \n",
              "  <svg xmlns=\"http://www.w3.org/2000/svg\" height=\"24px\"viewBox=\"0 0 24 24\"\n",
              "       width=\"24px\">\n",
              "    <path d=\"M0 0h24v24H0V0z\" fill=\"none\"/>\n",
              "    <path d=\"M18.56 5.44l.94 2.06.94-2.06 2.06-.94-2.06-.94-.94-2.06-.94 2.06-2.06.94zm-11 1L8.5 8.5l.94-2.06 2.06-.94-2.06-.94L8.5 2.5l-.94 2.06-2.06.94zm10 10l.94 2.06.94-2.06 2.06-.94-2.06-.94-.94-2.06-.94 2.06-2.06.94z\"/><path d=\"M17.41 7.96l-1.37-1.37c-.4-.4-.92-.59-1.43-.59-.52 0-1.04.2-1.43.59L10.3 9.45l-7.72 7.72c-.78.78-.78 2.05 0 2.83L4 21.41c.39.39.9.59 1.41.59.51 0 1.02-.2 1.41-.59l7.78-7.78 2.81-2.81c.8-.78.8-2.07 0-2.86zM5.41 20L4 18.59l7.72-7.72 1.47 1.35L5.41 20z\"/>\n",
              "  </svg>\n",
              "      </button>\n",
              "      \n",
              "  <style>\n",
              "    .colab-df-container {\n",
              "      display:flex;\n",
              "      flex-wrap:wrap;\n",
              "      gap: 12px;\n",
              "    }\n",
              "\n",
              "    .colab-df-convert {\n",
              "      background-color: #E8F0FE;\n",
              "      border: none;\n",
              "      border-radius: 50%;\n",
              "      cursor: pointer;\n",
              "      display: none;\n",
              "      fill: #1967D2;\n",
              "      height: 32px;\n",
              "      padding: 0 0 0 0;\n",
              "      width: 32px;\n",
              "    }\n",
              "\n",
              "    .colab-df-convert:hover {\n",
              "      background-color: #E2EBFA;\n",
              "      box-shadow: 0px 1px 2px rgba(60, 64, 67, 0.3), 0px 1px 3px 1px rgba(60, 64, 67, 0.15);\n",
              "      fill: #174EA6;\n",
              "    }\n",
              "\n",
              "    [theme=dark] .colab-df-convert {\n",
              "      background-color: #3B4455;\n",
              "      fill: #D2E3FC;\n",
              "    }\n",
              "\n",
              "    [theme=dark] .colab-df-convert:hover {\n",
              "      background-color: #434B5C;\n",
              "      box-shadow: 0px 1px 3px 1px rgba(0, 0, 0, 0.15);\n",
              "      filter: drop-shadow(0px 1px 2px rgba(0, 0, 0, 0.3));\n",
              "      fill: #FFFFFF;\n",
              "    }\n",
              "  </style>\n",
              "\n",
              "      <script>\n",
              "        const buttonEl =\n",
              "          document.querySelector('#df-3fcda163-eb6e-4f06-ae32-42d717ac1b56 button.colab-df-convert');\n",
              "        buttonEl.style.display =\n",
              "          google.colab.kernel.accessAllowed ? 'block' : 'none';\n",
              "\n",
              "        async function convertToInteractive(key) {\n",
              "          const element = document.querySelector('#df-3fcda163-eb6e-4f06-ae32-42d717ac1b56');\n",
              "          const dataTable =\n",
              "            await google.colab.kernel.invokeFunction('convertToInteractive',\n",
              "                                                     [key], {});\n",
              "          if (!dataTable) return;\n",
              "\n",
              "          const docLinkHtml = 'Like what you see? Visit the ' +\n",
              "            '<a target=\"_blank\" href=https://colab.research.google.com/notebooks/data_table.ipynb>data table notebook</a>'\n",
              "            + ' to learn more about interactive tables.';\n",
              "          element.innerHTML = '';\n",
              "          dataTable['output_type'] = 'display_data';\n",
              "          await google.colab.output.renderOutput(dataTable, element);\n",
              "          const docLink = document.createElement('div');\n",
              "          docLink.innerHTML = docLinkHtml;\n",
              "          element.appendChild(docLink);\n",
              "        }\n",
              "      </script>\n",
              "    </div>\n",
              "  </div>\n",
              "  "
            ]
          },
          "metadata": {},
          "execution_count": 65
        }
      ]
    },
    {
      "cell_type": "code",
      "source": [
        "# Distance Distribution is OK, but too many zeros\n",
        "print(data['Distance'].describe())\n",
        "data['Distance'].plot.hist(figsize = [20, 5], fontsize = 12)\n",
        "print('\\n# of zeros:', len(data[data['Distance']==0]))"
      ],
      "metadata": {
        "colab": {
          "base_uri": "https://localhost:8080/",
          "height": 514
        },
        "outputId": "ea32aed0-c02e-4e46-cdf3-4c4f9c3a8b1d",
        "id": "iUjfRdZU6fZK"
      },
      "execution_count": 66,
      "outputs": [
        {
          "output_type": "stream",
          "name": "stdout",
          "text": [
            "count    628.000000\n",
            "mean       3.610669\n",
            "std        5.966106\n",
            "min        0.000000\n",
            "25%        0.700000\n",
            "50%        1.700000\n",
            "75%        3.900000\n",
            "max       45.400000\n",
            "Name: Distance, dtype: float64\n",
            "\n",
            "# of zeros: 87\n"
          ]
        },
        {
          "output_type": "display_data",
          "data": {
            "text/plain": [
              "<Figure size 1440x360 with 1 Axes>"
            ],
            "image/png": "[encoded data removed]"
          },
          "metadata": {
            "needs_background": "light"
          }
        }
      ]
    },
    {
      "cell_type": "code",
      "source": [
        "# Duration contains negative values / strings\n",
        "print(data['Duration'].describe())\n"
      ],
      "metadata": {
        "colab": {
          "base_uri": "https://localhost:8080/"
        },
        "id": "105Dh7JENoJt",
        "outputId": "6b3c3ca1-7ff1-415b-ec54-791bba69a8ba"
      },
      "execution_count": 67,
      "outputs": [
        {
          "output_type": "stream",
          "name": "stdout",
          "text": [
            "count          628\n",
            "unique         540\n",
            "top       00:11:04\n",
            "freq             3\n",
            "Name: Duration, dtype: object\n"
          ]
        }
      ]
    },
    {
      "cell_type": "code",
      "source": [
        "data[data['Duration'].str.isnumeric() ==False]"
      ],
      "metadata": {
        "colab": {
          "base_uri": "https://localhost:8080/",
          "height": 81
        },
        "id": "f4ZW_De9BNug",
        "outputId": "57e990b4-c06d-43fc-e442-7d25ad26b454"
      },
      "execution_count": 68,
      "outputs": [
        {
          "output_type": "execute_result",
          "data": {
            "text/plain": [
              "   FleetNumber       AssetName2       DepartureTime  \\\n",
              "22       AT018  Kaupa Kol (HBS) 2022-07-14 00:03:04   \n",
              "\n",
              "                     DepartFrom DrivingTime StandingTime   Duration  Distance  \\\n",
              "22  Sorowar South Pit Access Rd    00:08:05   00:-08:-06  00:00:-01       0.0   \n",
              "\n",
              "    MaxSpeed  AvgSpeed         ArrivalTime          ArriveAt  \n",
              "22        19       0.0 2022-07-14 00:11:09  Sorowar Magazine  "
            ],
            "text/html": [
              "\n",
              "  <div id=\"df-558ac936-5d2a-47e2-8018-d0be76d59e24\">\n",
              "    <div class=\"colab-df-container\">\n",
              "      <div>\n",
              "<style scoped>\n",
              "    .dataframe tbody tr th:only-of-type {\n",
              "        vertical-align: middle;\n",
              "    }\n",
              "\n",
              "    .dataframe tbody tr th {\n",
              "        vertical-align: top;\n",
              "    }\n",
              "\n",
              "    .dataframe thead th {\n",
              "        text-align: right;\n",
              "    }\n",
              "</style>\n",
              "<table border=\"1\" class=\"dataframe\">\n",
              "  <thead>\n",
              "    <tr style=\"text-align: right;\">\n",
              "      <th></th>\n",
              "      <th>FleetNumber</th>\n",
              "      <th>AssetName2</th>\n",
              "      <th>DepartureTime</th>\n",
              "      <th>DepartFrom</th>\n",
              "      <th>DrivingTime</th>\n",
              "      <th>StandingTime</th>\n",
              "      <th>Duration</th>\n",
              "      <th>Distance</th>\n",
              "      <th>MaxSpeed</th>\n",
              "      <th>AvgSpeed</th>\n",
              "      <th>ArrivalTime</th>\n",
              "      <th>ArriveAt</th>\n",
              "    </tr>\n",
              "  </thead>\n",
              "  <tbody>\n",
              "    <tr>\n",
              "      <th>22</th>\n",
              "      <td>AT018</td>\n",
              "      <td>Kaupa Kol (HBS)</td>\n",
              "      <td>2022-07-14 00:03:04</td>\n",
              "      <td>Sorowar South Pit Access Rd</td>\n",
              "      <td>00:08:05</td>\n",
              "      <td>00:-08:-06</td>\n",
              "      <td>00:00:-01</td>\n",
              "      <td>0.0</td>\n",
              "      <td>19</td>\n",
              "      <td>0.0</td>\n",
              "      <td>2022-07-14 00:11:09</td>\n",
              "      <td>Sorowar Magazine</td>\n",
              "    </tr>\n",
              "  </tbody>\n",
              "</table>\n",
              "</div>\n",
              "      <button class=\"colab-df-convert\" onclick=\"convertToInteractive('df-558ac936-5d2a-47e2-8018-d0be76d59e24')\"\n",
              "              title=\"Convert this dataframe to an interactive table.\"\n",
              "              style=\"display:none;\">\n",
              "        \n",
              "  <svg xmlns=\"http://www.w3.org/2000/svg\" height=\"24px\"viewBox=\"0 0 24 24\"\n",
              "       width=\"24px\">\n",
              "    <path d=\"M0 0h24v24H0V0z\" fill=\"none\"/>\n",
              "    <path d=\"M18.56 5.44l.94 2.06.94-2.06 2.06-.94-2.06-.94-.94-2.06-.94 2.06-2.06.94zm-11 1L8.5 8.5l.94-2.06 2.06-.94-2.06-.94L8.5 2.5l-.94 2.06-2.06.94zm10 10l.94 2.06.94-2.06 2.06-.94-2.06-.94-.94-2.06-.94 2.06-2.06.94z\"/><path d=\"M17.41 7.96l-1.37-1.37c-.4-.4-.92-.59-1.43-.59-.52 0-1.04.2-1.43.59L10.3 9.45l-7.72 7.72c-.78.78-.78 2.05 0 2.83L4 21.41c.39.39.9.59 1.41.59.51 0 1.02-.2 1.41-.59l7.78-7.78 2.81-2.81c.8-.78.8-2.07 0-2.86zM5.41 20L4 18.59l7.72-7.72 1.47 1.35L5.41 20z\"/>\n",
              "  </svg>\n",
              "      </button>\n",
              "      \n",
              "  <style>\n",
              "    .colab-df-container {\n",
              "      display:flex;\n",
              "      flex-wrap:wrap;\n",
              "      gap: 12px;\n",
              "    }\n",
              "\n",
              "    .colab-df-convert {\n",
              "      background-color: #E8F0FE;\n",
              "      border: none;\n",
              "      border-radius: 50%;\n",
              "      cursor: pointer;\n",
              "      display: none;\n",
              "      fill: #1967D2;\n",
              "      height: 32px;\n",
              "      padding: 0 0 0 0;\n",
              "      width: 32px;\n",
              "    }\n",
              "\n",
              "    .colab-df-convert:hover {\n",
              "      background-color: #E2EBFA;\n",
              "      box-shadow: 0px 1px 2px rgba(60, 64, 67, 0.3), 0px 1px 3px 1px rgba(60, 64, 67, 0.15);\n",
              "      fill: #174EA6;\n",
              "    }\n",
              "\n",
              "    [theme=dark] .colab-df-convert {\n",
              "      background-color: #3B4455;\n",
              "      fill: #D2E3FC;\n",
              "    }\n",
              "\n",
              "    [theme=dark] .colab-df-convert:hover {\n",
              "      background-color: #434B5C;\n",
              "      box-shadow: 0px 1px 3px 1px rgba(0, 0, 0, 0.15);\n",
              "      filter: drop-shadow(0px 1px 2px rgba(0, 0, 0, 0.3));\n",
              "      fill: #FFFFFF;\n",
              "    }\n",
              "  </style>\n",
              "\n",
              "      <script>\n",
              "        const buttonEl =\n",
              "          document.querySelector('#df-558ac936-5d2a-47e2-8018-d0be76d59e24 button.colab-df-convert');\n",
              "        buttonEl.style.display =\n",
              "          google.colab.kernel.accessAllowed ? 'block' : 'none';\n",
              "\n",
              "        async function convertToInteractive(key) {\n",
              "          const element = document.querySelector('#df-558ac936-5d2a-47e2-8018-d0be76d59e24');\n",
              "          const dataTable =\n",
              "            await google.colab.kernel.invokeFunction('convertToInteractive',\n",
              "                                                     [key], {});\n",
              "          if (!dataTable) return;\n",
              "\n",
              "          const docLinkHtml = 'Like what you see? Visit the ' +\n",
              "            '<a target=\"_blank\" href=https://colab.research.google.com/notebooks/data_table.ipynb>data table notebook</a>'\n",
              "            + ' to learn more about interactive tables.';\n",
              "          element.innerHTML = '';\n",
              "          dataTable['output_type'] = 'display_data';\n",
              "          await google.colab.output.renderOutput(dataTable, element);\n",
              "          const docLink = document.createElement('div');\n",
              "          docLink.innerHTML = docLinkHtml;\n",
              "          element.appendChild(docLink);\n",
              "        }\n",
              "      </script>\n",
              "    </div>\n",
              "  </div>\n",
              "  "
            ]
          },
          "metadata": {},
          "execution_count": 68
        }
      ]
    },
    {
      "cell_type": "code",
      "source": [
        "# Max Speed Distributions not OK\n",
        "print(data['MaxSpeed'].describe())\n",
        "data['MaxSpeed'].plot.hist(figsize = [20, 5], fontsize = 12)"
      ],
      "metadata": {
        "colab": {
          "base_uri": "https://localhost:8080/",
          "height": 497
        },
        "outputId": "894fddba-cd40-4baa-baa6-5bce2040e30f",
        "id": "QzXTvuoj934o"
      },
      "execution_count": 69,
      "outputs": [
        {
          "output_type": "stream",
          "name": "stdout",
          "text": [
            "count    628.000000\n",
            "mean      27.133758\n",
            "std       12.772751\n",
            "min        5.000000\n",
            "25%       18.000000\n",
            "50%       28.000000\n",
            "75%       38.000000\n",
            "max       62.000000\n",
            "Name: MaxSpeed, dtype: float64\n"
          ]
        },
        {
          "output_type": "execute_result",
          "data": {
            "text/plain": [
              "<matplotlib.axes._subplots.AxesSubplot at 0x7f35eb058590>"
            ]
          },
          "metadata": {},
          "execution_count": 69
        },
        {
          "output_type": "display_data",
          "data": {
            "text/plain": [
              "<Figure size 1440x360 with 1 Axes>"
            ],
            "image/png": "[encoded data removed]"
          },
          "metadata": {
            "needs_background": "light"
          }
        }
      ]
    },
    {
      "cell_type": "code",
      "source": [
        "# Avg Speed is OK, but too many zeros\n",
        "print(data['AvgSpeed'].describe())\n",
        "data['AvgSpeed'].plot.hist(figsize = [20, 5], fontsize = 12)\n",
        "print('\\n# of zeros:', len(data[data['AvgSpeed']==0]))"
      ],
      "metadata": {
        "colab": {
          "base_uri": "https://localhost:8080/",
          "height": 514
        },
        "outputId": "bc2989a9-cf33-4883-aff1-1a91db1e713a",
        "id": "iXH4dGUH94jf"
      },
      "execution_count": 70,
      "outputs": [
        {
          "output_type": "stream",
          "name": "stdout",
          "text": [
            "count    628.000000\n",
            "mean       9.590908\n",
            "std        5.566545\n",
            "min        0.000000\n",
            "25%        7.097500\n",
            "50%        9.925000\n",
            "75%       12.007500\n",
            "max       35.640000\n",
            "Name: AvgSpeed, dtype: float64\n",
            "\n",
            "# of zeros: 87\n"
          ]
        },
        {
          "output_type": "display_data",
          "data": {
            "text/plain": [
              "<Figure size 1440x360 with 1 Axes>"
            ],
            "image/png": "[encoded data removed]"
          },
          "metadata": {
            "needs_background": "light"
          }
        }
      ]
    },
    {
      "cell_type": "code",
      "source": [
        "# Departure-Arrival Time Delta\n",
        "departure = data['DepartureTime'].astype(str)\n",
        "departure = departure.apply(pd.to_datetime)\n",
        "arrival = data['ArrivalTime'].astype(str)\n",
        "arrival = arrival.apply(pd.to_datetime)\n",
        "print((arrival - departure).describe())\n",
        "((arrival - departure).dt.total_seconds()/3600).hist(figsize = [20, 5])\n",
        "print('\\n# of zeros:', len(data[(arrival - departure).dt.total_seconds()==0]))\n"
      ],
      "metadata": {
        "colab": {
          "base_uri": "https://localhost:8080/",
          "height": 511
        },
        "id": "uhqb6ZQQJSAs",
        "outputId": "5331f658-cab6-4017-ccad-5ae670cb1116"
      },
      "execution_count": 71,
      "outputs": [
        {
          "output_type": "stream",
          "name": "stdout",
          "text": [
            "count                          628\n",
            "mean     0 days 00:20:26.495222929\n",
            "std      0 days 00:36:35.295669501\n",
            "min                0 days 00:00:00\n",
            "25%         0 days 00:04:24.500000\n",
            "50%         0 days 00:08:41.500000\n",
            "75%         0 days 00:20:36.750000\n",
            "max                0 days 05:57:22\n",
            "dtype: object\n",
            "\n",
            "# of zeros: 8\n"
          ]
        },
        {
          "output_type": "display_data",
          "data": {
            "text/plain": [
              "<Figure size 1440x360 with 1 Axes>"
            ],
            "image/png": "[encoded data removed]"
          },
          "metadata": {
            "needs_background": "light"
          }
        }
      ]
    },
    {
      "cell_type": "code",
      "source": [
        "# Driving Time is close to Departure-Arrival Time Delta but not the same\n",
        "data['DrivingTime'] = pd.to_timedelta(data['DrivingTime'].astype(str))\n",
        "print(data['DrivingTime'].describe())\n",
        "(data['DrivingTime'] .dt.total_seconds()/3600).hist(figsize = [20, 5])"
      ],
      "metadata": {
        "colab": {
          "base_uri": "https://localhost:8080/",
          "height": 494
        },
        "id": "kJWlj7_vLT50",
        "outputId": "341d4bac-67a6-4bdb-b8c8-a9c1f8e75292"
      },
      "execution_count": 80,
      "outputs": [
        {
          "output_type": "stream",
          "name": "stdout",
          "text": [
            "count                          628\n",
            "mean     0 days 00:20:12.751592356\n",
            "std      0 days 00:37:28.779558868\n",
            "min                0 days 00:00:00\n",
            "25%         0 days 00:04:20.500000\n",
            "50%                0 days 00:08:40\n",
            "75%         0 days 00:20:25.750000\n",
            "max                0 days 05:57:22\n",
            "Name: DrivingTime, dtype: object\n"
          ]
        },
        {
          "output_type": "execute_result",
          "data": {
            "text/plain": [
              "<matplotlib.axes._subplots.AxesSubplot at 0x7f35eae47d50>"
            ]
          },
          "metadata": {},
          "execution_count": 80
        },
        {
          "output_type": "display_data",
          "data": {
            "text/plain": [
              "<Figure size 1440x360 with 1 Axes>"
            ],
            "image/png": "[encoded data removed]"
          },
          "metadata": {
            "needs_background": "light"
          }
        }
      ]
    },
    {
      "cell_type": "code",
      "execution_count": 81,
      "metadata": {
        "colab": {
          "base_uri": "https://localhost:8080/",
          "height": 762
        },
        "id": "r6oYVIFgVsFI",
        "outputId": "3390837e-30ab-43bc-a424-b946f4e8f716"
      },
      "outputs": [
        {
          "output_type": "stream",
          "name": "stdout",
          "text": [
            "count                        628\n",
            "unique                        28\n",
            "top       Sorowar South Pit/95RL\n",
            "freq                         180\n",
            "Name: DepartFrom, dtype: object\n"
          ]
        },
        {
          "output_type": "execute_result",
          "data": {
            "text/plain": [
              "<matplotlib.axes._subplots.AxesSubplot at 0x7f35eae42190>"
            ]
          },
          "metadata": {},
          "execution_count": 81
        },
        {
          "output_type": "display_data",
          "data": {
            "text/plain": [
              "<Figure size 1440x360 with 1 Axes>"
            ],
            "image/png": "[encoded data removed]"
          },
          "metadata": {
            "needs_background": "light"
          }
        }
      ],
      "source": [
        "# Depart From Counts\n",
        "print(data['DepartFrom'].describe())\n",
        "data['DepartFrom'].value_counts().plot.bar(figsize = [20, 5], fontsize = 12)"
      ]
    },
    {
      "cell_type": "code",
      "source": [
        "# Arrive At Counts\n",
        "print(data['ArriveAt'].describe())\n",
        "data['ArriveAt'].value_counts().plot.bar(figsize = [20, 5], fontsize = 12)"
      ],
      "metadata": {
        "colab": {
          "base_uri": "https://localhost:8080/",
          "height": 687
        },
        "id": "ufNnxOjeKBa8",
        "outputId": "795b271d-cf3d-4597-8d62-5e1499b950e3"
      },
      "execution_count": 54,
      "outputs": [
        {
          "output_type": "stream",
          "name": "stdout",
          "text": [
            "count                        628\n",
            "unique                        25\n",
            "top       Sorowar South Pit/95RL\n",
            "freq                         182\n",
            "Name: ArriveAt, dtype: object\n"
          ]
        },
        {
          "output_type": "execute_result",
          "data": {
            "text/plain": [
              "<matplotlib.axes._subplots.AxesSubplot at 0x7f35eb4333d0>"
            ]
          },
          "metadata": {},
          "execution_count": 54
        },
        {
          "output_type": "display_data",
          "data": {
            "text/plain": [
              "<Figure size 1440x360 with 1 Axes>"
            ],
            "image/png": "[encoded data removed]"
          },
          "metadata": {
            "needs_background": "light"
          }
        }
      ]
    },
    {
      "cell_type": "code",
      "source": [
        "# Asset Counts\n",
        "print(data['AssetName2'].describe())\n",
        "data['AssetName2'].value_counts().plot.bar(figsize = [30, 5], fontsize = 12)"
      ],
      "metadata": {
        "colab": {
          "base_uri": "https://localhost:8080/",
          "height": 612
        },
        "id": "06kI_UWdLmL1",
        "outputId": "ab7cc904-5dcf-4e4e-e366-82c098819142"
      },
      "execution_count": 53,
      "outputs": [
        {
          "output_type": "stream",
          "name": "stdout",
          "text": [
            "count                  628\n",
            "unique                  63\n",
            "top       Lava Igavu (HBS)\n",
            "freq                    41\n",
            "Name: AssetName2, dtype: object\n"
          ]
        },
        {
          "output_type": "execute_result",
          "data": {
            "text/plain": [
              "<matplotlib.axes._subplots.AxesSubplot at 0x7f35eb6c9150>"
            ]
          },
          "metadata": {},
          "execution_count": 53
        },
        {
          "output_type": "display_data",
          "data": {
            "text/plain": [
              "<Figure size 2160x360 with 1 Axes>"
            ],
            "image/png": "[encoded data removed]"
          },
          "metadata": {
            "needs_background": "light"
          }
        }
      ]
    },
    {
      "cell_type": "code",
      "source": [
        "# Assets Usage\n",
        "data[['FleetNumber','AssetName2','Distance']].groupby(by=['FleetNumber','AssetName2']).sum()"
      ],
      "metadata": {
        "colab": {
          "base_uri": "https://localhost:8080/",
          "height": 455
        },
        "id": "amp_vpDULqYF",
        "outputId": "d7a358b4-84f3-4b51-befb-599f06ef22f2"
      },
      "execution_count": 98,
      "outputs": [
        {
          "output_type": "execute_result",
          "data": {
            "text/plain": [
              "                                      Distance\n",
              "FleetNumber AssetName2                        \n",
              "AT018       Allen Yailus (HBS)             1.7\n",
              "            Francis Lucas (HBS)           60.3\n",
              "            Kaupa Kol (HBS)               30.7\n",
              "            Philip Fisemki (HBS)          42.5\n",
              "AT019       Gabriel Daewong (HBS)        116.2\n",
              "...                                        ...\n",
              "AT629       Daniel Luben (Mining)         43.5\n",
              "            James Melekabil (Mining)      43.0\n",
              "            Raymond Lerkin (Mining)       16.8\n",
              "            Solnou Barai (Mining)         44.7\n",
              "            Valentine Lumai (Mining)      68.1\n",
              "\n",
              "[79 rows x 1 columns]"
            ],
            "text/html": [
              "\n",
              "  <div id=\"df-567a3805-40e6-4e3d-b887-a892c85cfbb1\">\n",
              "    <div class=\"colab-df-container\">\n",
              "      <div>\n",
              "<style scoped>\n",
              "    .dataframe tbody tr th:only-of-type {\n",
              "        vertical-align: middle;\n",
              "    }\n",
              "\n",
              "    .dataframe tbody tr th {\n",
              "        vertical-align: top;\n",
              "    }\n",
              "\n",
              "    .dataframe thead th {\n",
              "        text-align: right;\n",
              "    }\n",
              "</style>\n",
              "<table border=\"1\" class=\"dataframe\">\n",
              "  <thead>\n",
              "    <tr style=\"text-align: right;\">\n",
              "      <th></th>\n",
              "      <th></th>\n",
              "      <th>Distance</th>\n",
              "    </tr>\n",
              "    <tr>\n",
              "      <th>FleetNumber</th>\n",
              "      <th>AssetName2</th>\n",
              "      <th></th>\n",
              "    </tr>\n",
              "  </thead>\n",
              "  <tbody>\n",
              "    <tr>\n",
              "      <th rowspan=\"4\" valign=\"top\">AT018</th>\n",
              "      <th>Allen Yailus (HBS)</th>\n",
              "      <td>1.7</td>\n",
              "    </tr>\n",
              "    <tr>\n",
              "      <th>Francis Lucas (HBS)</th>\n",
              "      <td>60.3</td>\n",
              "    </tr>\n",
              "    <tr>\n",
              "      <th>Kaupa Kol (HBS)</th>\n",
              "      <td>30.7</td>\n",
              "    </tr>\n",
              "    <tr>\n",
              "      <th>Philip Fisemki (HBS)</th>\n",
              "      <td>42.5</td>\n",
              "    </tr>\n",
              "    <tr>\n",
              "      <th>AT019</th>\n",
              "      <th>Gabriel Daewong (HBS)</th>\n",
              "      <td>116.2</td>\n",
              "    </tr>\n",
              "    <tr>\n",
              "      <th>...</th>\n",
              "      <th>...</th>\n",
              "      <td>...</td>\n",
              "    </tr>\n",
              "    <tr>\n",
              "      <th rowspan=\"5\" valign=\"top\">AT629</th>\n",
              "      <th>Daniel Luben (Mining)</th>\n",
              "      <td>43.5</td>\n",
              "    </tr>\n",
              "    <tr>\n",
              "      <th>James Melekabil (Mining)</th>\n",
              "      <td>43.0</td>\n",
              "    </tr>\n",
              "    <tr>\n",
              "      <th>Raymond Lerkin (Mining)</th>\n",
              "      <td>16.8</td>\n",
              "    </tr>\n",
              "    <tr>\n",
              "      <th>Solnou Barai (Mining)</th>\n",
              "      <td>44.7</td>\n",
              "    </tr>\n",
              "    <tr>\n",
              "      <th>Valentine Lumai (Mining)</th>\n",
              "      <td>68.1</td>\n",
              "    </tr>\n",
              "  </tbody>\n",
              "</table>\n",
              "<p>79 rows × 1 columns</p>\n",
              "</div>\n",
              "      <button class=\"colab-df-convert\" onclick=\"convertToInteractive('df-567a3805-40e6-4e3d-b887-a892c85cfbb1')\"\n",
              "              title=\"Convert this dataframe to an interactive table.\"\n",
              "              style=\"display:none;\">\n",
              "        \n",
              "  <svg xmlns=\"http://www.w3.org/2000/svg\" height=\"24px\"viewBox=\"0 0 24 24\"\n",
              "       width=\"24px\">\n",
              "    <path d=\"M0 0h24v24H0V0z\" fill=\"none\"/>\n",
              "    <path d=\"M18.56 5.44l.94 2.06.94-2.06 2.06-.94-2.06-.94-.94-2.06-.94 2.06-2.06.94zm-11 1L8.5 8.5l.94-2.06 2.06-.94-2.06-.94L8.5 2.5l-.94 2.06-2.06.94zm10 10l.94 2.06.94-2.06 2.06-.94-2.06-.94-.94-2.06-.94 2.06-2.06.94z\"/><path d=\"M17.41 7.96l-1.37-1.37c-.4-.4-.92-.59-1.43-.59-.52 0-1.04.2-1.43.59L10.3 9.45l-7.72 7.72c-.78.78-.78 2.05 0 2.83L4 21.41c.39.39.9.59 1.41.59.51 0 1.02-.2 1.41-.59l7.78-7.78 2.81-2.81c.8-.78.8-2.07 0-2.86zM5.41 20L4 18.59l7.72-7.72 1.47 1.35L5.41 20z\"/>\n",
              "  </svg>\n",
              "      </button>\n",
              "      \n",
              "  <style>\n",
              "    .colab-df-container {\n",
              "      display:flex;\n",
              "      flex-wrap:wrap;\n",
              "      gap: 12px;\n",
              "    }\n",
              "\n",
              "    .colab-df-convert {\n",
              "      background-color: #E8F0FE;\n",
              "      border: none;\n",
              "      border-radius: 50%;\n",
              "      cursor: pointer;\n",
              "      display: none;\n",
              "      fill: #1967D2;\n",
              "      height: 32px;\n",
              "      padding: 0 0 0 0;\n",
              "      width: 32px;\n",
              "    }\n",
              "\n",
              "    .colab-df-convert:hover {\n",
              "      background-color: #E2EBFA;\n",
              "      box-shadow: 0px 1px 2px rgba(60, 64, 67, 0.3), 0px 1px 3px 1px rgba(60, 64, 67, 0.15);\n",
              "      fill: #174EA6;\n",
              "    }\n",
              "\n",
              "    [theme=dark] .colab-df-convert {\n",
              "      background-color: #3B4455;\n",
              "      fill: #D2E3FC;\n",
              "    }\n",
              "\n",
              "    [theme=dark] .colab-df-convert:hover {\n",
              "      background-color: #434B5C;\n",
              "      box-shadow: 0px 1px 3px 1px rgba(0, 0, 0, 0.15);\n",
              "      filter: drop-shadow(0px 1px 2px rgba(0, 0, 0, 0.3));\n",
              "      fill: #FFFFFF;\n",
              "    }\n",
              "  </style>\n",
              "\n",
              "      <script>\n",
              "        const buttonEl =\n",
              "          document.querySelector('#df-567a3805-40e6-4e3d-b887-a892c85cfbb1 button.colab-df-convert');\n",
              "        buttonEl.style.display =\n",
              "          google.colab.kernel.accessAllowed ? 'block' : 'none';\n",
              "\n",
              "        async function convertToInteractive(key) {\n",
              "          const element = document.querySelector('#df-567a3805-40e6-4e3d-b887-a892c85cfbb1');\n",
              "          const dataTable =\n",
              "            await google.colab.kernel.invokeFunction('convertToInteractive',\n",
              "                                                     [key], {});\n",
              "          if (!dataTable) return;\n",
              "\n",
              "          const docLinkHtml = 'Like what you see? Visit the ' +\n",
              "            '<a target=\"_blank\" href=https://colab.research.google.com/notebooks/data_table.ipynb>data table notebook</a>'\n",
              "            + ' to learn more about interactive tables.';\n",
              "          element.innerHTML = '';\n",
              "          dataTable['output_type'] = 'display_data';\n",
              "          await google.colab.output.renderOutput(dataTable, element);\n",
              "          const docLink = document.createElement('div');\n",
              "          docLink.innerHTML = docLinkHtml;\n",
              "          element.appendChild(docLink);\n",
              "        }\n",
              "      </script>\n",
              "    </div>\n",
              "  </div>\n",
              "  "
            ]
          },
          "metadata": {},
          "execution_count": 98
        }
      ]
    },
    {
      "cell_type": "code",
      "source": [
        "data.plot.scatter('FleetNumber','Distance', figsize = [20, 5])"
      ],
      "metadata": {
        "colab": {
          "base_uri": "https://localhost:8080/",
          "height": 351
        },
        "id": "EEZBVBMCZVxS",
        "outputId": "d3275d0a-0b1a-4849-d098-7cd5c24b000d"
      },
      "execution_count": 101,
      "outputs": [
        {
          "output_type": "execute_result",
          "data": {
            "text/plain": [
              "<matplotlib.axes._subplots.AxesSubplot at 0x7f35ea78f810>"
            ]
          },
          "metadata": {},
          "execution_count": 101
        },
        {
          "output_type": "display_data",
          "data": {
            "text/plain": [
              "<Figure size 1440x360 with 1 Axes>"
            ],
            "image/png": "[encoded data removed]"
          },
          "metadata": {
            "needs_background": "light"
          }
        }
      ]
    },
    {
      "cell_type": "code",
      "source": [
        "# Range of Location coordinates grouped by DepartFrom are too wide (10-30 kms)\n",
        "data[['DepartFrom','ArriveAt','Distance']].groupby(['DepartFrom','ArriveAt']).describe()\n",
        "\n"
      ],
      "metadata": {
        "colab": {
          "base_uri": "https://localhost:8080/",
          "height": 486
        },
        "id": "dC9N64yBD7UF",
        "outputId": "57364466-d58e-4652-e700-7b82d6b6c2d1"
      },
      "execution_count": 130,
      "outputs": [
        {
          "output_type": "execute_result",
          "data": {
            "text/plain": [
              "                                                              Distance  \\\n",
              "                                                                 count   \n",
              "DepartFrom                     ArriveAt                                  \n",
              "Dispatch Hill Rd               Sorowar Go Line                     2.0   \n",
              "Fuel Bay                       Sorowar South Pit/95RL              2.0   \n",
              "Grey Hill Rd                   Workshop access & Laydown area      1.0   \n",
              "HBS Workshop                   Fuel Bay                            2.0   \n",
              "                               HBS Workshop                        4.0   \n",
              "...                                                                ...   \n",
              "Workshop Stores and laydown    Workshop access & Laydown area      1.0   \n",
              "Workshop access & Laydown area Sorowar Central Pit /95 RL          1.0   \n",
              "                               Workshop Go Line                    1.0   \n",
              "                               Workshop access & Laydown area      2.0   \n",
              "[UNKNOWN]                      [UNKNOWN]                          13.0   \n",
              "\n",
              "                                                                          \\\n",
              "                                                                    mean   \n",
              "DepartFrom                     ArriveAt                                    \n",
              "Dispatch Hill Rd               Sorowar Go Line                  2.450000   \n",
              "Fuel Bay                       Sorowar South Pit/95RL          11.450000   \n",
              "Grey Hill Rd                   Workshop access & Laydown area   3.500000   \n",
              "HBS Workshop                   Fuel Bay                         0.150000   \n",
              "                               HBS Workshop                     1.725000   \n",
              "...                                                                  ...   \n",
              "Workshop Stores and laydown    Workshop access & Laydown area   0.500000   \n",
              "Workshop access & Laydown area Sorowar Central Pit /95 RL       7.200000   \n",
              "                               Workshop Go Line                 0.100000   \n",
              "                               Workshop access & Laydown area   0.900000   \n",
              "[UNKNOWN]                      [UNKNOWN]                        4.453846   \n",
              "\n",
              "                                                                              \\\n",
              "                                                                    std  min   \n",
              "DepartFrom                     ArriveAt                                        \n",
              "Dispatch Hill Rd               Sorowar Go Line                 2.192031  0.9   \n",
              "Fuel Bay                       Sorowar South Pit/95RL          4.737615  8.1   \n",
              "Grey Hill Rd                   Workshop access & Laydown area       NaN  3.5   \n",
              "HBS Workshop                   Fuel Bay                        0.070711  0.1   \n",
              "                               HBS Workshop                    2.381001  0.0   \n",
              "...                                                                 ...  ...   \n",
              "Workshop Stores and laydown    Workshop access & Laydown area       NaN  0.5   \n",
              "Workshop access & Laydown area Sorowar Central Pit /95 RL           NaN  7.2   \n",
              "                               Workshop Go Line                     NaN  0.1   \n",
              "                               Workshop access & Laydown area  1.272792  0.0   \n",
              "[UNKNOWN]                      [UNKNOWN]                       4.951366  0.1   \n",
              "\n",
              "                                                                             \\\n",
              "                                                                 25%    50%   \n",
              "DepartFrom                     ArriveAt                                       \n",
              "Dispatch Hill Rd               Sorowar Go Line                 1.675   2.45   \n",
              "Fuel Bay                       Sorowar South Pit/95RL          9.775  11.45   \n",
              "Grey Hill Rd                   Workshop access & Laydown area  3.500   3.50   \n",
              "HBS Workshop                   Fuel Bay                        0.125   0.15   \n",
              "                               HBS Workshop                    0.075   0.90   \n",
              "...                                                              ...    ...   \n",
              "Workshop Stores and laydown    Workshop access & Laydown area  0.500   0.50   \n",
              "Workshop access & Laydown area Sorowar Central Pit /95 RL      7.200   7.20   \n",
              "                               Workshop Go Line                0.100   0.10   \n",
              "                               Workshop access & Laydown area  0.450   0.90   \n",
              "[UNKNOWN]                      [UNKNOWN]                       1.000   2.60   \n",
              "\n",
              "                                                                             \n",
              "                                                                  75%   max  \n",
              "DepartFrom                     ArriveAt                                      \n",
              "Dispatch Hill Rd               Sorowar Go Line                  3.225   4.0  \n",
              "Fuel Bay                       Sorowar South Pit/95RL          13.125  14.8  \n",
              "Grey Hill Rd                   Workshop access & Laydown area   3.500   3.5  \n",
              "HBS Workshop                   Fuel Bay                         0.175   0.2  \n",
              "                               HBS Workshop                     2.550   5.1  \n",
              "...                                                               ...   ...  \n",
              "Workshop Stores and laydown    Workshop access & Laydown area   0.500   0.5  \n",
              "Workshop access & Laydown area Sorowar Central Pit /95 RL       7.200   7.2  \n",
              "                               Workshop Go Line                 0.100   0.1  \n",
              "                               Workshop access & Laydown area   1.350   1.8  \n",
              "[UNKNOWN]                      [UNKNOWN]                        5.500  17.4  \n",
              "\n",
              "[111 rows x 8 columns]"
            ],
            "text/html": [
              "\n",
              "  <div id=\"df-182d7d2d-2dbd-45f8-82f7-aecfabc5ec20\">\n",
              "    <div class=\"colab-df-container\">\n",
              "      <div>\n",
              "<style scoped>\n",
              "    .dataframe tbody tr th:only-of-type {\n",
              "        vertical-align: middle;\n",
              "    }\n",
              "\n",
              "    .dataframe tbody tr th {\n",
              "        vertical-align: top;\n",
              "    }\n",
              "\n",
              "    .dataframe thead tr th {\n",
              "        text-align: left;\n",
              "    }\n",
              "\n",
              "    .dataframe thead tr:last-of-type th {\n",
              "        text-align: right;\n",
              "    }\n",
              "</style>\n",
              "<table border=\"1\" class=\"dataframe\">\n",
              "  <thead>\n",
              "    <tr>\n",
              "      <th></th>\n",
              "      <th></th>\n",
              "      <th colspan=\"8\" halign=\"left\">Distance</th>\n",
              "    </tr>\n",
              "    <tr>\n",
              "      <th></th>\n",
              "      <th></th>\n",
              "      <th>count</th>\n",
              "      <th>mean</th>\n",
              "      <th>std</th>\n",
              "      <th>min</th>\n",
              "      <th>25%</th>\n",
              "      <th>50%</th>\n",
              "      <th>75%</th>\n",
              "      <th>max</th>\n",
              "    </tr>\n",
              "    <tr>\n",
              "      <th>DepartFrom</th>\n",
              "      <th>ArriveAt</th>\n",
              "      <th></th>\n",
              "      <th></th>\n",
              "      <th></th>\n",
              "      <th></th>\n",
              "      <th></th>\n",
              "      <th></th>\n",
              "      <th></th>\n",
              "      <th></th>\n",
              "    </tr>\n",
              "  </thead>\n",
              "  <tbody>\n",
              "    <tr>\n",
              "      <th>Dispatch Hill Rd</th>\n",
              "      <th>Sorowar Go Line</th>\n",
              "      <td>2.0</td>\n",
              "      <td>2.450000</td>\n",
              "      <td>2.192031</td>\n",
              "      <td>0.9</td>\n",
              "      <td>1.675</td>\n",
              "      <td>2.45</td>\n",
              "      <td>3.225</td>\n",
              "      <td>4.0</td>\n",
              "    </tr>\n",
              "    <tr>\n",
              "      <th>Fuel Bay</th>\n",
              "      <th>Sorowar South Pit/95RL</th>\n",
              "      <td>2.0</td>\n",
              "      <td>11.450000</td>\n",
              "      <td>4.737615</td>\n",
              "      <td>8.1</td>\n",
              "      <td>9.775</td>\n",
              "      <td>11.45</td>\n",
              "      <td>13.125</td>\n",
              "      <td>14.8</td>\n",
              "    </tr>\n",
              "    <tr>\n",
              "      <th>Grey Hill Rd</th>\n",
              "      <th>Workshop access &amp; Laydown area</th>\n",
              "      <td>1.0</td>\n",
              "      <td>3.500000</td>\n",
              "      <td>NaN</td>\n",
              "      <td>3.5</td>\n",
              "      <td>3.500</td>\n",
              "      <td>3.50</td>\n",
              "      <td>3.500</td>\n",
              "      <td>3.5</td>\n",
              "    </tr>\n",
              "    <tr>\n",
              "      <th rowspan=\"2\" valign=\"top\">HBS Workshop</th>\n",
              "      <th>Fuel Bay</th>\n",
              "      <td>2.0</td>\n",
              "      <td>0.150000</td>\n",
              "      <td>0.070711</td>\n",
              "      <td>0.1</td>\n",
              "      <td>0.125</td>\n",
              "      <td>0.15</td>\n",
              "      <td>0.175</td>\n",
              "      <td>0.2</td>\n",
              "    </tr>\n",
              "    <tr>\n",
              "      <th>HBS Workshop</th>\n",
              "      <td>4.0</td>\n",
              "      <td>1.725000</td>\n",
              "      <td>2.381001</td>\n",
              "      <td>0.0</td>\n",
              "      <td>0.075</td>\n",
              "      <td>0.90</td>\n",
              "      <td>2.550</td>\n",
              "      <td>5.1</td>\n",
              "    </tr>\n",
              "    <tr>\n",
              "      <th>...</th>\n",
              "      <th>...</th>\n",
              "      <td>...</td>\n",
              "      <td>...</td>\n",
              "      <td>...</td>\n",
              "      <td>...</td>\n",
              "      <td>...</td>\n",
              "      <td>...</td>\n",
              "      <td>...</td>\n",
              "      <td>...</td>\n",
              "    </tr>\n",
              "    <tr>\n",
              "      <th>Workshop Stores and laydown</th>\n",
              "      <th>Workshop access &amp; Laydown area</th>\n",
              "      <td>1.0</td>\n",
              "      <td>0.500000</td>\n",
              "      <td>NaN</td>\n",
              "      <td>0.5</td>\n",
              "      <td>0.500</td>\n",
              "      <td>0.50</td>\n",
              "      <td>0.500</td>\n",
              "      <td>0.5</td>\n",
              "    </tr>\n",
              "    <tr>\n",
              "      <th rowspan=\"3\" valign=\"top\">Workshop access &amp; Laydown area</th>\n",
              "      <th>Sorowar Central Pit /95 RL</th>\n",
              "      <td>1.0</td>\n",
              "      <td>7.200000</td>\n",
              "      <td>NaN</td>\n",
              "      <td>7.2</td>\n",
              "      <td>7.200</td>\n",
              "      <td>7.20</td>\n",
              "      <td>7.200</td>\n",
              "      <td>7.2</td>\n",
              "    </tr>\n",
              "    <tr>\n",
              "      <th>Workshop Go Line</th>\n",
              "      <td>1.0</td>\n",
              "      <td>0.100000</td>\n",
              "      <td>NaN</td>\n",
              "      <td>0.1</td>\n",
              "      <td>0.100</td>\n",
              "      <td>0.10</td>\n",
              "      <td>0.100</td>\n",
              "      <td>0.1</td>\n",
              "    </tr>\n",
              "    <tr>\n",
              "      <th>Workshop access &amp; Laydown area</th>\n",
              "      <td>2.0</td>\n",
              "      <td>0.900000</td>\n",
              "      <td>1.272792</td>\n",
              "      <td>0.0</td>\n",
              "      <td>0.450</td>\n",
              "      <td>0.90</td>\n",
              "      <td>1.350</td>\n",
              "      <td>1.8</td>\n",
              "    </tr>\n",
              "    <tr>\n",
              "      <th>[UNKNOWN]</th>\n",
              "      <th>[UNKNOWN]</th>\n",
              "      <td>13.0</td>\n",
              "      <td>4.453846</td>\n",
              "      <td>4.951366</td>\n",
              "      <td>0.1</td>\n",
              "      <td>1.000</td>\n",
              "      <td>2.60</td>\n",
              "      <td>5.500</td>\n",
              "      <td>17.4</td>\n",
              "    </tr>\n",
              "  </tbody>\n",
              "</table>\n",
              "<p>111 rows × 8 columns</p>\n",
              "</div>\n",
              "      <button class=\"colab-df-convert\" onclick=\"convertToInteractive('df-182d7d2d-2dbd-45f8-82f7-aecfabc5ec20')\"\n",
              "              title=\"Convert this dataframe to an interactive table.\"\n",
              "              style=\"display:none;\">\n",
              "        \n",
              "  <svg xmlns=\"http://www.w3.org/2000/svg\" height=\"24px\"viewBox=\"0 0 24 24\"\n",
              "       width=\"24px\">\n",
              "    <path d=\"M0 0h24v24H0V0z\" fill=\"none\"/>\n",
              "    <path d=\"M18.56 5.44l.94 2.06.94-2.06 2.06-.94-2.06-.94-.94-2.06-.94 2.06-2.06.94zm-11 1L8.5 8.5l.94-2.06 2.06-.94-2.06-.94L8.5 2.5l-.94 2.06-2.06.94zm10 10l.94 2.06.94-2.06 2.06-.94-2.06-.94-.94-2.06-.94 2.06-2.06.94z\"/><path d=\"M17.41 7.96l-1.37-1.37c-.4-.4-.92-.59-1.43-.59-.52 0-1.04.2-1.43.59L10.3 9.45l-7.72 7.72c-.78.78-.78 2.05 0 2.83L4 21.41c.39.39.9.59 1.41.59.51 0 1.02-.2 1.41-.59l7.78-7.78 2.81-2.81c.8-.78.8-2.07 0-2.86zM5.41 20L4 18.59l7.72-7.72 1.47 1.35L5.41 20z\"/>\n",
              "  </svg>\n",
              "      </button>\n",
              "      \n",
              "  <style>\n",
              "    .colab-df-container {\n",
              "      display:flex;\n",
              "      flex-wrap:wrap;\n",
              "      gap: 12px;\n",
              "    }\n",
              "\n",
              "    .colab-df-convert {\n",
              "      background-color: #E8F0FE;\n",
              "      border: none;\n",
              "      border-radius: 50%;\n",
              "      cursor: pointer;\n",
              "      display: none;\n",
              "      fill: #1967D2;\n",
              "      height: 32px;\n",
              "      padding: 0 0 0 0;\n",
              "      width: 32px;\n",
              "    }\n",
              "\n",
              "    .colab-df-convert:hover {\n",
              "      background-color: #E2EBFA;\n",
              "      box-shadow: 0px 1px 2px rgba(60, 64, 67, 0.3), 0px 1px 3px 1px rgba(60, 64, 67, 0.15);\n",
              "      fill: #174EA6;\n",
              "    }\n",
              "\n",
              "    [theme=dark] .colab-df-convert {\n",
              "      background-color: #3B4455;\n",
              "      fill: #D2E3FC;\n",
              "    }\n",
              "\n",
              "    [theme=dark] .colab-df-convert:hover {\n",
              "      background-color: #434B5C;\n",
              "      box-shadow: 0px 1px 3px 1px rgba(0, 0, 0, 0.15);\n",
              "      filter: drop-shadow(0px 1px 2px rgba(0, 0, 0, 0.3));\n",
              "      fill: #FFFFFF;\n",
              "    }\n",
              "  </style>\n",
              "\n",
              "      <script>\n",
              "        const buttonEl =\n",
              "          document.querySelector('#df-182d7d2d-2dbd-45f8-82f7-aecfabc5ec20 button.colab-df-convert');\n",
              "        buttonEl.style.display =\n",
              "          google.colab.kernel.accessAllowed ? 'block' : 'none';\n",
              "\n",
              "        async function convertToInteractive(key) {\n",
              "          const element = document.querySelector('#df-182d7d2d-2dbd-45f8-82f7-aecfabc5ec20');\n",
              "          const dataTable =\n",
              "            await google.colab.kernel.invokeFunction('convertToInteractive',\n",
              "                                                     [key], {});\n",
              "          if (!dataTable) return;\n",
              "\n",
              "          const docLinkHtml = 'Like what you see? Visit the ' +\n",
              "            '<a target=\"_blank\" href=https://colab.research.google.com/notebooks/data_table.ipynb>data table notebook</a>'\n",
              "            + ' to learn more about interactive tables.';\n",
              "          element.innerHTML = '';\n",
              "          dataTable['output_type'] = 'display_data';\n",
              "          await google.colab.output.renderOutput(dataTable, element);\n",
              "          const docLink = document.createElement('div');\n",
              "          docLink.innerHTML = docLinkHtml;\n",
              "          element.appendChild(docLink);\n",
              "        }\n",
              "      </script>\n",
              "    </div>\n",
              "  </div>\n",
              "  "
            ]
          },
          "metadata": {},
          "execution_count": 130
        }
      ]
    },
    {
      "cell_type": "markdown",
      "source": [
        "## Data Reduction"
      ],
      "metadata": {
        "id": "DTk1Gu_j31Ty"
      }
    },
    {
      "cell_type": "code",
      "source": [
        "# Reduce the dataset as required \n",
        "\n",
        "fleet='AT018'\n",
        "day_data = data[data['FleetNumber']==fleet]\n",
        "\n",
        "day = 13 # Reduce to first day of the month only\n",
        "day_data = data[data['DepartureTime'].dt.day==day]\n",
        "\n",
        "# Drop unnecessary columns \n",
        "day_data = day_data.drop(columns=['StandingTime','Duration','DrivingTime','Duration','MaxSpeed','AvgSpeed'])\n",
        "\n",
        "# Rename remaining columns\n",
        "day_data = day_data.rename(columns={'AssetName2':'DriverName'})\n",
        "\n",
        "# Reorder and Re-index the columns\n",
        "#day_data = day_data.reindex(columns=['',''])\n",
        "\n",
        "day_data.head()"
      ],
      "metadata": {
        "id": "PGP9tXTW1_VL",
        "colab": {
          "base_uri": "https://localhost:8080/",
          "height": 206
        },
        "outputId": "ec6048f7-305a-447f-8210-75da2ff17f2b"
      },
      "execution_count": 135,
      "outputs": [
        {
          "output_type": "execute_result",
          "data": {
            "text/plain": [
              "  FleetNumber           DriverName       DepartureTime  \\\n",
              "0       AT018   Allen Yailus (HBS) 2022-07-13 08:10:53   \n",
              "1       AT018  Francis Lucas (HBS) 2022-07-13 10:00:03   \n",
              "2       AT018  Francis Lucas (HBS) 2022-07-13 10:16:18   \n",
              "3       AT018  Francis Lucas (HBS) 2022-07-13 11:24:31   \n",
              "4       AT018  Francis Lucas (HBS) 2022-07-13 13:17:16   \n",
              "\n",
              "                                  DepartFrom  Distance         ArrivalTime  \\\n",
              "0                               HBS Workshop       1.7 2022-07-13 08:19:03   \n",
              "1                               HBS Workshop       0.1 2022-07-13 10:00:27   \n",
              "2                               HBS Workshop      10.1 2022-07-13 11:04:05   \n",
              "3  Sorowar ROM Base (Hopper Area) (HG Oxide)       6.5 2022-07-13 11:42:12   \n",
              "4                               HBS Workshop       5.1 2022-07-13 13:33:58   \n",
              "\n",
              "                                    ArriveAt  \n",
              "0                               HBS Workshop  \n",
              "1                               HBS Workshop  \n",
              "2  Sorowar ROM Base (Hopper Area) (HG Oxide)  \n",
              "3                               HBS Workshop  \n",
              "4                               HBS Workshop  "
            ],
            "text/html": [
              "\n",
              "  <div id=\"df-df8b647d-cb60-49bc-83f7-e6eea4aa5099\">\n",
              "    <div class=\"colab-df-container\">\n",
              "      <div>\n",
              "<style scoped>\n",
              "    .dataframe tbody tr th:only-of-type {\n",
              "        vertical-align: middle;\n",
              "    }\n",
              "\n",
              "    .dataframe tbody tr th {\n",
              "        vertical-align: top;\n",
              "    }\n",
              "\n",
              "    .dataframe thead th {\n",
              "        text-align: right;\n",
              "    }\n",
              "</style>\n",
              "<table border=\"1\" class=\"dataframe\">\n",
              "  <thead>\n",
              "    <tr style=\"text-align: right;\">\n",
              "      <th></th>\n",
              "      <th>FleetNumber</th>\n",
              "      <th>DriverName</th>\n",
              "      <th>DepartureTime</th>\n",
              "      <th>DepartFrom</th>\n",
              "      <th>Distance</th>\n",
              "      <th>ArrivalTime</th>\n",
              "      <th>ArriveAt</th>\n",
              "    </tr>\n",
              "  </thead>\n",
              "  <tbody>\n",
              "    <tr>\n",
              "      <th>0</th>\n",
              "      <td>AT018</td>\n",
              "      <td>Allen Yailus (HBS)</td>\n",
              "      <td>2022-07-13 08:10:53</td>\n",
              "      <td>HBS Workshop</td>\n",
              "      <td>1.7</td>\n",
              "      <td>2022-07-13 08:19:03</td>\n",
              "      <td>HBS Workshop</td>\n",
              "    </tr>\n",
              "    <tr>\n",
              "      <th>1</th>\n",
              "      <td>AT018</td>\n",
              "      <td>Francis Lucas (HBS)</td>\n",
              "      <td>2022-07-13 10:00:03</td>\n",
              "      <td>HBS Workshop</td>\n",
              "      <td>0.1</td>\n",
              "      <td>2022-07-13 10:00:27</td>\n",
              "      <td>HBS Workshop</td>\n",
              "    </tr>\n",
              "    <tr>\n",
              "      <th>2</th>\n",
              "      <td>AT018</td>\n",
              "      <td>Francis Lucas (HBS)</td>\n",
              "      <td>2022-07-13 10:16:18</td>\n",
              "      <td>HBS Workshop</td>\n",
              "      <td>10.1</td>\n",
              "      <td>2022-07-13 11:04:05</td>\n",
              "      <td>Sorowar ROM Base (Hopper Area) (HG Oxide)</td>\n",
              "    </tr>\n",
              "    <tr>\n",
              "      <th>3</th>\n",
              "      <td>AT018</td>\n",
              "      <td>Francis Lucas (HBS)</td>\n",
              "      <td>2022-07-13 11:24:31</td>\n",
              "      <td>Sorowar ROM Base (Hopper Area) (HG Oxide)</td>\n",
              "      <td>6.5</td>\n",
              "      <td>2022-07-13 11:42:12</td>\n",
              "      <td>HBS Workshop</td>\n",
              "    </tr>\n",
              "    <tr>\n",
              "      <th>4</th>\n",
              "      <td>AT018</td>\n",
              "      <td>Francis Lucas (HBS)</td>\n",
              "      <td>2022-07-13 13:17:16</td>\n",
              "      <td>HBS Workshop</td>\n",
              "      <td>5.1</td>\n",
              "      <td>2022-07-13 13:33:58</td>\n",
              "      <td>HBS Workshop</td>\n",
              "    </tr>\n",
              "  </tbody>\n",
              "</table>\n",
              "</div>\n",
              "      <button class=\"colab-df-convert\" onclick=\"convertToInteractive('df-df8b647d-cb60-49bc-83f7-e6eea4aa5099')\"\n",
              "              title=\"Convert this dataframe to an interactive table.\"\n",
              "              style=\"display:none;\">\n",
              "        \n",
              "  <svg xmlns=\"http://www.w3.org/2000/svg\" height=\"24px\"viewBox=\"0 0 24 24\"\n",
              "       width=\"24px\">\n",
              "    <path d=\"M0 0h24v24H0V0z\" fill=\"none\"/>\n",
              "    <path d=\"M18.56 5.44l.94 2.06.94-2.06 2.06-.94-2.06-.94-.94-2.06-.94 2.06-2.06.94zm-11 1L8.5 8.5l.94-2.06 2.06-.94-2.06-.94L8.5 2.5l-.94 2.06-2.06.94zm10 10l.94 2.06.94-2.06 2.06-.94-2.06-.94-.94-2.06-.94 2.06-2.06.94z\"/><path d=\"M17.41 7.96l-1.37-1.37c-.4-.4-.92-.59-1.43-.59-.52 0-1.04.2-1.43.59L10.3 9.45l-7.72 7.72c-.78.78-.78 2.05 0 2.83L4 21.41c.39.39.9.59 1.41.59.51 0 1.02-.2 1.41-.59l7.78-7.78 2.81-2.81c.8-.78.8-2.07 0-2.86zM5.41 20L4 18.59l7.72-7.72 1.47 1.35L5.41 20z\"/>\n",
              "  </svg>\n",
              "      </button>\n",
              "      \n",
              "  <style>\n",
              "    .colab-df-container {\n",
              "      display:flex;\n",
              "      flex-wrap:wrap;\n",
              "      gap: 12px;\n",
              "    }\n",
              "\n",
              "    .colab-df-convert {\n",
              "      background-color: #E8F0FE;\n",
              "      border: none;\n",
              "      border-radius: 50%;\n",
              "      cursor: pointer;\n",
              "      display: none;\n",
              "      fill: #1967D2;\n",
              "      height: 32px;\n",
              "      padding: 0 0 0 0;\n",
              "      width: 32px;\n",
              "    }\n",
              "\n",
              "    .colab-df-convert:hover {\n",
              "      background-color: #E2EBFA;\n",
              "      box-shadow: 0px 1px 2px rgba(60, 64, 67, 0.3), 0px 1px 3px 1px rgba(60, 64, 67, 0.15);\n",
              "      fill: #174EA6;\n",
              "    }\n",
              "\n",
              "    [theme=dark] .colab-df-convert {\n",
              "      background-color: #3B4455;\n",
              "      fill: #D2E3FC;\n",
              "    }\n",
              "\n",
              "    [theme=dark] .colab-df-convert:hover {\n",
              "      background-color: #434B5C;\n",
              "      box-shadow: 0px 1px 3px 1px rgba(0, 0, 0, 0.15);\n",
              "      filter: drop-shadow(0px 1px 2px rgba(0, 0, 0, 0.3));\n",
              "      fill: #FFFFFF;\n",
              "    }\n",
              "  </style>\n",
              "\n",
              "      <script>\n",
              "        const buttonEl =\n",
              "          document.querySelector('#df-df8b647d-cb60-49bc-83f7-e6eea4aa5099 button.colab-df-convert');\n",
              "        buttonEl.style.display =\n",
              "          google.colab.kernel.accessAllowed ? 'block' : 'none';\n",
              "\n",
              "        async function convertToInteractive(key) {\n",
              "          const element = document.querySelector('#df-df8b647d-cb60-49bc-83f7-e6eea4aa5099');\n",
              "          const dataTable =\n",
              "            await google.colab.kernel.invokeFunction('convertToInteractive',\n",
              "                                                     [key], {});\n",
              "          if (!dataTable) return;\n",
              "\n",
              "          const docLinkHtml = 'Like what you see? Visit the ' +\n",
              "            '<a target=\"_blank\" href=https://colab.research.google.com/notebooks/data_table.ipynb>data table notebook</a>'\n",
              "            + ' to learn more about interactive tables.';\n",
              "          element.innerHTML = '';\n",
              "          dataTable['output_type'] = 'display_data';\n",
              "          await google.colab.output.renderOutput(dataTable, element);\n",
              "          const docLink = document.createElement('div');\n",
              "          docLink.innerHTML = docLinkHtml;\n",
              "          element.appendChild(docLink);\n",
              "        }\n",
              "      </script>\n",
              "    </div>\n",
              "  </div>\n",
              "  "
            ]
          },
          "metadata": {},
          "execution_count": 135
        }
      ]
    },
    {
      "cell_type": "code",
      "source": [
        "# Save the reduced dataset to an Excel Spreadsheet\n",
        "day_data.to_excel('Simberi_day_data.xlsx', sheet_name='daily')\n",
        "!cp Simberi_day_data.xlsx \"/content/drive/My Drive/Colab_Data/\""
      ],
      "metadata": {
        "id": "tycyiGjuXmhP"
      },
      "execution_count": 151,
      "outputs": []
    }
  ],
  "metadata": {
    "kernelspec": {
      "display_name": "Python 3",
      "language": "python",
      "name": "python3"
    },
    "language_info": {
      "codemirror_mode": {
        "name": "ipython",
        "version": 3
      },
      "file_extension": ".py",
      "mimetype": "text/x-python",
      "name": "python",
      "nbconvert_exporter": "python",
      "pygments_lexer": "ipython3",
      "version": "3.8.5"
    },
    "colab": {
      "name": "MST_Simberi_Mine_EDA_XLS_2022.ipynb",
      "provenance": [],
      "collapsed_sections": [],
      "include_colab_link": true
    },
    "accelerator": "TPU"
  },
  "nbformat": 4,
  "nbformat_minor": 0
}