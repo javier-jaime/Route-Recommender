{
 "cells": [
  {
   "cell_type": "markdown",
   "id": "f7d51c4b-41ca-4612-a7d5-10e28ca6a9ac",
   "metadata": {},
   "source": [
    "## Railways Knowledge Graph Demo"
   ]
  },
  {
   "cell_type": "code",
   "execution_count": 44,
   "id": "4b898c14-51d3-4a67-99d6-12a80ff3c420",
   "metadata": {},
   "outputs": [],
   "source": [
    "# Install necessary libraries, uncomment if required\n",
    "# !pip install graphdatascience\n",
    "\n",
    "from graphdatascience import GraphDataScience"
   ]
  },
  {
   "cell_type": "code",
   "execution_count": 45,
   "id": "c16d5be0-078f-4a5a-99fa-5cc43fdb5038",
   "metadata": {
    "tags": []
   },
   "outputs": [],
   "source": [
    "# Connect to the database\n",
    "host = \"bolt://localhost:7687\"\n",
    "user = \"neo4j\"\n",
    "password= \"\""
   ]
  },
  {
   "cell_type": "code",
   "execution_count": 46,
   "id": "8c2a99a0-c5ac-4687-ac41-755902ae93ab",
   "metadata": {
    "tags": []
   },
   "outputs": [],
   "source": [
    "# Create Python Object\n",
    "gds = GraphDataScience(host, auth=(user, password), database=\"neo4j\")"
   ]
  },
  {
   "cell_type": "markdown",
   "id": "581d0324-eaa7-40d1-bc9c-052a987c49f2",
   "metadata": {},
   "source": [
    "Download Dataset from:\n",
    "https://github.com/jbarrasa/gc-2022/tree/main/interop/data\n",
    "\n",
    "And drop the CSV files in the graph database import folder."
   ]
  },
  {
   "cell_type": "code",
   "execution_count": 47,
   "id": "1c7286cd-31a0-4f57-80ff-28bcd4bc00ea",
   "metadata": {
    "tags": []
   },
   "outputs": [
    {
     "data": {
      "text/html": [
       "<div>\n",
       "<style scoped>\n",
       "    .dataframe tbody tr th:only-of-type {\n",
       "        vertical-align: middle;\n",
       "    }\n",
       "\n",
       "    .dataframe tbody tr th {\n",
       "        vertical-align: top;\n",
       "    }\n",
       "\n",
       "    .dataframe thead th {\n",
       "        text-align: right;\n",
       "    }\n",
       "</style>\n",
       "<table border=\"1\" class=\"dataframe\">\n",
       "  <thead>\n",
       "    <tr style=\"text-align: right;\">\n",
       "      <th></th>\n",
       "    </tr>\n",
       "  </thead>\n",
       "  <tbody>\n",
       "  </tbody>\n",
       "</table>\n",
       "</div>"
      ],
      "text/plain": [
       "Empty DataFrame\n",
       "Columns: []\n",
       "Index: []"
      ]
     },
     "execution_count": 47,
     "metadata": {},
     "output_type": "execute_result"
    }
   ],
   "source": [
    "# Load stations as nodes\n",
    "gds.run_cypher(\n",
    "    \"\"\"\n",
    "    LOAD CSV WITH HEADERS FROM \"file:///nr-stations-all.csv\" AS station\n",
    "    CREATE (:Station {name: station.name, crs: station.crs})\n",
    "    \"\"\"\n",
    ")\n",
    "\n",
    "# Load tracks bewteen stations as relationships\n",
    "gds.run_cypher(\n",
    "    \"\"\"\n",
    "    LOAD CSV WITH HEADERS FROM \"file:///nr-station-links.csv\" AS track\n",
    "    MATCH (from:Station {crs: track.from})\n",
    "    MATCH (to:Station {crs: track.to})\n",
    "    MERGE (from)-[:TRACK {distance: round( toFloat(track.distance), 2 )}]->(to)\n",
    "    \"\"\"\n",
    ")"
   ]
  },
  {
   "cell_type": "code",
   "execution_count": 48,
   "id": "b87626f0-dbe2-4dea-af8b-380dacd2a8a1",
   "metadata": {
    "tags": []
   },
   "outputs": [
    {
     "data": {
      "text/plain": [
       "(Graph({'graphName': 'trains', 'nodeCount': 2593, 'relationshipCount': 5782, 'database': 'neo4j', 'configuration': {'relationshipQuery': 'MATCH (s1:Station)-[t:TRACK]->(s2:Station)\\n    RETURN id(s1) AS source, id(s2) AS target, t.distance AS distance', 'creationTime': neo4j.time.DateTime(2023, 9, 28, 15, 12, 4, 11708900, tzinfo=<DstTzInfo 'America/Denver' MDT-1 day, 18:00:00 DST>), 'validateRelationships': True, 'nodeQuery': 'MATCH (s:Station) RETURN id(s) AS id', 'sudo': True, 'readConcurrency': 4, 'parameters': {}, 'username': None}, 'schema': {'relationships': {'__ALL__': {'distance': 'Float (DefaultValue(NaN), PERSISTENT, Aggregation.NONE)'}}, 'nodes': {'__ALL__': {}}}, 'memoryUsage': '7059 KiB'}),\n",
       " nodeQuery                         MATCH (s:Station) RETURN id(s) AS id\n",
       " relationshipQuery    MATCH (s1:Station)-[t:TRACK]->(s2:Station)\\n  ...\n",
       " graphName                                                       trains\n",
       " nodeCount                                                         2593\n",
       " relationshipCount                                                 5782\n",
       " projectMillis                                                       26\n",
       " Name: 0, dtype: object)"
      ]
     },
     "execution_count": 48,
     "metadata": {},
     "output_type": "execute_result"
    }
   ],
   "source": [
    "# Create Graph Projection\n",
    "gds.graph.project.cypher(\n",
    "    graph_name='trains',\n",
    "    node_spec='MATCH (s:Station) RETURN id(s) AS id',\n",
    "    relationship_spec=\n",
    "    \"\"\"\n",
    "    MATCH (s1:Station)-[t:TRACK]->(s2:Station)\n",
    "    RETURN id(s1) AS source, id(s2) AS target, t.distance AS distance\n",
    "    \"\"\"\n",
    ")"
   ]
  },
  {
   "cell_type": "code",
   "execution_count": 49,
   "id": "0255a38e-c5f0-4b7c-9103-1025d7f55a85",
   "metadata": {
    "tags": []
   },
   "outputs": [
    {
     "name": "stdout",
     "output_type": "stream",
     "text": [
      "Shortest distance: 295.91\n"
     ]
    }
   ],
   "source": [
    "#  compute the shortest path between Birmingham New Street and Edinburgh\n",
    "\n",
    "bham = gds.find_node_id([\"Station\"], {\"name\": \"Birmingham New Street\"})\n",
    "eboro = gds.find_node_id([\"Station\"], {\"name\": \"Edinburgh\"})\n",
    "\n",
    "shortest_path = gds.shortestPath.dijkstra.stream(\n",
    "    gds.graph.get(\"trains\"),\n",
    "    sourceNode=bham,\n",
    "    targetNode=eboro,\n",
    "    relationshipWeightProperty=\"distance\"\n",
    ")\n",
    "\n",
    "print(\"Shortest distance: %s\" % shortest_path.get('costs').get(0)[-1])"
   ]
  },
  {
   "cell_type": "code",
   "execution_count": 50,
   "id": "804c5b3d-d515-4faf-80e2-c80f25a0a2d4",
   "metadata": {
    "tags": []
   },
   "outputs": [
    {
     "name": "stdout",
     "output_type": "stream",
     "text": [
      "Station with highest centrality: Tamworth\n"
     ]
    }
   ],
   "source": [
    "# compute centrality scores for all railway stations in Great Britain\n",
    "\n",
    "graph = gds.graph.get(\"trains\")\n",
    "result = gds.betweenness.stream(graph)\n",
    "highest_score = result.sort_values(by=\"score\", ascending=False).iloc[0:1].get('nodeId')\n",
    "\n",
    "n = gds.run_cypher(f\"MATCH (s:Station) WHERE ID(s) = {int(highest_score)} RETURN s.name\")\n",
    "print(\"Station with highest centrality: %s\" % n[\"s.name\"][0])"
   ]
  },
  {
   "cell_type": "code",
   "execution_count": 51,
   "id": "58403714-70d5-48b1-bca7-4853ff9d7194",
   "metadata": {
    "tags": []
   },
   "outputs": [
    {
     "name": "stdout",
     "output_type": "stream",
     "text": [
      "Total number of stations: 2593\n",
      "Number of stations with betweenness score: 2593\n"
     ]
    }
   ],
   "source": [
    "# compute centrality scores for all railway stations in Great Britain\n",
    "\n",
    "\n",
    "graph = gds.graph.get(\"trains\")\n",
    "result = gds.betweenness.write(gds.graph.get(\"trains\"), writeProperty=\"betweenness\" )\n",
    "\n",
    "\n",
    "\n",
    "total_stations = gds.run_cypher(\"MATCH (s:Station) RETURN count(s) AS total_stations\")\n",
    "print(f'Total number of stations: {total_stations.iloc[0][0]}')\n",
    "\n",
    "\n",
    "\n",
    "processed_stations = gds.run_cypher(\n",
    "  \"\"\"\n",
    "  MATCH (s:Station)\n",
    "  WHERE s.betweenness IS NOT NULL\n",
    "  RETURN count(s) AS stations_processed\n",
    "  \"\"\")\n",
    "\n",
    "print(f'Number of stations with betweenness score: {processed_stations.iloc[0][0]}')\n",
    "\n",
    "gds.close()"
   ]
  },
  {
   "cell_type": "code",
   "execution_count": null,
   "id": "2aa388f5-342f-4549-9b2a-28db0e55d952",
   "metadata": {},
   "outputs": [],
   "source": []
  }
 ],
 "metadata": {
  "kernelspec": {
   "display_name": "Python 3 (ipykernel)",
   "language": "python",
   "name": "python3"
  },
  "language_info": {
   "codemirror_mode": {
    "name": "ipython",
    "version": 3
   },
   "file_extension": ".py",
   "mimetype": "text/x-python",
   "name": "python",
   "nbconvert_exporter": "python",
   "pygments_lexer": "ipython3",
   "version": "3.11.0"
  }
 },
 "nbformat": 4,
 "nbformat_minor": 5
}
